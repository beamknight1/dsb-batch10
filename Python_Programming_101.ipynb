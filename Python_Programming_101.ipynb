{
  "nbformat": 4,
  "nbformat_minor": 0,
  "metadata": {
    "colab": {
      "provenance": [],
      "authorship_tag": "ABX9TyMxcj4D7DMMSoRX7J3MbRo1",
      "include_colab_link": true
    },
    "kernelspec": {
      "name": "python3",
      "display_name": "Python 3"
    },
    "language_info": {
      "name": "python"
    }
  },
  "cells": [
    {
      "cell_type": "markdown",
      "metadata": {
        "id": "view-in-github",
        "colab_type": "text"
      },
      "source": [
        "<a href=\"https://colab.research.google.com/github/beamknight1/dsb-batch10/blob/main/Python_Programming_101.ipynb\" target=\"_parent\"><img src=\"https://colab.research.google.com/assets/colab-badge.svg\" alt=\"Open In Colab\"/></a>"
      ]
    },
    {
      "cell_type": "markdown",
      "source": [
        "## Hello World\n",
        "\n",
        "Basic `Python` for Data Analyst (Beginner)\n",
        "\n",
        "```python\n",
        "# code\n",
        "```\n",
        "\n",
        "### 5 Foundations for **coding**\n",
        "- variable\n",
        "- data type\n",
        "- data structure\n",
        "- control flow\n",
        "- function\n"
      ],
      "metadata": {
        "id": "y6vqZWk_Rtcc"
      }
    },
    {
      "cell_type": "code",
      "execution_count": null,
      "metadata": {
        "colab": {
          "base_uri": "https://localhost:8080/"
        },
        "id": "qht2tLKHQumJ",
        "outputId": "d43039dd-ee8c-47eb-cc3d-24234e1b004b"
      },
      "outputs": [
        {
          "output_type": "stream",
          "name": "stdout",
          "text": [
            "2\n",
            "6\n",
            "20.125\n"
          ]
        }
      ],
      "source": [
        "## basic calculation\n",
        "print(1+1)\n",
        "print(3*2)\n",
        "print((2+5)*23/8)"
      ]
    },
    {
      "cell_type": "code",
      "source": [
        "## floor division\n",
        "9//4 # we use //"
      ],
      "metadata": {
        "colab": {
          "base_uri": "https://localhost:8080/"
        },
        "id": "RKXS44KsSxB-",
        "outputId": "95210158-d8bc-4678-d638-e1c2e8b87e13"
      },
      "execution_count": null,
      "outputs": [
        {
          "output_type": "execute_result",
          "data": {
            "text/plain": [
              "2"
            ]
          },
          "metadata": {},
          "execution_count": 10
        }
      ]
    },
    {
      "cell_type": "code",
      "source": [
        "## modulo\n",
        "5 % 5"
      ],
      "metadata": {
        "colab": {
          "base_uri": "https://localhost:8080/"
        },
        "id": "5K_S0bXWTei0",
        "outputId": "b294284d-5de6-4d25-f5ff-f7469a5185a3"
      },
      "execution_count": null,
      "outputs": [
        {
          "output_type": "execute_result",
          "data": {
            "text/plain": [
              "0"
            ]
          },
          "metadata": {},
          "execution_count": 12
        }
      ]
    },
    {
      "cell_type": "code",
      "source": [
        "## fucntion for calculation\n",
        "pow(5,3)\n",
        "print(5**4)"
      ],
      "metadata": {
        "colab": {
          "base_uri": "https://localhost:8080/"
        },
        "id": "ARiswYlxTrdF",
        "outputId": "e2298b9f-f29d-40bb-d7b4-7b74cea71439"
      },
      "execution_count": null,
      "outputs": [
        {
          "output_type": "stream",
          "name": "stdout",
          "text": [
            "625\n"
          ]
        }
      ]
    },
    {
      "cell_type": "code",
      "source": [
        "## variable\n",
        "x = 100\n",
        "y = 2\n",
        "pow(x, y)"
      ],
      "metadata": {
        "colab": {
          "base_uri": "https://localhost:8080/"
        },
        "id": "cD5V_yMKT8LA",
        "outputId": "ce29ce51-b952-4e6d-d132-eca4fc0e2cc1"
      },
      "execution_count": null,
      "outputs": [
        {
          "output_type": "execute_result",
          "data": {
            "text/plain": [
              "10000"
            ]
          },
          "metadata": {},
          "execution_count": 17
        }
      ]
    },
    {
      "cell_type": "code",
      "source": [
        "my_university_name = \"Chulalongkorn\""
      ],
      "metadata": {
        "id": "m6GCI6OlUWkI"
      },
      "execution_count": null,
      "outputs": []
    },
    {
      "cell_type": "code",
      "source": [
        "my_university_name"
      ],
      "metadata": {
        "colab": {
          "base_uri": "https://localhost:8080/",
          "height": 35
        },
        "id": "qVTMfUTNUdAK",
        "outputId": "676f78c7-cb60-4b79-8645-8386ef4fb297"
      },
      "execution_count": null,
      "outputs": [
        {
          "output_type": "execute_result",
          "data": {
            "text/plain": [
              "'Chulalongkorn'"
            ],
            "application/vnd.google.colaboratory.intrinsic+json": {
              "type": "string"
            }
          },
          "metadata": {},
          "execution_count": 19
        }
      ]
    },
    {
      "cell_type": "code",
      "source": [
        "## Keywords in Python are in purple\n",
        "del my_university_name"
      ],
      "metadata": {
        "id": "6_o290_UUiID"
      },
      "execution_count": null,
      "outputs": []
    },
    {
      "cell_type": "code",
      "source": [
        "## Replace value\n",
        "x = 100\n",
        "x = 150\n",
        "print(x)"
      ],
      "metadata": {
        "colab": {
          "base_uri": "https://localhost:8080/"
        },
        "id": "SdVvlsmJU2x-",
        "outputId": "a2c8c735-e7f0-4f87-fb28-5913b6723d51"
      },
      "execution_count": null,
      "outputs": [
        {
          "output_type": "stream",
          "name": "stdout",
          "text": [
            "150\n"
          ]
        }
      ]
    },
    {
      "cell_type": "code",
      "source": [
        "## Declare multiple variables\n",
        "x, y, z = 1, 2, 3\n",
        "print(x,y,z)"
      ],
      "metadata": {
        "colab": {
          "base_uri": "https://localhost:8080/"
        },
        "id": "vNTS3wmcU-O_",
        "outputId": "ce50cb5f-2ac2-4edf-d6d8-9ca2da9dd317"
      },
      "execution_count": null,
      "outputs": [
        {
          "output_type": "stream",
          "name": "stdout",
          "text": [
            "1 2 3\n"
          ]
        }
      ]
    },
    {
      "cell_type": "code",
      "source": [
        "## R for small data, prototyping\n",
        "## Python for large data, software, data science, AI, app\n",
        "\n",
        "## R is a statistical language (specialist) vs. Python is a general language (generalist)"
      ],
      "metadata": {
        "id": "ZGr9sDSDVGSR"
      },
      "execution_count": null,
      "outputs": []
    },
    {
      "cell_type": "code",
      "source": [
        "## variable\n",
        "my_name = \"Beam\"\n",
        "age = 27\n",
        "friends = [\"Mix\", \"Chato\", \"Mek\"] ## list which can be updated value\n",
        "fav_food = (\"sushi\", \"udon\") ## tuple which cannot be updated value"
      ],
      "metadata": {
        "id": "aEWMwz1MV6JQ"
      },
      "execution_count": null,
      "outputs": []
    },
    {
      "cell_type": "code",
      "source": [
        "friends[0] = \"Tuchapol\""
      ],
      "metadata": {
        "id": "ozVXGHuvW2K4"
      },
      "execution_count": null,
      "outputs": []
    },
    {
      "cell_type": "code",
      "source": [
        "friends[0] = \"Mix\""
      ],
      "metadata": {
        "id": "RQuwj_q0W3uK"
      },
      "execution_count": null,
      "outputs": []
    },
    {
      "cell_type": "code",
      "source": [
        "friends"
      ],
      "metadata": {
        "colab": {
          "base_uri": "https://localhost:8080/"
        },
        "id": "sCYfUqkeW-hl",
        "outputId": "e4a19d4a-3b0a-4609-f338-172d6be46a0c"
      },
      "execution_count": null,
      "outputs": [
        {
          "output_type": "execute_result",
          "data": {
            "text/plain": [
              "['Mix', 'Chato', 'Mek']"
            ]
          },
          "metadata": {},
          "execution_count": 33
        }
      ]
    },
    {
      "cell_type": "code",
      "source": [
        "## data types\n",
        "## int, float, str, bool\n",
        "age = 27\n",
        "type(age)"
      ],
      "metadata": {
        "colab": {
          "base_uri": "https://localhost:8080/"
        },
        "id": "kXZNaSwSXFH4",
        "outputId": "1e6c1b5a-62f0-4c44-9401-52540ab2e51f"
      },
      "execution_count": null,
      "outputs": [
        {
          "output_type": "execute_result",
          "data": {
            "text/plain": [
              "int"
            ]
          },
          "metadata": {},
          "execution_count": 35
        }
      ]
    },
    {
      "cell_type": "code",
      "source": [
        "gpa = 3.76\n",
        "type(gpa)"
      ],
      "metadata": {
        "colab": {
          "base_uri": "https://localhost:8080/"
        },
        "id": "5iAMme5djf3r",
        "outputId": "c767b62b-a94e-4970-f41c-318168a891a9"
      },
      "execution_count": null,
      "outputs": [
        {
          "output_type": "execute_result",
          "data": {
            "text/plain": [
              "float"
            ]
          },
          "metadata": {},
          "execution_count": 39
        }
      ]
    },
    {
      "cell_type": "code",
      "source": [
        "name = \"Beam\"\n",
        "type(name)"
      ],
      "metadata": {
        "colab": {
          "base_uri": "https://localhost:8080/"
        },
        "id": "HeKB1b7njuGF",
        "outputId": "9a93683a-86cd-4bf0-e8c6-cd43fde59d73"
      },
      "execution_count": null,
      "outputs": [
        {
          "output_type": "execute_result",
          "data": {
            "text/plain": [
              "str"
            ]
          },
          "metadata": {},
          "execution_count": 40
        }
      ]
    },
    {
      "cell_type": "code",
      "source": [
        "result = age < 40\n",
        "print(result, type(result))"
      ],
      "metadata": {
        "colab": {
          "base_uri": "https://localhost:8080/"
        },
        "id": "ZmlZcJQEjvXn",
        "outputId": "cfc96ba4-15a2-4377-dfa9-cb5e026df6b8"
      },
      "execution_count": null,
      "outputs": [
        {
          "output_type": "stream",
          "name": "stdout",
          "text": [
            "True <class 'bool'>\n"
          ]
        }
      ]
    },
    {
      "cell_type": "code",
      "source": [
        "## convert type\n",
        "float(age)\n",
        "str(age)\n",
        "int(result)"
      ],
      "metadata": {
        "colab": {
          "base_uri": "https://localhost:8080/"
        },
        "id": "s96hdzp-j3mc",
        "outputId": "6dc383c1-d5cd-4cec-ba9e-001d34217ab3"
      },
      "execution_count": null,
      "outputs": [
        {
          "output_type": "execute_result",
          "data": {
            "text/plain": [
              "1"
            ]
          },
          "metadata": {},
          "execution_count": 46
        }
      ]
    },
    {
      "cell_type": "markdown",
      "source": [
        "## **Working with String**"
      ],
      "metadata": {
        "id": "VXXn9TkakpTA"
      }
    },
    {
      "cell_type": "code",
      "source": [
        "## fstring => format string\n",
        "name = \"Beam\"\n",
        "gpa = 3.76\n",
        "text = f\"{name} graduates from CU with gpa {gpa}.\"\n",
        "print(text)"
      ],
      "metadata": {
        "colab": {
          "base_uri": "https://localhost:8080/"
        },
        "id": "QDYf6Vd5k_Qd",
        "outputId": "971023b5-1357-4774-a90b-9d1e5c18170c"
      },
      "execution_count": null,
      "outputs": [
        {
          "output_type": "stream",
          "name": "stdout",
          "text": [
            "Beam graduates from CU with gpa 3.76.\n"
          ]
        }
      ]
    },
    {
      "cell_type": "code",
      "source": [
        "## long string with triple quote\n",
        "long_str = \"\"\"\n",
        "I love Mcdonald's\n",
        "Planning to have it for Lunch\n",
        "Very Cool!\n",
        "\"\"\""
      ],
      "metadata": {
        "id": "9Jc9IR7llVEW"
      },
      "execution_count": null,
      "outputs": []
    },
    {
      "cell_type": "code",
      "source": [
        "long_str"
      ],
      "metadata": {
        "colab": {
          "base_uri": "https://localhost:8080/",
          "height": 35
        },
        "id": "nGuITZgVmieW",
        "outputId": "82436759-5dc7-44ec-851e-16726faabfad"
      },
      "execution_count": null,
      "outputs": [
        {
          "output_type": "execute_result",
          "data": {
            "text/plain": [
              "\"\\nI love Mcdonald's\\nPlanning to have it for Lunch\\nVery Cool!\\n\""
            ],
            "application/vnd.google.colaboratory.intrinsic+json": {
              "type": "string"
            }
          },
          "metadata": {},
          "execution_count": 51
        }
      ]
    },
    {
      "cell_type": "code",
      "source": [
        "## function vs. method\n",
        "text = \"A duck walks into a bar\"\n",
        "len(text)\n",
        "print(text)"
      ],
      "metadata": {
        "colab": {
          "base_uri": "https://localhost:8080/"
        },
        "id": "VcSUe9abmpjb",
        "outputId": "ec92260f-21cd-44ad-deec-c2266c0a282a"
      },
      "execution_count": null,
      "outputs": [
        {
          "output_type": "stream",
          "name": "stdout",
          "text": [
            "A duck walks into a bar\n"
          ]
        }
      ]
    },
    {
      "cell_type": "code",
      "source": [
        "## method is a function created specificly to an object\n",
        "## string method\n",
        "text.replace(\"duck\", \"lion\")"
      ],
      "metadata": {
        "colab": {
          "base_uri": "https://localhost:8080/",
          "height": 35
        },
        "id": "Z0nugMZHnD8f",
        "outputId": "7df05535-1c76-4f58-e9cb-2fe06eb2fc20"
      },
      "execution_count": null,
      "outputs": [
        {
          "output_type": "execute_result",
          "data": {
            "text/plain": [
              "'A lion walks into a bar'"
            ],
            "application/vnd.google.colaboratory.intrinsic+json": {
              "type": "string"
            }
          },
          "metadata": {},
          "execution_count": 56
        }
      ]
    },
    {
      "cell_type": "code",
      "source": [
        "text.upper()"
      ],
      "metadata": {
        "colab": {
          "base_uri": "https://localhost:8080/",
          "height": 35
        },
        "id": "qJVTifSUnXu2",
        "outputId": "eff4065d-31da-4e4e-ee1a-d31d2652c1ed"
      },
      "execution_count": null,
      "outputs": [
        {
          "output_type": "execute_result",
          "data": {
            "text/plain": [
              "'A DUCK WALKS INTO A BAR'"
            ],
            "application/vnd.google.colaboratory.intrinsic+json": {
              "type": "string"
            }
          },
          "metadata": {},
          "execution_count": 57
        }
      ]
    },
    {
      "cell_type": "code",
      "source": [
        "text.count(\"A\")"
      ],
      "metadata": {
        "colab": {
          "base_uri": "https://localhost:8080/"
        },
        "id": "a77UXD2_npOW",
        "outputId": "107ab957-f444-4583-83aa-55f1c60f22f5"
      },
      "execution_count": null,
      "outputs": [
        {
          "output_type": "execute_result",
          "data": {
            "text/plain": [
              "1"
            ]
          },
          "metadata": {},
          "execution_count": 60
        }
      ]
    },
    {
      "cell_type": "code",
      "source": [
        "text.split()"
      ],
      "metadata": {
        "colab": {
          "base_uri": "https://localhost:8080/"
        },
        "id": "W93FkSQIoGLq",
        "outputId": "e51706a5-9ab1-4d01-a8c7-4496f5e21020"
      },
      "execution_count": null,
      "outputs": [
        {
          "output_type": "execute_result",
          "data": {
            "text/plain": [
              "['A', 'duck', 'walks', 'into', 'a', 'bar']"
            ]
          },
          "metadata": {},
          "execution_count": 59
        }
      ]
    },
    {
      "cell_type": "code",
      "source": [
        "\"strawberry\".count(\"r\")"
      ],
      "metadata": {
        "colab": {
          "base_uri": "https://localhost:8080/"
        },
        "id": "ZZsKhTQIoIwi",
        "outputId": "c0765f90-0ab0-478e-e6f7-ac67e1be1deb"
      },
      "execution_count": null,
      "outputs": [
        {
          "output_type": "execute_result",
          "data": {
            "text/plain": [
              "3"
            ]
          },
          "metadata": {},
          "execution_count": 61
        }
      ]
    },
    {
      "cell_type": "code",
      "source": [
        "text = text.replace(\"duck\", \"lion\")\n",
        "text"
      ],
      "metadata": {
        "colab": {
          "base_uri": "https://localhost:8080/",
          "height": 35
        },
        "id": "_L28woMIr3UN",
        "outputId": "c1621e93-d7ea-4b8f-e804-534059647f37"
      },
      "execution_count": null,
      "outputs": [
        {
          "output_type": "execute_result",
          "data": {
            "text/plain": [
              "'A lion walks into a bar'"
            ],
            "application/vnd.google.colaboratory.intrinsic+json": {
              "type": "string"
            }
          },
          "metadata": {},
          "execution_count": 66
        }
      ]
    },
    {
      "cell_type": "code",
      "source": [
        "result = text.split()"
      ],
      "metadata": {
        "id": "HT6mfo2QsKoE"
      },
      "execution_count": null,
      "outputs": []
    },
    {
      "cell_type": "code",
      "source": [
        "\" \".join(result)\n",
        "print(text)"
      ],
      "metadata": {
        "colab": {
          "base_uri": "https://localhost:8080/"
        },
        "id": "ru-DUL89sNL_",
        "outputId": "5416fd7e-7deb-4a96-bf73-c47757a27fe5"
      },
      "execution_count": null,
      "outputs": [
        {
          "output_type": "stream",
          "name": "stdout",
          "text": [
            "A lion walks into a bar\n"
          ]
        }
      ]
    },
    {
      "cell_type": "code",
      "source": [
        "## index start from 0\n",
        "text = \"python\"\n",
        "text[0]\n",
        "text[-1]"
      ],
      "metadata": {
        "colab": {
          "base_uri": "https://localhost:8080/",
          "height": 35
        },
        "id": "TFod89uqso54",
        "outputId": "e47af38a-5466-41fb-eac2-90ee21a52d7b"
      },
      "execution_count": null,
      "outputs": [
        {
          "output_type": "execute_result",
          "data": {
            "text/plain": [
              "'n'"
            ],
            "application/vnd.google.colaboratory.intrinsic+json": {
              "type": "string"
            }
          },
          "metadata": {},
          "execution_count": 70
        }
      ]
    },
    {
      "cell_type": "code",
      "source": [
        "## slice text\n",
        "text[0:3]"
      ],
      "metadata": {
        "colab": {
          "base_uri": "https://localhost:8080/",
          "height": 35
        },
        "id": "WSPTCdzRs6Xt",
        "outputId": "92622e85-2d53-4ed8-867e-4b64e36b8e5f"
      },
      "execution_count": null,
      "outputs": [
        {
          "output_type": "execute_result",
          "data": {
            "text/plain": [
              "'pyt'"
            ],
            "application/vnd.google.colaboratory.intrinsic+json": {
              "type": "string"
            }
          },
          "metadata": {},
          "execution_count": 71
        }
      ]
    },
    {
      "cell_type": "code",
      "source": [
        "## text + text\n",
        "(\"Python\" + \" is awesome\" + \" and I love it.\")[5:]"
      ],
      "metadata": {
        "colab": {
          "base_uri": "https://localhost:8080/",
          "height": 35
        },
        "id": "LrMHATDBtNF7",
        "outputId": "7ac1d90d-28ff-429d-aa9b-fc81e13ed4f3"
      },
      "execution_count": null,
      "outputs": [
        {
          "output_type": "execute_result",
          "data": {
            "text/plain": [
              "'n is awesome and I love it.'"
            ],
            "application/vnd.google.colaboratory.intrinsic+json": {
              "type": "string"
            }
          },
          "metadata": {},
          "execution_count": 76
        }
      ]
    },
    {
      "cell_type": "code",
      "source": [
        "\"hello\" * 3"
      ],
      "metadata": {
        "colab": {
          "base_uri": "https://localhost:8080/",
          "height": 35
        },
        "id": "O2pqHbHTtvrB",
        "outputId": "9fd9a9c0-489e-4d25-f16d-5db77f816f87"
      },
      "execution_count": null,
      "outputs": [
        {
          "output_type": "execute_result",
          "data": {
            "text/plain": [
              "'hellohellohello'"
            ],
            "application/vnd.google.colaboratory.intrinsic+json": {
              "type": "string"
            }
          },
          "metadata": {},
          "execution_count": 74
        }
      ]
    },
    {
      "cell_type": "code",
      "source": [
        "\"My name is Beam\"[::-1]"
      ],
      "metadata": {
        "colab": {
          "base_uri": "https://localhost:8080/",
          "height": 35
        },
        "id": "Tdlnq6Cbt1xJ",
        "outputId": "022fcfe1-21f0-4c07-c057-2f5f5c759667"
      },
      "execution_count": null,
      "outputs": [
        {
          "output_type": "execute_result",
          "data": {
            "text/plain": [
              "'maeB si eman yM'"
            ],
            "application/vnd.google.colaboratory.intrinsic+json": {
              "type": "string"
            }
          },
          "metadata": {},
          "execution_count": 77
        }
      ]
    },
    {
      "cell_type": "code",
      "source": [
        "\"I am learning python today\"[0:15:2] ## start at position 0 and stop at pos 14 (15-1) step every two string"
      ],
      "metadata": {
        "colab": {
          "base_uri": "https://localhost:8080/",
          "height": 35
        },
        "id": "-EChIipCuKxD",
        "outputId": "95a803a4-9b86-4e34-b67e-ddc08c9167e5"
      },
      "execution_count": null,
      "outputs": [
        {
          "output_type": "execute_result",
          "data": {
            "text/plain": [
              "'Ia erigp'"
            ],
            "application/vnd.google.colaboratory.intrinsic+json": {
              "type": "string"
            }
          },
          "metadata": {},
          "execution_count": 78
        }
      ]
    },
    {
      "cell_type": "code",
      "source": [
        "## String is immutable\n",
        "text = \"Python\"\n",
        "print(\"C\"+ text[1:]) ## we use text + text and slice to create new text"
      ],
      "metadata": {
        "colab": {
          "base_uri": "https://localhost:8080/"
        },
        "id": "3uQaCG7MudNb",
        "outputId": "3b008a08-2a78-4088-a369-10fb066e48ec"
      },
      "execution_count": null,
      "outputs": [
        {
          "output_type": "stream",
          "name": "stdout",
          "text": [
            "Cython\n"
          ]
        }
      ]
    },
    {
      "cell_type": "markdown",
      "source": [
        "## **Data Structures**\n",
        "\n",
        "1. List\n",
        "2. Tuple\n",
        "3. Dictionary\n",
        "4. Set"
      ],
      "metadata": {
        "id": "fDd7v0xGvRWP"
      }
    },
    {
      "cell_type": "code",
      "source": [
        "## list, ordered, mutable object\n",
        "shopping_list = [\"milk\", \"egg\", \"bread\", \"butter\"]"
      ],
      "metadata": {
        "id": "Dst7ytrcvYtP"
      },
      "execution_count": null,
      "outputs": []
    },
    {
      "cell_type": "code",
      "source": [
        "shopping_list[1] = \"eggs\""
      ],
      "metadata": {
        "id": "B4ev1oS3vnIa"
      },
      "execution_count": null,
      "outputs": []
    },
    {
      "cell_type": "code",
      "source": [
        "shopping_list"
      ],
      "metadata": {
        "colab": {
          "base_uri": "https://localhost:8080/"
        },
        "id": "1TgQRTDkvo4C",
        "outputId": "8e400c4e-0aef-4252-ad13-b2a1fac598c2"
      },
      "execution_count": null,
      "outputs": [
        {
          "output_type": "execute_result",
          "data": {
            "text/plain": [
              "['milk', 'eggs', 'bread', 'butter']"
            ]
          },
          "metadata": {},
          "execution_count": 90
        }
      ]
    },
    {
      "cell_type": "code",
      "source": [
        "## list method\n",
        "shopping_list.append(\"cheese\")\n",
        "shopping_list.remove(\"cheese\")"
      ],
      "metadata": {
        "id": "df0L-NdpwFqa"
      },
      "execution_count": null,
      "outputs": []
    },
    {
      "cell_type": "code",
      "source": [
        "shopping_list.remove(\"cheese\")"
      ],
      "metadata": {
        "id": "p0e4iR8UwK8p"
      },
      "execution_count": null,
      "outputs": []
    },
    {
      "cell_type": "code",
      "source": [
        "shopping_list"
      ],
      "metadata": {
        "colab": {
          "base_uri": "https://localhost:8080/"
        },
        "id": "yEuHxK0XwXhi",
        "outputId": "3fafff94-b2a6-42ed-decf-c786ab127f18"
      },
      "execution_count": null,
      "outputs": [
        {
          "output_type": "execute_result",
          "data": {
            "text/plain": [
              "['milk', 'eggs', 'bread', 'butter', 'cheese']"
            ]
          },
          "metadata": {},
          "execution_count": 98
        }
      ]
    },
    {
      "cell_type": "code",
      "source": [
        "shopping_list.pop()"
      ],
      "metadata": {
        "colab": {
          "base_uri": "https://localhost:8080/",
          "height": 35
        },
        "id": "SWXxQ3VvwgZj",
        "outputId": "5fae44d5-0e69-458c-e1d9-a88260f58866"
      },
      "execution_count": null,
      "outputs": [
        {
          "output_type": "execute_result",
          "data": {
            "text/plain": [
              "'cheese'"
            ],
            "application/vnd.google.colaboratory.intrinsic+json": {
              "type": "string"
            }
          },
          "metadata": {},
          "execution_count": 99
        }
      ]
    },
    {
      "cell_type": "code",
      "source": [
        "shopping_list.append(\"cheese\")"
      ],
      "metadata": {
        "id": "J3_pnlXmwlXb"
      },
      "execution_count": null,
      "outputs": []
    },
    {
      "cell_type": "code",
      "source": [
        "shopping_list.insert(2, \"mushroom\")"
      ],
      "metadata": {
        "id": "jf3LtMPpxOYR"
      },
      "execution_count": null,
      "outputs": []
    },
    {
      "cell_type": "code",
      "source": [
        "shopping_list"
      ],
      "metadata": {
        "colab": {
          "base_uri": "https://localhost:8080/"
        },
        "id": "yX2Yrua0xYca",
        "outputId": "877ee69f-2c31-4587-e404-65d619ce4e6e"
      },
      "execution_count": null,
      "outputs": [
        {
          "output_type": "execute_result",
          "data": {
            "text/plain": [
              "['milk', 'eggs', 'mushroom', 'bread', 'butter', 'cheese']"
            ]
          },
          "metadata": {},
          "execution_count": 103
        }
      ]
    },
    {
      "cell_type": "code",
      "source": [
        "shopping_list.count(\"milk\")"
      ],
      "metadata": {
        "colab": {
          "base_uri": "https://localhost:8080/"
        },
        "id": "541Z1QCAxuC_",
        "outputId": "0197c729-249e-42b7-fbac-40668accea1d"
      },
      "execution_count": null,
      "outputs": [
        {
          "output_type": "execute_result",
          "data": {
            "text/plain": [
              "1"
            ]
          },
          "metadata": {},
          "execution_count": 104
        }
      ]
    },
    {
      "cell_type": "code",
      "source": [
        "## list + list\n",
        "([\"item1\", \"item2\"] + [\"item3\", \"item4\"]) * 2"
      ],
      "metadata": {
        "colab": {
          "base_uri": "https://localhost:8080/"
        },
        "id": "dm7EYawKxxUk",
        "outputId": "ea78b17e-3e3b-453c-bf50-72ba4d2f1be6"
      },
      "execution_count": null,
      "outputs": [
        {
          "output_type": "execute_result",
          "data": {
            "text/plain": [
              "['item1', 'item2', 'item3', 'item4', 'item1', 'item2', 'item3', 'item4']"
            ]
          },
          "metadata": {},
          "execution_count": 106
        }
      ]
    },
    {
      "cell_type": "code",
      "source": [
        "shopping = shopping_list"
      ],
      "metadata": {
        "id": "afy-iYbfx7A-"
      },
      "execution_count": null,
      "outputs": []
    },
    {
      "cell_type": "code",
      "source": [
        "## loop through shopping list\n",
        "for item in shopping:\n",
        "    if len(item) < 6:\n",
        "        continue ## skip that item\n",
        "    else:\n",
        "        print(\"I need to buy \" +item)"
      ],
      "metadata": {
        "colab": {
          "base_uri": "https://localhost:8080/"
        },
        "id": "AgYznmrjyP0j",
        "outputId": "1cb1ab3d-37be-45c7-99fb-e88ac87da52e"
      },
      "execution_count": null,
      "outputs": [
        {
          "output_type": "stream",
          "name": "stdout",
          "text": [
            "I need to buy mushroom\n",
            "I need to buy butter\n",
            "I need to buy cheese\n"
          ]
        }
      ]
    },
    {
      "cell_type": "code",
      "source": [
        "## average revenue per user (ARPU)\n",
        "spending = [500, 1200, 800, 300, 900]\n",
        "for spend in spending:\n",
        "    if spend >= 900:\n",
        "        print(\"High spender\")\n",
        "    else:\n",
        "        print(\"Low spender\")"
      ],
      "metadata": {
        "colab": {
          "base_uri": "https://localhost:8080/"
        },
        "id": "GAhTmDysyWuM",
        "outputId": "fea5d76c-b15a-4e75-95cf-5b3eb1fe905a"
      },
      "execution_count": null,
      "outputs": [
        {
          "output_type": "stream",
          "name": "stdout",
          "text": [
            "Low spender\n",
            "High spender\n",
            "Low spender\n",
            "Low spender\n",
            "High spender\n"
          ]
        }
      ]
    },
    {
      "cell_type": "code",
      "source": [
        "## list comprehension\n",
        "scores = [80, 90, 75, 60, 59, 82]\n",
        "for score in scores:\n",
        "    if score >= 80:\n",
        "        print(score, \"Pass\")\n",
        "    else:\n",
        "        print(score, \"Fail\")"
      ],
      "metadata": {
        "colab": {
          "base_uri": "https://localhost:8080/"
        },
        "id": "4hoiWBmg0AO5",
        "outputId": "149ef3fa-e21d-4eaf-a1e0-bd82f2a26d16"
      },
      "execution_count": null,
      "outputs": [
        {
          "output_type": "stream",
          "name": "stdout",
          "text": [
            "80 Pass\n",
            "90 Pass\n",
            "75 Fail\n",
            "60 Fail\n",
            "59 Fail\n",
            "82 Pass\n"
          ]
        }
      ]
    },
    {
      "cell_type": "code",
      "source": [
        "## example\n",
        "scores = [80, 90, 75, 60, 59, 82]\n",
        "new_scores = [score+5 for score in scores]\n",
        "print(new_scores)"
      ],
      "metadata": {
        "colab": {
          "base_uri": "https://localhost:8080/"
        },
        "id": "b7nn-gx_0pAO",
        "outputId": "98e9b076-d364-46e7-a381-78ceb5f467b1"
      },
      "execution_count": null,
      "outputs": [
        {
          "output_type": "stream",
          "name": "stdout",
          "text": [
            "[85, 95, 80, 65, 64, 87]\n"
          ]
        }
      ]
    },
    {
      "cell_type": "code",
      "source": [
        "grades = [\"P\" if score >= 80 else \"F\"\n",
        "          for score in scores]\n",
        "print(grades)"
      ],
      "metadata": {
        "colab": {
          "base_uri": "https://localhost:8080/"
        },
        "id": "WkcZlZD30-uK",
        "outputId": "92ec3c2c-713d-4436-e5f4-dca0aa94255b"
      },
      "execution_count": null,
      "outputs": [
        {
          "output_type": "stream",
          "name": "stdout",
          "text": [
            "['P', 'P', 'F', 'F', 'F', 'P']\n"
          ]
        }
      ]
    },
    {
      "cell_type": "code",
      "source": [
        "## tuple, ordered, immutable\n",
        "## tuple unpacking\n",
        "beam, kat = 27, 28\n",
        "print(beam, kat)\n"
      ],
      "metadata": {
        "colab": {
          "base_uri": "https://localhost:8080/"
        },
        "id": "Q4WZMn7x1hIV",
        "outputId": "cef9bf78-d6a5-44cd-b1ab-19a92f4291ec"
      },
      "execution_count": null,
      "outputs": [
        {
          "output_type": "stream",
          "name": "stdout",
          "text": [
            "27 28\n"
          ]
        }
      ]
    },
    {
      "cell_type": "code",
      "source": [
        "names = (\"beam\", \"kat\", \"john\", \"toy\")\n",
        "names"
      ],
      "metadata": {
        "colab": {
          "base_uri": "https://localhost:8080/"
        },
        "id": "3adGAnF62Ffi",
        "outputId": "52684b2b-1a66-4eaf-f2cb-cb106e9209c7"
      },
      "execution_count": null,
      "outputs": [
        {
          "output_type": "execute_result",
          "data": {
            "text/plain": [
              "('beam', 'kat', 'john', 'toy')"
            ]
          },
          "metadata": {},
          "execution_count": 127
        }
      ]
    },
    {
      "cell_type": "code",
      "source": [
        "name[2]"
      ],
      "metadata": {
        "colab": {
          "base_uri": "https://localhost:8080/",
          "height": 35
        },
        "id": "xtwq-zOF2Lgn",
        "outputId": "f581e18c-02a1-46f4-95a7-8f762ca2a297"
      },
      "execution_count": null,
      "outputs": [
        {
          "output_type": "execute_result",
          "data": {
            "text/plain": [
              "'john'"
            ],
            "application/vnd.google.colaboratory.intrinsic+json": {
              "type": "string"
            }
          },
          "metadata": {},
          "execution_count": 122
        }
      ]
    },
    {
      "cell_type": "code",
      "source": [
        "name.index(\"beam\")"
      ],
      "metadata": {
        "colab": {
          "base_uri": "https://localhost:8080/"
        },
        "id": "v1_uDj0l2M7s",
        "outputId": "2a0bec15-3d8c-4956-c5ed-75a9a8e32a1c"
      },
      "execution_count": null,
      "outputs": [
        {
          "output_type": "execute_result",
          "data": {
            "text/plain": [
              "0"
            ]
          },
          "metadata": {},
          "execution_count": 126
        }
      ]
    },
    {
      "cell_type": "code",
      "source": [
        "for name in names:\n",
        "    print(f\"Hello! {name.capitalize()}\")"
      ],
      "metadata": {
        "colab": {
          "base_uri": "https://localhost:8080/"
        },
        "id": "jDOASmf02RwN",
        "outputId": "8e2693e2-4d75-43cd-bc30-459b13bd4ccb"
      },
      "execution_count": null,
      "outputs": [
        {
          "output_type": "stream",
          "name": "stdout",
          "text": [
            "Hello! Beam\n",
            "Hello! Kat\n",
            "Hello! John\n",
            "Hello! Toy\n"
          ]
        }
      ]
    },
    {
      "cell_type": "code",
      "source": [
        "## recap list\n",
        "complex_list = [\n",
        "    25, \"Star Wars\",\n",
        "    [1,2,3,4,5],\n",
        "    (\"Hello\", \"Ni hao\", \"Sawasdee\")\n",
        "]"
      ],
      "metadata": {
        "id": "HxtvlMHj20Rf"
      },
      "execution_count": null,
      "outputs": []
    },
    {
      "cell_type": "code",
      "source": [
        "complex_list[3][2]"
      ],
      "metadata": {
        "colab": {
          "base_uri": "https://localhost:8080/",
          "height": 35
        },
        "id": "wdp8Q8uZ3PHB",
        "outputId": "8a221881-6e26-4d68-896b-190a4ae86cff"
      },
      "execution_count": null,
      "outputs": [
        {
          "output_type": "execute_result",
          "data": {
            "text/plain": [
              "'Sawasdee'"
            ],
            "application/vnd.google.colaboratory.intrinsic+json": {
              "type": "string"
            }
          },
          "metadata": {},
          "execution_count": 132
        }
      ]
    },
    {
      "cell_type": "code",
      "source": [
        "## Dictionary is unordered, mutable\n",
        "## key-value pair similar to JSON\n",
        "customer_01 = {\n",
        "    \"name\": \"beam\",\n",
        "    \"age\": 27,\n",
        "    \"address\": \"Bangkok\",\n",
        "    \"fav_movie\": [\"Star Wars\", \"Harry Potter\"]\n",
        "}\n",
        "\n",
        "customer_01[\"fav_movie\"][0]"
      ],
      "metadata": {
        "colab": {
          "base_uri": "https://localhost:8080/",
          "height": 35
        },
        "id": "8ATGUiSv3SHX",
        "outputId": "41d07ae6-94e5-4e63-e0dc-6b589228308e"
      },
      "execution_count": null,
      "outputs": [
        {
          "output_type": "execute_result",
          "data": {
            "text/plain": [
              "'Star Wars'"
            ],
            "application/vnd.google.colaboratory.intrinsic+json": {
              "type": "string"
            }
          },
          "metadata": {},
          "execution_count": 134
        }
      ]
    },
    {
      "cell_type": "code",
      "source": [
        "## Dictionary method\n",
        "list(customer_01.keys())"
      ],
      "metadata": {
        "colab": {
          "base_uri": "https://localhost:8080/"
        },
        "id": "CTdPgZ2t4Hpk",
        "outputId": "ea2d77eb-4b94-428a-e388-586d3f0aad6e"
      },
      "execution_count": null,
      "outputs": [
        {
          "output_type": "execute_result",
          "data": {
            "text/plain": [
              "['name', 'age', 'address', 'fav_movie']"
            ]
          },
          "metadata": {},
          "execution_count": 137
        }
      ]
    },
    {
      "cell_type": "code",
      "source": [
        "## Key is immutable\n",
        "{0: \"beam\", 1: \"kat\"}"
      ],
      "metadata": {
        "colab": {
          "base_uri": "https://localhost:8080/"
        },
        "id": "AUeNyfL99Xfg",
        "outputId": "6574f490-11b7-4c51-a212-8880303b9db5"
      },
      "execution_count": null,
      "outputs": [
        {
          "output_type": "execute_result",
          "data": {
            "text/plain": [
              "{0: 'beam', 1: 'kat'}"
            ]
          },
          "metadata": {},
          "execution_count": 139
        }
      ]
    },
    {
      "cell_type": "code",
      "source": [
        "customer_01.values()"
      ],
      "metadata": {
        "colab": {
          "base_uri": "https://localhost:8080/"
        },
        "id": "Q6urUKndBkzU",
        "outputId": "87ffca19-4408-471a-911b-a56ed091d1a1"
      },
      "execution_count": null,
      "outputs": [
        {
          "output_type": "execute_result",
          "data": {
            "text/plain": [
              "dict_values(['beam', 27, 'Bangkok', ['Star Wars', 'Harry Potter']])"
            ]
          },
          "metadata": {},
          "execution_count": 141
        }
      ]
    },
    {
      "cell_type": "code",
      "source": [
        "for item in list(customer_01.items()):\n",
        "    print(item[1])"
      ],
      "metadata": {
        "colab": {
          "base_uri": "https://localhost:8080/"
        },
        "id": "WJyqOwgVBtJ6",
        "outputId": "099cc9a9-d0dd-4ff2-ea4c-e6f1830c35f2"
      },
      "execution_count": null,
      "outputs": [
        {
          "output_type": "stream",
          "name": "stdout",
          "text": [
            "beam\n",
            "27\n",
            "Bangkok\n",
            "['Star Wars', 'Harry Potter']\n"
          ]
        }
      ]
    },
    {
      "cell_type": "code",
      "source": [
        "## create new key\n",
        "customer_01[\"fav_color\"] = \"red\"\n",
        "customer_01"
      ],
      "metadata": {
        "colab": {
          "base_uri": "https://localhost:8080/"
        },
        "id": "sR-5CLB8ByDp",
        "outputId": "0eb0ed75-2904-4be7-a888-d19365378ff8"
      },
      "execution_count": null,
      "outputs": [
        {
          "output_type": "execute_result",
          "data": {
            "text/plain": [
              "{'name': 'beam',\n",
              " 'age': 27,\n",
              " 'address': 'Bangkok',\n",
              " 'fav_movie': ['Star Wars', 'Harry Potter'],\n",
              " 'fav_color': 'red'}"
            ]
          },
          "metadata": {},
          "execution_count": 146
        }
      ]
    },
    {
      "cell_type": "code",
      "source": [
        "## delete key\n",
        "del customer_01[\"fav_color\"]\n",
        "customer_01"
      ],
      "metadata": {
        "colab": {
          "base_uri": "https://localhost:8080/"
        },
        "id": "yr3Dkm9cCSG4",
        "outputId": "8e382756-4199-4b17-99f8-3f57702e79bc"
      },
      "execution_count": null,
      "outputs": [
        {
          "output_type": "execute_result",
          "data": {
            "text/plain": [
              "{'name': 'beam',\n",
              " 'age': 27,\n",
              " 'address': 'Bangkok',\n",
              " 'fav_movie': ['Star Wars', 'Harry Potter']}"
            ]
          },
          "metadata": {},
          "execution_count": 147
        }
      ]
    },
    {
      "cell_type": "code",
      "source": [
        "customer_01[\"fav_food\"] = [\"sushi\", \"udon\", \"sashimi\"]"
      ],
      "metadata": {
        "id": "zjGIkKbwCZRU"
      },
      "execution_count": null,
      "outputs": []
    },
    {
      "cell_type": "code",
      "source": [
        "customer_01"
      ],
      "metadata": {
        "colab": {
          "base_uri": "https://localhost:8080/"
        },
        "id": "dRkCIbkAC0MW",
        "outputId": "a0544ae2-4412-473e-fa71-79ae90f7dc1b"
      },
      "execution_count": null,
      "outputs": [
        {
          "output_type": "execute_result",
          "data": {
            "text/plain": [
              "{'name': 'beam',\n",
              " 'age': 27,\n",
              " 'address': 'Bangkok',\n",
              " 'fav_movie': ['Star Wars', 'Harry Potter'],\n",
              " 'fav_food': ['sushi', 'udon', 'sashimi']}"
            ]
          },
          "metadata": {},
          "execution_count": 149
        }
      ]
    },
    {
      "cell_type": "code",
      "source": [
        "## update value\n",
        "customer_01[\"name\"] = \"kat\"\n",
        "customer_01"
      ],
      "metadata": {
        "colab": {
          "base_uri": "https://localhost:8080/"
        },
        "id": "v7A31IwvC118",
        "outputId": "d579a349-cbae-4ddb-9a29-3981321b086f"
      },
      "execution_count": null,
      "outputs": [
        {
          "output_type": "execute_result",
          "data": {
            "text/plain": [
              "{'name': 'kat',\n",
              " 'age': 27,\n",
              " 'address': 'Bangkok',\n",
              " 'fav_movie': ['Star Wars', 'Harry Potter'],\n",
              " 'fav_food': ['sushi', 'udon', 'sashimi']}"
            ]
          },
          "metadata": {},
          "execution_count": 150
        }
      ]
    },
    {
      "cell_type": "code",
      "source": [
        "## the last data structure: set\n",
        "## set is used to find unique/distinct value\n",
        "set([\"orange\", \"orange\", \"banana\"])"
      ],
      "metadata": {
        "colab": {
          "base_uri": "https://localhost:8080/"
        },
        "id": "BwfhmKygDD1y",
        "outputId": "c60c53a8-9ca5-4e99-b6e2-ea22dff49dce"
      },
      "execution_count": null,
      "outputs": [
        {
          "output_type": "execute_result",
          "data": {
            "text/plain": [
              "{'banana', 'orange'}"
            ]
          },
          "metadata": {},
          "execution_count": 151
        }
      ]
    },
    {
      "cell_type": "code",
      "source": [
        "## set operation\n",
        "\n",
        "mary = {\"orange\", \"apple\"}\n",
        "beam = {\"apple\", \"banana\"}\n",
        "\n",
        "## union\n",
        "mary | beam\n",
        "\n",
        "## intersection\n",
        "mary & beam\n",
        "\n",
        "## difference\n",
        "mary - beam"
      ],
      "metadata": {
        "colab": {
          "base_uri": "https://localhost:8080/"
        },
        "id": "E7BaSI2MDVjz",
        "outputId": "f77ccf65-ed22-4b48-bb0f-793fcfc21b23"
      },
      "execution_count": null,
      "outputs": [
        {
          "output_type": "execute_result",
          "data": {
            "text/plain": [
              "{'orange'}"
            ]
          },
          "metadata": {},
          "execution_count": 154
        }
      ]
    },
    {
      "cell_type": "markdown",
      "source": [
        "## **Function**\n",
        "\n",
        "User defined function"
      ],
      "metadata": {
        "id": "HWO2lpkXEmrP"
      }
    },
    {
      "cell_type": "code",
      "source": [
        "def hello(index):\n",
        "    print(f\"Hello {friends[index]}\")"
      ],
      "metadata": {
        "id": "k3Z0Y19KE2vo"
      },
      "execution_count": null,
      "outputs": []
    },
    {
      "cell_type": "code",
      "source": [
        "hello(2)"
      ],
      "metadata": {
        "colab": {
          "base_uri": "https://localhost:8080/"
        },
        "id": "Ef0CVQgSFBGf",
        "outputId": "dddbc49f-998d-40f5-ce46-a8d8c4af106d"
      },
      "execution_count": null,
      "outputs": [
        {
          "output_type": "stream",
          "name": "stdout",
          "text": [
            "Hello Mek\n"
          ]
        }
      ]
    },
    {
      "cell_type": "code",
      "source": [
        "def hello_2(name=\"beam\"):\n",
        "    print(\"Hello! \"  +name.capitalize())"
      ],
      "metadata": {
        "id": "p-5P1v9fFB6h"
      },
      "execution_count": null,
      "outputs": []
    },
    {
      "cell_type": "code",
      "source": [
        "hello_2()"
      ],
      "metadata": {
        "colab": {
          "base_uri": "https://localhost:8080/"
        },
        "id": "1vY3WOvJFg7w",
        "outputId": "c9eceb07-59c1-46c7-8672-04279e3a23ca"
      },
      "execution_count": null,
      "outputs": [
        {
          "output_type": "stream",
          "name": "stdout",
          "text": [
            "Hello! Beam\n"
          ]
        }
      ]
    },
    {
      "cell_type": "code",
      "source": [
        "## get input from user\n",
        "def greeting():\n",
        "    username = input(\"Enter your name: \")\n",
        "    result = f\"Hello! {username}\"\n",
        "    print(result)\n",
        "    action = input(\"What are you going to do today?\")\n",
        "    print(f\"You're going to {action}. That's great!\")"
      ],
      "metadata": {
        "id": "wxgWeqpoFiLs"
      },
      "execution_count": null,
      "outputs": []
    },
    {
      "cell_type": "code",
      "source": [
        "greeting()"
      ],
      "metadata": {
        "colab": {
          "base_uri": "https://localhost:8080/"
        },
        "id": "wwgJBCQyGEEn",
        "outputId": "182cd87c-dccb-4e99-b4ef-896ad7d0a351"
      },
      "execution_count": null,
      "outputs": [
        {
          "output_type": "stream",
          "name": "stdout",
          "text": [
            "Enter your name: beam\n",
            "Hello! beam\n",
            "What are you going to do today?swimming\n",
            "You're going to swimming. That's great!\n"
          ]
        }
      ]
    },
    {
      "cell_type": "code",
      "source": [
        "## function can have more than one parameter\n",
        "def cube(base=2, power=3):\n",
        "    return base ** power"
      ],
      "metadata": {
        "id": "7oF-Bi0LGFVg"
      },
      "execution_count": null,
      "outputs": []
    },
    {
      "cell_type": "code",
      "source": [
        "cube(1.06,30)"
      ],
      "metadata": {
        "colab": {
          "base_uri": "https://localhost:8080/"
        },
        "id": "hiOXL9c4HtFQ",
        "outputId": "8cae85a1-cb05-4736-c4b2-b0b2035f1642"
      },
      "execution_count": null,
      "outputs": [
        {
          "output_type": "execute_result",
          "data": {
            "text/plain": [
              "5.7434911729132585"
            ]
          },
          "metadata": {},
          "execution_count": 190
        }
      ]
    },
    {
      "cell_type": "code",
      "source": [
        "## lambda\n",
        "cube_lambda = lambda base, power: base ** power\n",
        "cube_lambda(2,3)\n",
        "\n",
        "# It is used to shorten defined function"
      ],
      "metadata": {
        "colab": {
          "base_uri": "https://localhost:8080/"
        },
        "id": "fJaXnVu-ITtB",
        "outputId": "63766b2f-6d66-4412-b7d1-82bed5e43b29"
      },
      "execution_count": null,
      "outputs": [
        {
          "output_type": "execute_result",
          "data": {
            "text/plain": [
              "8"
            ]
          },
          "metadata": {},
          "execution_count": 191
        }
      ]
    },
    {
      "cell_type": "markdown",
      "source": [
        "## **Control Flow**\n",
        "\n",
        "1. if\n",
        "2. for\n",
        "3. while"
      ],
      "metadata": {
        "id": "kr8nV2YkII52"
      }
    },
    {
      "cell_type": "code",
      "source": [
        "def grading(score):\n",
        "    \"\"\"\n",
        "    Input: score is a numeric data\n",
        "    Output: grade passed or failed\n",
        "    \"\"\"\n",
        "    if score >= 80:\n",
        "        return \"Passed\"\n",
        "    else:\n",
        "        return \"Failed\""
      ],
      "metadata": {
        "id": "lSRQDinDHvAz"
      },
      "execution_count": null,
      "outputs": []
    },
    {
      "cell_type": "code",
      "source": [
        "## multiple if else\n",
        "## we use 'elif' for python and 'else if' in R\n",
        "def full_grading(score):\n",
        "    if score >= 80:\n",
        "        return \"A\"\n",
        "    elif score >= 70:\n",
        "        return \"B\"\n",
        "    elif score >= 60:\n",
        "        return \"C\"\n",
        "    elif score >= 50:\n",
        "        return \"Retry the exam again.\""
      ],
      "metadata": {
        "id": "3gMV4hz8Jrs5"
      },
      "execution_count": null,
      "outputs": []
    },
    {
      "cell_type": "code",
      "source": [
        "full_grading(64)"
      ],
      "metadata": {
        "colab": {
          "base_uri": "https://localhost:8080/",
          "height": 35
        },
        "id": "tuS6lFW3JuBx",
        "outputId": "f967ac95-454e-47c1-9c09-93c7870dee7f"
      },
      "execution_count": null,
      "outputs": [
        {
          "output_type": "execute_result",
          "data": {
            "text/plain": [
              "'C'"
            ],
            "application/vnd.google.colaboratory.intrinsic+json": {
              "type": "string"
            }
          },
          "metadata": {},
          "execution_count": 199
        }
      ]
    },
    {
      "cell_type": "code",
      "source": [
        "# if multiple conditions\n",
        "# morning weekday => cereal\n",
        "# morning weekend => hamburger\n",
        "# else => fastng\n",
        "\n",
        "time = \"morning\"\n",
        "day = \"weekend\"\n",
        "if time == \"morning\" and day == \"weekday\":\n",
        "    print(\"I'm eating cereal.\")\n",
        "elif time == \"morning\" and day == \"weekend\":\n",
        "    print(\"I'm eating hamburger.\")\n",
        "else:\n",
        "    print(\"No eating, I'm fasting.\")"
      ],
      "metadata": {
        "colab": {
          "base_uri": "https://localhost:8080/"
        },
        "id": "PVZs1pNrKikT",
        "outputId": "455a48a4-cf77-4170-d3ff-1d5c769c96a7"
      },
      "execution_count": null,
      "outputs": [
        {
          "output_type": "stream",
          "name": "stdout",
          "text": [
            "I'm eating hamburger.\n"
          ]
        }
      ]
    },
    {
      "cell_type": "code",
      "source": [
        "## recap for\n",
        "\n",
        "for item in [\"orange\", \"apple\", \"banana\", \"date\"]:\n",
        "    if len(item) > 5:\n",
        "        print(item)"
      ],
      "metadata": {
        "colab": {
          "base_uri": "https://localhost:8080/"
        },
        "id": "iOe1i_77Lp4M",
        "outputId": "119e55f5-0fe1-4571-dade-dc2904e26426"
      },
      "execution_count": null,
      "outputs": [
        {
          "output_type": "stream",
          "name": "stdout",
          "text": [
            "orange\n",
            "banana\n"
          ]
        }
      ]
    },
    {
      "cell_type": "code",
      "source": [
        "## while loop\n",
        "\n",
        "count = 0\n",
        "\n",
        "while count < 5:\n",
        "    print(\"Hello World\")\n",
        "    count += 1 # or count = count + 1"
      ],
      "metadata": {
        "colab": {
          "base_uri": "https://localhost:8080/"
        },
        "id": "tSChxxV9L8N4",
        "outputId": "d443dc00-7d66-4456-9ab4-ab24374da9a0"
      },
      "execution_count": null,
      "outputs": [
        {
          "output_type": "stream",
          "name": "stdout",
          "text": [
            "Hello World\n",
            "Hello World\n",
            "Hello World\n",
            "Hello World\n",
            "Hello World\n"
          ]
        }
      ]
    },
    {
      "cell_type": "code",
      "source": [
        "from random import choice\n",
        "\n",
        "def pao_ying_chub():\n",
        "    hands = {1: \"scissor\", 2: \"rock\", 3: \"paper\"}\n",
        "    my_hand = choice(list(hands.values()))\n",
        "    print(\"Let's play a game!\")\n",
        "    print(\"Choose your hand:\")\n",
        "    print(\"1 = scissor, 2 = rock, 3 = paper\")\n",
        "\n",
        "    try:\n",
        "        user_choice = int(input(\"Enter the number corresponding to your hand: \"))\n",
        "        if user_choice not in hands:\n",
        "            print(\"Invalid input. Please choose a number between 1 and 3.\")\n",
        "            return pao_ying_chub()\n",
        "    except ValueError:\n",
        "        print(\"Invalid input. Please enter a number.\")\n",
        "        return pao_ying_chub()\n",
        "\n",
        "    user_hand = hands[user_choice]\n",
        "    print(f\"My hand is {my_hand} and your hand is {user_hand}\")\n",
        "\n",
        "    if my_hand == user_hand:\n",
        "        print(\"Draw\")\n",
        "    elif (my_hand == \"rock\" and user_hand == \"scissor\") or \\\n",
        "         (my_hand == \"paper\" and user_hand == \"rock\") or \\\n",
        "         (my_hand == \"scissor\" and user_hand == \"paper\"):\n",
        "        print(\"You lose\")\n",
        "    else:\n",
        "        print(\"You win\")\n",
        "\n",
        "    play_again = input(\"Wanna play again? (yes/no): \").lower()\n",
        "    if play_again in [\"yes\", \"y\"]:\n",
        "        pao_ying_chub()\n",
        "    else:\n",
        "        print(\"Thanks for playing!\")\n"
      ],
      "metadata": {
        "id": "_5bMXjcoNvxm"
      },
      "execution_count": null,
      "outputs": []
    },
    {
      "cell_type": "code",
      "source": [
        "pao_ying_chub()"
      ],
      "metadata": {
        "colab": {
          "base_uri": "https://localhost:8080/"
        },
        "id": "6M12uwFaOKgr",
        "outputId": "886cd084-0070-4c31-ff81-2a68843aaaea"
      },
      "execution_count": null,
      "outputs": [
        {
          "output_type": "stream",
          "name": "stdout",
          "text": [
            "Let's play a game!\n",
            "Choose your hand:\n",
            "1 = scissor, 2 = rock, 3 = paper\n",
            "Enter the number corresponding to your hand: 4\n",
            "Invalid input. Please choose a number between 1 and 3.\n",
            "Let's play a game!\n",
            "Choose your hand:\n",
            "1 = scissor, 2 = rock, 3 = paper\n",
            "Enter the number corresponding to your hand: 1\n",
            "My hand is paper and your hand is scissor\n",
            "You win\n",
            "Wanna play again? (yes/no): y\n",
            "Let's play a game!\n",
            "Choose your hand:\n",
            "1 = scissor, 2 = rock, 3 = paper\n",
            "Enter the number corresponding to your hand: 1\n",
            "My hand is paper and your hand is scissor\n",
            "You win\n",
            "Wanna play again? (yes/no): n\n",
            "Thanks for playing!\n"
          ]
        }
      ]
    },
    {
      "cell_type": "code",
      "source": [],
      "metadata": {
        "id": "7vfiGQnDOaLI"
      },
      "execution_count": null,
      "outputs": []
    }
  ]
}
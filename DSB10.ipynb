{
  "nbformat": 4,
  "nbformat_minor": 0,
  "metadata": {
    "colab": {
      "provenance": [],
      "authorship_tag": "ABX9TyOkkac12VJtNSEbotZgGXiH",
      "include_colab_link": true
    },
    "kernelspec": {
      "name": "python3",
      "display_name": "Python 3"
    },
    "language_info": {
      "name": "python"
    }
  },
  "cells": [
    {
      "cell_type": "markdown",
      "metadata": {
        "id": "view-in-github",
        "colab_type": "text"
      },
      "source": [
        "<a href=\"https://colab.research.google.com/github/beamknight1/dsb-batch10/blob/main/DSB10.ipynb\" target=\"_parent\"><img src=\"https://colab.research.google.com/assets/colab-badge.svg\" alt=\"Open In Colab\"/></a>"
      ]
    },
    {
      "cell_type": "markdown",
      "source": [
        "## **Outline Essential Python for Data**\n",
        "\n",
        "- Review data structures\n",
        "- OOP: Object Oriented Programming\n",
        "- Request API\n",
        "- Read SQLite\n",
        "- Library: numpy"
      ],
      "metadata": {
        "id": "UprSJKswVoLL"
      }
    },
    {
      "cell_type": "code",
      "source": [
        "## Review data structure\n",
        "## list, tuple, dictionary (JSON), set\n",
        "friends = [\"toy\", \"beam\", \"john\"]"
      ],
      "metadata": {
        "id": "1RXiMYlyV6gY"
      },
      "execution_count": null,
      "outputs": []
    },
    {
      "cell_type": "code",
      "source": [
        "## error handling\n",
        "## we use try and except to catch error\n",
        "try:\n",
        "    1/0\n",
        "except:\n",
        "    print(\"error\")\n",
        "finally:\n",
        "    print(\"This is completed\")\n"
      ],
      "metadata": {
        "colab": {
          "base_uri": "https://localhost:8080/"
        },
        "id": "BPKIueLyWWly",
        "outputId": "90f2a5ea-4833-414a-e3b4-97e7045b1e5f"
      },
      "execution_count": null,
      "outputs": [
        {
          "output_type": "stream",
          "name": "stdout",
          "text": [
            "error\n",
            "This is completed\n"
          ]
        }
      ]
    },
    {
      "cell_type": "code",
      "source": [
        "## Dictionary\n",
        "## key:value (JSON)\n",
        "\n",
        "id_01 = {\n",
        "    \"name\": \"beam\",\n",
        "    \"age\": 27,\n",
        "    \"gender\": \"male\"\n",
        "}"
      ],
      "metadata": {
        "id": "cG1VjXPpW89l"
      },
      "execution_count": null,
      "outputs": []
    },
    {
      "cell_type": "code",
      "source": [
        "id_01[\"age\"]"
      ],
      "metadata": {
        "colab": {
          "base_uri": "https://localhost:8080/"
        },
        "id": "cnFbXSvAXSTM",
        "outputId": "8e42f7f6-7dfb-473f-fd82-742efd185c59"
      },
      "execution_count": null,
      "outputs": [
        {
          "output_type": "execute_result",
          "data": {
            "text/plain": [
              "27"
            ]
          },
          "metadata": {},
          "execution_count": 11
        }
      ]
    },
    {
      "cell_type": "code",
      "source": [
        "## example loop in dictionary\n",
        "fruits = [\"orange\", \"banana\", \"banana\", \"orange\", \"orange\", \"grape\", \"durian\"]\n",
        "\n",
        "result = {} #empty dictionary\n",
        "\n",
        "for fruit in fruits:\n",
        "    if fruit in result:\n",
        "        result[fruit] += 1\n",
        "    else:\n",
        "        result[fruit] = 1\n",
        "print(result)"
      ],
      "metadata": {
        "colab": {
          "base_uri": "https://localhost:8080/"
        },
        "id": "HesCH3DyX7dh",
        "outputId": "296a19e3-b8ae-4450-aaf8-f7a23f60eee3"
      },
      "execution_count": null,
      "outputs": [
        {
          "output_type": "stream",
          "name": "stdout",
          "text": [
            "{'orange': 3, 'banana': 2, 'grape': 1, 'durian': 1}\n"
          ]
        }
      ]
    },
    {
      "cell_type": "code",
      "source": [],
      "metadata": {
        "id": "xZmF5b30ZBL9"
      },
      "execution_count": null,
      "outputs": []
    },
    {
      "cell_type": "markdown",
      "source": [
        "## **OOP**\n",
        "\n",
        "Object Oriented Programming"
      ],
      "metadata": {
        "id": "ZrmoHgjIZjlG"
      }
    },
    {
      "cell_type": "code",
      "source": [
        "class MooDeng():\n",
        "    def __init__(self, name, age, species): # initialization\n",
        "        self.name = name\n",
        "        self.age = age\n",
        "        self.species = species\n",
        "    def hello(self):\n",
        "        print(\"I'm MooDeng!\")\n",
        "    def sleep(self):\n",
        "        print(\"I'm going to bed now\")"
      ],
      "metadata": {
        "id": "dCOEFDo1ZqoG"
      },
      "execution_count": null,
      "outputs": []
    },
    {
      "cell_type": "code",
      "source": [
        "md = MooDeng(\"moodeng\", 1, \"hippo\")"
      ],
      "metadata": {
        "id": "v6XFcTB8aQi_"
      },
      "execution_count": null,
      "outputs": []
    },
    {
      "cell_type": "code",
      "source": [
        "md.hello()\n",
        "md.sleep()"
      ],
      "metadata": {
        "colab": {
          "base_uri": "https://localhost:8080/"
        },
        "id": "P0-HU79paXw0",
        "outputId": "b4669aa1-38a5-4cce-d9e5-97fcadaf2697"
      },
      "execution_count": null,
      "outputs": [
        {
          "output_type": "stream",
          "name": "stdout",
          "text": [
            "I'm MooDeng!\n",
            "I'm going to bed now\n"
          ]
        }
      ]
    },
    {
      "cell_type": "code",
      "source": [
        "print(md.name, md.age, md.species)"
      ],
      "metadata": {
        "colab": {
          "base_uri": "https://localhost:8080/"
        },
        "id": "Eqc4jB25bWjW",
        "outputId": "7afb3e21-c161-4511-f473-e4481b006727"
      },
      "execution_count": null,
      "outputs": [
        {
          "output_type": "stream",
          "name": "stdout",
          "text": [
            "moodeng 1 hippo\n"
          ]
        }
      ]
    },
    {
      "cell_type": "code",
      "source": [
        "beam = MooDeng(\"beam\", 27, \"dog\")"
      ],
      "metadata": {
        "id": "XY3WekrPbcSK"
      },
      "execution_count": null,
      "outputs": []
    },
    {
      "cell_type": "code",
      "source": [
        "print(beam.species)"
      ],
      "metadata": {
        "colab": {
          "base_uri": "https://localhost:8080/"
        },
        "id": "gpgIeZPQbmBm",
        "outputId": "4edf2035-147b-4bbd-aed0-f943c9605857"
      },
      "execution_count": null,
      "outputs": [
        {
          "output_type": "stream",
          "name": "stdout",
          "text": [
            "dog\n"
          ]
        }
      ]
    },
    {
      "cell_type": "code",
      "source": [
        "class User():\n",
        "    ## attribute = variable\n",
        "    def __init__(self, name, age, gender, city):\n",
        "        self.name = name\n",
        "        self.age = age\n",
        "        self.gender = gender\n",
        "        self.city = city\n",
        "\n",
        "    ## method = function\n",
        "    def upload_image(self):\n",
        "        print(\"Upload image successfully!\")\n",
        "\n",
        "    def add_age(self):\n",
        "        self.age += 1\n",
        "    def minus_age(self):\n",
        "        self.age -= 1\n",
        "\n",
        "    def __str__(self):\n",
        "        return f\"Name: {self.name}, Age: {self.age}, Gender: {self.gender}, City: {self.city}\""
      ],
      "metadata": {
        "id": "55O7Bqt9fM6U"
      },
      "execution_count": null,
      "outputs": []
    },
    {
      "cell_type": "code",
      "source": [
        "user1 = User(\"beam\", 27, \"male\", \"Singapore\")"
      ],
      "metadata": {
        "id": "BeyTwX0qf9Ej"
      },
      "execution_count": null,
      "outputs": []
    },
    {
      "cell_type": "code",
      "source": [
        "user1.upload_image()"
      ],
      "metadata": {
        "colab": {
          "base_uri": "https://localhost:8080/"
        },
        "id": "RjuITvrogBjU",
        "outputId": "02195a1d-d481-4f80-d4e0-85a40365bacc"
      },
      "execution_count": null,
      "outputs": [
        {
          "output_type": "stream",
          "name": "stdout",
          "text": [
            "Upload image successfully!\n"
          ]
        }
      ]
    },
    {
      "cell_type": "code",
      "source": [
        "user1.age"
      ],
      "metadata": {
        "colab": {
          "base_uri": "https://localhost:8080/"
        },
        "id": "fAf8NjrYgHV2",
        "outputId": "9b10c3cb-b809-40ca-c638-58e28d86eeb8"
      },
      "execution_count": null,
      "outputs": [
        {
          "output_type": "execute_result",
          "data": {
            "text/plain": [
              "27"
            ]
          },
          "metadata": {},
          "execution_count": 44
        }
      ]
    },
    {
      "cell_type": "code",
      "source": [
        "user1.add_age()\n",
        "user1.add_age()\n",
        "user1.add_age()"
      ],
      "metadata": {
        "id": "dckzMq7ag-VO"
      },
      "execution_count": null,
      "outputs": []
    },
    {
      "cell_type": "code",
      "source": [
        "user1.age"
      ],
      "metadata": {
        "colab": {
          "base_uri": "https://localhost:8080/"
        },
        "id": "NYlCCEo8hByQ",
        "outputId": "6bf4d3b4-de18-45f1-a60f-ee7ba735edb9"
      },
      "execution_count": null,
      "outputs": [
        {
          "output_type": "execute_result",
          "data": {
            "text/plain": [
              "30"
            ]
          },
          "metadata": {},
          "execution_count": 50
        }
      ]
    },
    {
      "cell_type": "code",
      "source": [
        "user1.minus_age()\n",
        "user1.minus_age()\n",
        "user1.minus_age()"
      ],
      "metadata": {
        "id": "cPGXfz_zhJEY"
      },
      "execution_count": null,
      "outputs": []
    },
    {
      "cell_type": "code",
      "source": [
        "user1.age"
      ],
      "metadata": {
        "colab": {
          "base_uri": "https://localhost:8080/"
        },
        "id": "D3hkXxoFhNV8",
        "outputId": "0b8a13a4-0f7a-4d68-c3ee-dc9a90d0a65c"
      },
      "execution_count": null,
      "outputs": [
        {
          "output_type": "execute_result",
          "data": {
            "text/plain": [
              "27"
            ]
          },
          "metadata": {},
          "execution_count": 53
        }
      ]
    },
    {
      "cell_type": "code",
      "source": [
        "print(user1)"
      ],
      "metadata": {
        "colab": {
          "base_uri": "https://localhost:8080/"
        },
        "id": "aS71zFpOhSbH",
        "outputId": "3ac9ea3d-b92c-4755-f9e1-09fc1d0a8f87"
      },
      "execution_count": null,
      "outputs": [
        {
          "output_type": "stream",
          "name": "stdout",
          "text": [
            "Name: beam, Age: 27, Gender: male, City: Singapore\n"
          ]
        }
      ]
    },
    {
      "cell_type": "code",
      "source": [
        "jessica = User(\"jessica\", 25, \"female\", \"London\")"
      ],
      "metadata": {
        "id": "pSy39Cc7htK1"
      },
      "execution_count": null,
      "outputs": []
    },
    {
      "cell_type": "code",
      "source": [
        "print(jessica)"
      ],
      "metadata": {
        "colab": {
          "base_uri": "https://localhost:8080/"
        },
        "id": "UtLYkR3kh8cQ",
        "outputId": "0805ae9a-e277-4bb0-d88f-f97e43c67b6a"
      },
      "execution_count": null,
      "outputs": [
        {
          "output_type": "stream",
          "name": "stdout",
          "text": [
            "Name: jessica, Age: 25, Gender: female, City: London\n"
          ]
        }
      ]
    },
    {
      "cell_type": "markdown",
      "source": [
        "## **ATM**"
      ],
      "metadata": {
        "id": "eLMyBfP8bsOa"
      }
    },
    {
      "cell_type": "code",
      "source": [
        "# OOP create ATM\n",
        "class ATM:\n",
        "    def __init__(self, name, balance):\n",
        "        self.name = name\n",
        "        self.balance = balance\n",
        "\n",
        "    def check_balance(self):\n",
        "        print(self.balance)\n",
        "\n",
        "    def deposit(self):\n",
        "        amount = int(input(\"Enter amount to be deposited: \"))\n",
        "        self.balance += amount\n",
        "        print(self.balance)\n",
        "\n",
        "    def withdraw(self):\n",
        "        amount = int(input(\"Enter the amount to be withdrawn: \"))\n",
        "        if self.balance < 0:\n",
        "            print(\"Insufficient balance\")\n",
        "        elif amount > self.balance:\n",
        "            print(\"Insufficient balance\")\n",
        "        else:\n",
        "            self.balance -= amount\n",
        "            print(self.balance)"
      ],
      "metadata": {
        "id": "pQUaNZr2h9zl"
      },
      "execution_count": null,
      "outputs": []
    },
    {
      "cell_type": "code",
      "source": [
        "account1 = ATM(\"beam\", 10000)"
      ],
      "metadata": {
        "id": "ztEC8oadimuf"
      },
      "execution_count": null,
      "outputs": []
    },
    {
      "cell_type": "code",
      "source": [
        "account1.deposit()"
      ],
      "metadata": {
        "colab": {
          "base_uri": "https://localhost:8080/"
        },
        "id": "6N0TYWlKirE6",
        "outputId": "a4485833-2e16-44ca-e4a3-2f986b949a39"
      },
      "execution_count": null,
      "outputs": [
        {
          "output_type": "stream",
          "name": "stdout",
          "text": [
            "Enter amount to be deposited: 5000\n",
            "15000\n"
          ]
        }
      ]
    },
    {
      "cell_type": "code",
      "source": [
        "account1.check_balance()"
      ],
      "metadata": {
        "colab": {
          "base_uri": "https://localhost:8080/"
        },
        "id": "1jvXuvL2iuF0",
        "outputId": "a5d6cbb4-5f1e-40e5-b6e4-be6259183d36"
      },
      "execution_count": null,
      "outputs": [
        {
          "output_type": "stream",
          "name": "stdout",
          "text": [
            "15000\n"
          ]
        }
      ]
    },
    {
      "cell_type": "code",
      "source": [
        "account1.withdraw()"
      ],
      "metadata": {
        "colab": {
          "base_uri": "https://localhost:8080/"
        },
        "id": "lSDQf0dti1Zl",
        "outputId": "a8cc17b4-40fa-42b0-8360-5ea8f228cee4"
      },
      "execution_count": null,
      "outputs": [
        {
          "output_type": "stream",
          "name": "stdout",
          "text": [
            "Enter the amount to be withdrawn: 5000\n",
            "5000\n"
          ]
        }
      ]
    },
    {
      "cell_type": "markdown",
      "source": [
        "## **Read CSV file**"
      ],
      "metadata": {
        "id": "8r6LLveW9LS2"
      }
    },
    {
      "cell_type": "code",
      "source": [
        "!pwd"
      ],
      "metadata": {
        "colab": {
          "base_uri": "https://localhost:8080/"
        },
        "id": "3LFoh6QU9Up4",
        "outputId": "2d3f6a17-cc26-4166-a06e-fc833a955d98"
      },
      "execution_count": null,
      "outputs": [
        {
          "output_type": "stream",
          "name": "stdout",
          "text": [
            "/content\n"
          ]
        }
      ]
    },
    {
      "cell_type": "code",
      "source": [
        "!ls"
      ],
      "metadata": {
        "colab": {
          "base_uri": "https://localhost:8080/"
        },
        "id": "aR5AO2Yo-aiB",
        "outputId": "45e9e56a-13ac-4c68-de5f-5053dfea096d"
      },
      "execution_count": null,
      "outputs": [
        {
          "output_type": "stream",
          "name": "stdout",
          "text": [
            "sample_data\n"
          ]
        }
      ]
    },
    {
      "cell_type": "code",
      "source": [
        "!mkdir newFolder"
      ],
      "metadata": {
        "id": "RE1ZMvao-cI9"
      },
      "execution_count": null,
      "outputs": []
    },
    {
      "cell_type": "code",
      "source": [
        "!ls"
      ],
      "metadata": {
        "colab": {
          "base_uri": "https://localhost:8080/"
        },
        "id": "X9ig9adW-ogf",
        "outputId": "469a7a16-c93e-4261-c4a1-d7fa6a7cf652"
      },
      "execution_count": null,
      "outputs": [
        {
          "output_type": "stream",
          "name": "stdout",
          "text": [
            "customer_arpu.csv  sample_data\n"
          ]
        }
      ]
    },
    {
      "cell_type": "code",
      "source": [
        "## without with\n",
        "import csv\n",
        "\n",
        "data = []\n",
        "\n",
        "try:\n",
        "    file = open(\"customer_arpu.csv\", \"r\")\n",
        "    csvreader = csv.reader(file)\n",
        "    for row in csvreader:\n",
        "        data.append(row)\n",
        "\n",
        "    print(data)\n",
        "    file.close()\n",
        "except:\n",
        "    print(\"File not found, please check file name again.\")"
      ],
      "metadata": {
        "colab": {
          "base_uri": "https://localhost:8080/"
        },
        "id": "SnNPW5qZ-tG1",
        "outputId": "31036dff-2873-4263-edce-544c6023eb20"
      },
      "execution_count": null,
      "outputs": [
        {
          "output_type": "stream",
          "name": "stdout",
          "text": [
            "[['id', 'name', 'arpu', 'city'], ['1', 'john', '500', 'BKK'], ['2', 'beam', '250', 'BKK'], ['3', 'anne', '300', 'BKK'], ['4', 'jessica', '400', 'LDN'], ['5', 'joy', '800', 'LDN']]\n"
          ]
        }
      ]
    },
    {
      "cell_type": "code",
      "source": [
        "## with\n",
        "import csv\n",
        "\n",
        "data = []\n",
        "\n",
        "try:\n",
        "    with open(\"customer_arpu.csv\", \"r\") as file:\n",
        "        csvreader = csv.reader(file)\n",
        "        for row in csvreader:\n",
        "            data.append(row)\n",
        "except:\n",
        "    print(\"File not found, please check file name again.\")\n",
        "\n",
        "print(data)"
      ],
      "metadata": {
        "colab": {
          "base_uri": "https://localhost:8080/"
        },
        "id": "5Qj-2IDO-7XB",
        "outputId": "3b0b97a7-cd26-4769-9b0e-8982721c89ae"
      },
      "execution_count": null,
      "outputs": [
        {
          "output_type": "stream",
          "name": "stdout",
          "text": [
            "[['id', 'name', 'arpu', 'city'], ['1', 'john', '500', 'BKK'], ['2', 'beam', '250', 'BKK'], ['3', 'anne', '300', 'BKK'], ['4', 'jessica', '400', 'LDN'], ['5', 'joy', '800', 'LDN']]\n"
          ]
        }
      ]
    },
    {
      "cell_type": "code",
      "source": [
        "## pandas\n",
        "\n",
        "import pandas as pd\n",
        "\n",
        "pd.read_csv(\"customer_arpu.csv\")"
      ],
      "metadata": {
        "colab": {
          "base_uri": "https://localhost:8080/",
          "height": 206
        },
        "id": "xjjG0dc0ATDo",
        "outputId": "9a653b46-7a29-4f9d-fc77-7f6fa72b876f"
      },
      "execution_count": null,
      "outputs": [
        {
          "output_type": "execute_result",
          "data": {
            "text/plain": [
              "   id     name  arpu city\n",
              "0   1     john   500  BKK\n",
              "1   2     beam   250  BKK\n",
              "2   3     anne   300  BKK\n",
              "3   4  jessica   400  LDN\n",
              "4   5      joy   800  LDN"
            ],
            "text/html": [
              "\n",
              "  <div id=\"df-b8b8ff17-7248-495d-8d21-9cc585efd0f3\" class=\"colab-df-container\">\n",
              "    <div>\n",
              "<style scoped>\n",
              "    .dataframe tbody tr th:only-of-type {\n",
              "        vertical-align: middle;\n",
              "    }\n",
              "\n",
              "    .dataframe tbody tr th {\n",
              "        vertical-align: top;\n",
              "    }\n",
              "\n",
              "    .dataframe thead th {\n",
              "        text-align: right;\n",
              "    }\n",
              "</style>\n",
              "<table border=\"1\" class=\"dataframe\">\n",
              "  <thead>\n",
              "    <tr style=\"text-align: right;\">\n",
              "      <th></th>\n",
              "      <th>id</th>\n",
              "      <th>name</th>\n",
              "      <th>arpu</th>\n",
              "      <th>city</th>\n",
              "    </tr>\n",
              "  </thead>\n",
              "  <tbody>\n",
              "    <tr>\n",
              "      <th>0</th>\n",
              "      <td>1</td>\n",
              "      <td>john</td>\n",
              "      <td>500</td>\n",
              "      <td>BKK</td>\n",
              "    </tr>\n",
              "    <tr>\n",
              "      <th>1</th>\n",
              "      <td>2</td>\n",
              "      <td>beam</td>\n",
              "      <td>250</td>\n",
              "      <td>BKK</td>\n",
              "    </tr>\n",
              "    <tr>\n",
              "      <th>2</th>\n",
              "      <td>3</td>\n",
              "      <td>anne</td>\n",
              "      <td>300</td>\n",
              "      <td>BKK</td>\n",
              "    </tr>\n",
              "    <tr>\n",
              "      <th>3</th>\n",
              "      <td>4</td>\n",
              "      <td>jessica</td>\n",
              "      <td>400</td>\n",
              "      <td>LDN</td>\n",
              "    </tr>\n",
              "    <tr>\n",
              "      <th>4</th>\n",
              "      <td>5</td>\n",
              "      <td>joy</td>\n",
              "      <td>800</td>\n",
              "      <td>LDN</td>\n",
              "    </tr>\n",
              "  </tbody>\n",
              "</table>\n",
              "</div>\n",
              "    <div class=\"colab-df-buttons\">\n",
              "\n",
              "  <div class=\"colab-df-container\">\n",
              "    <button class=\"colab-df-convert\" onclick=\"convertToInteractive('df-b8b8ff17-7248-495d-8d21-9cc585efd0f3')\"\n",
              "            title=\"Convert this dataframe to an interactive table.\"\n",
              "            style=\"display:none;\">\n",
              "\n",
              "  <svg xmlns=\"http://www.w3.org/2000/svg\" height=\"24px\" viewBox=\"0 -960 960 960\">\n",
              "    <path d=\"M120-120v-720h720v720H120Zm60-500h600v-160H180v160Zm220 220h160v-160H400v160Zm0 220h160v-160H400v160ZM180-400h160v-160H180v160Zm440 0h160v-160H620v160ZM180-180h160v-160H180v160Zm440 0h160v-160H620v160Z\"/>\n",
              "  </svg>\n",
              "    </button>\n",
              "\n",
              "  <style>\n",
              "    .colab-df-container {\n",
              "      display:flex;\n",
              "      gap: 12px;\n",
              "    }\n",
              "\n",
              "    .colab-df-convert {\n",
              "      background-color: #E8F0FE;\n",
              "      border: none;\n",
              "      border-radius: 50%;\n",
              "      cursor: pointer;\n",
              "      display: none;\n",
              "      fill: #1967D2;\n",
              "      height: 32px;\n",
              "      padding: 0 0 0 0;\n",
              "      width: 32px;\n",
              "    }\n",
              "\n",
              "    .colab-df-convert:hover {\n",
              "      background-color: #E2EBFA;\n",
              "      box-shadow: 0px 1px 2px rgba(60, 64, 67, 0.3), 0px 1px 3px 1px rgba(60, 64, 67, 0.15);\n",
              "      fill: #174EA6;\n",
              "    }\n",
              "\n",
              "    .colab-df-buttons div {\n",
              "      margin-bottom: 4px;\n",
              "    }\n",
              "\n",
              "    [theme=dark] .colab-df-convert {\n",
              "      background-color: #3B4455;\n",
              "      fill: #D2E3FC;\n",
              "    }\n",
              "\n",
              "    [theme=dark] .colab-df-convert:hover {\n",
              "      background-color: #434B5C;\n",
              "      box-shadow: 0px 1px 3px 1px rgba(0, 0, 0, 0.15);\n",
              "      filter: drop-shadow(0px 1px 2px rgba(0, 0, 0, 0.3));\n",
              "      fill: #FFFFFF;\n",
              "    }\n",
              "  </style>\n",
              "\n",
              "    <script>\n",
              "      const buttonEl =\n",
              "        document.querySelector('#df-b8b8ff17-7248-495d-8d21-9cc585efd0f3 button.colab-df-convert');\n",
              "      buttonEl.style.display =\n",
              "        google.colab.kernel.accessAllowed ? 'block' : 'none';\n",
              "\n",
              "      async function convertToInteractive(key) {\n",
              "        const element = document.querySelector('#df-b8b8ff17-7248-495d-8d21-9cc585efd0f3');\n",
              "        const dataTable =\n",
              "          await google.colab.kernel.invokeFunction('convertToInteractive',\n",
              "                                                    [key], {});\n",
              "        if (!dataTable) return;\n",
              "\n",
              "        const docLinkHtml = 'Like what you see? Visit the ' +\n",
              "          '<a target=\"_blank\" href=https://colab.research.google.com/notebooks/data_table.ipynb>data table notebook</a>'\n",
              "          + ' to learn more about interactive tables.';\n",
              "        element.innerHTML = '';\n",
              "        dataTable['output_type'] = 'display_data';\n",
              "        await google.colab.output.renderOutput(dataTable, element);\n",
              "        const docLink = document.createElement('div');\n",
              "        docLink.innerHTML = docLinkHtml;\n",
              "        element.appendChild(docLink);\n",
              "      }\n",
              "    </script>\n",
              "  </div>\n",
              "\n",
              "\n",
              "<div id=\"df-4f371d53-383c-460f-9c13-100b5544acc9\">\n",
              "  <button class=\"colab-df-quickchart\" onclick=\"quickchart('df-4f371d53-383c-460f-9c13-100b5544acc9')\"\n",
              "            title=\"Suggest charts\"\n",
              "            style=\"display:none;\">\n",
              "\n",
              "<svg xmlns=\"http://www.w3.org/2000/svg\" height=\"24px\"viewBox=\"0 0 24 24\"\n",
              "     width=\"24px\">\n",
              "    <g>\n",
              "        <path d=\"M19 3H5c-1.1 0-2 .9-2 2v14c0 1.1.9 2 2 2h14c1.1 0 2-.9 2-2V5c0-1.1-.9-2-2-2zM9 17H7v-7h2v7zm4 0h-2V7h2v10zm4 0h-2v-4h2v4z\"/>\n",
              "    </g>\n",
              "</svg>\n",
              "  </button>\n",
              "\n",
              "<style>\n",
              "  .colab-df-quickchart {\n",
              "      --bg-color: #E8F0FE;\n",
              "      --fill-color: #1967D2;\n",
              "      --hover-bg-color: #E2EBFA;\n",
              "      --hover-fill-color: #174EA6;\n",
              "      --disabled-fill-color: #AAA;\n",
              "      --disabled-bg-color: #DDD;\n",
              "  }\n",
              "\n",
              "  [theme=dark] .colab-df-quickchart {\n",
              "      --bg-color: #3B4455;\n",
              "      --fill-color: #D2E3FC;\n",
              "      --hover-bg-color: #434B5C;\n",
              "      --hover-fill-color: #FFFFFF;\n",
              "      --disabled-bg-color: #3B4455;\n",
              "      --disabled-fill-color: #666;\n",
              "  }\n",
              "\n",
              "  .colab-df-quickchart {\n",
              "    background-color: var(--bg-color);\n",
              "    border: none;\n",
              "    border-radius: 50%;\n",
              "    cursor: pointer;\n",
              "    display: none;\n",
              "    fill: var(--fill-color);\n",
              "    height: 32px;\n",
              "    padding: 0;\n",
              "    width: 32px;\n",
              "  }\n",
              "\n",
              "  .colab-df-quickchart:hover {\n",
              "    background-color: var(--hover-bg-color);\n",
              "    box-shadow: 0 1px 2px rgba(60, 64, 67, 0.3), 0 1px 3px 1px rgba(60, 64, 67, 0.15);\n",
              "    fill: var(--button-hover-fill-color);\n",
              "  }\n",
              "\n",
              "  .colab-df-quickchart-complete:disabled,\n",
              "  .colab-df-quickchart-complete:disabled:hover {\n",
              "    background-color: var(--disabled-bg-color);\n",
              "    fill: var(--disabled-fill-color);\n",
              "    box-shadow: none;\n",
              "  }\n",
              "\n",
              "  .colab-df-spinner {\n",
              "    border: 2px solid var(--fill-color);\n",
              "    border-color: transparent;\n",
              "    border-bottom-color: var(--fill-color);\n",
              "    animation:\n",
              "      spin 1s steps(1) infinite;\n",
              "  }\n",
              "\n",
              "  @keyframes spin {\n",
              "    0% {\n",
              "      border-color: transparent;\n",
              "      border-bottom-color: var(--fill-color);\n",
              "      border-left-color: var(--fill-color);\n",
              "    }\n",
              "    20% {\n",
              "      border-color: transparent;\n",
              "      border-left-color: var(--fill-color);\n",
              "      border-top-color: var(--fill-color);\n",
              "    }\n",
              "    30% {\n",
              "      border-color: transparent;\n",
              "      border-left-color: var(--fill-color);\n",
              "      border-top-color: var(--fill-color);\n",
              "      border-right-color: var(--fill-color);\n",
              "    }\n",
              "    40% {\n",
              "      border-color: transparent;\n",
              "      border-right-color: var(--fill-color);\n",
              "      border-top-color: var(--fill-color);\n",
              "    }\n",
              "    60% {\n",
              "      border-color: transparent;\n",
              "      border-right-color: var(--fill-color);\n",
              "    }\n",
              "    80% {\n",
              "      border-color: transparent;\n",
              "      border-right-color: var(--fill-color);\n",
              "      border-bottom-color: var(--fill-color);\n",
              "    }\n",
              "    90% {\n",
              "      border-color: transparent;\n",
              "      border-bottom-color: var(--fill-color);\n",
              "    }\n",
              "  }\n",
              "</style>\n",
              "\n",
              "  <script>\n",
              "    async function quickchart(key) {\n",
              "      const quickchartButtonEl =\n",
              "        document.querySelector('#' + key + ' button');\n",
              "      quickchartButtonEl.disabled = true;  // To prevent multiple clicks.\n",
              "      quickchartButtonEl.classList.add('colab-df-spinner');\n",
              "      try {\n",
              "        const charts = await google.colab.kernel.invokeFunction(\n",
              "            'suggestCharts', [key], {});\n",
              "      } catch (error) {\n",
              "        console.error('Error during call to suggestCharts:', error);\n",
              "      }\n",
              "      quickchartButtonEl.classList.remove('colab-df-spinner');\n",
              "      quickchartButtonEl.classList.add('colab-df-quickchart-complete');\n",
              "    }\n",
              "    (() => {\n",
              "      let quickchartButtonEl =\n",
              "        document.querySelector('#df-4f371d53-383c-460f-9c13-100b5544acc9 button');\n",
              "      quickchartButtonEl.style.display =\n",
              "        google.colab.kernel.accessAllowed ? 'block' : 'none';\n",
              "    })();\n",
              "  </script>\n",
              "</div>\n",
              "\n",
              "    </div>\n",
              "  </div>\n"
            ],
            "application/vnd.google.colaboratory.intrinsic+json": {
              "type": "dataframe",
              "summary": "{\n  \"name\": \"pd\",\n  \"rows\": 5,\n  \"fields\": [\n    {\n      \"column\": \"id\",\n      \"properties\": {\n        \"dtype\": \"number\",\n        \"std\": 1,\n        \"min\": 1,\n        \"max\": 5,\n        \"num_unique_values\": 5,\n        \"samples\": [\n          2,\n          5,\n          3\n        ],\n        \"semantic_type\": \"\",\n        \"description\": \"\"\n      }\n    },\n    {\n      \"column\": \"name\",\n      \"properties\": {\n        \"dtype\": \"string\",\n        \"num_unique_values\": 5,\n        \"samples\": [\n          \"beam\",\n          \"joy\",\n          \"anne\"\n        ],\n        \"semantic_type\": \"\",\n        \"description\": \"\"\n      }\n    },\n    {\n      \"column\": \"arpu\",\n      \"properties\": {\n        \"dtype\": \"number\",\n        \"std\": 217,\n        \"min\": 250,\n        \"max\": 800,\n        \"num_unique_values\": 5,\n        \"samples\": [\n          250,\n          800,\n          300\n        ],\n        \"semantic_type\": \"\",\n        \"description\": \"\"\n      }\n    },\n    {\n      \"column\": \"city\",\n      \"properties\": {\n        \"dtype\": \"category\",\n        \"num_unique_values\": 2,\n        \"samples\": [\n          \"LDN\",\n          \"BKK\"\n        ],\n        \"semantic_type\": \"\",\n        \"description\": \"\"\n      }\n    }\n  ]\n}"
            }
          },
          "metadata": {},
          "execution_count": 12
        }
      ]
    },
    {
      "cell_type": "code",
      "source": [
        "!pip install gazpacho"
      ],
      "metadata": {
        "colab": {
          "base_uri": "https://localhost:8080/"
        },
        "id": "OUJDo0VXAX6m",
        "outputId": "44b4ecf2-320e-4c09-af1e-a821d94738eb"
      },
      "execution_count": null,
      "outputs": [
        {
          "output_type": "stream",
          "name": "stdout",
          "text": [
            "Collecting gazpacho\n",
            "  Downloading gazpacho-1.1.tar.gz (7.9 kB)\n",
            "  Installing build dependencies ... \u001b[?25l\u001b[?25hdone\n",
            "  Getting requirements to build wheel ... \u001b[?25l\u001b[?25hdone\n",
            "  Preparing metadata (pyproject.toml) ... \u001b[?25l\u001b[?25hdone\n",
            "Building wheels for collected packages: gazpacho\n",
            "  Building wheel for gazpacho (pyproject.toml) ... \u001b[?25l\u001b[?25hdone\n",
            "  Created wheel for gazpacho: filename=gazpacho-1.1-py3-none-any.whl size=7460 sha256=f08116673c33451391d03da8a8a707839ebb053fbba069569d118ae06bb0acbe\n",
            "  Stored in directory: /root/.cache/pip/wheels/9b/bf/9f/8c8849499462415fa5cdf0d9edb1103c189bdbece90c51488e\n",
            "Successfully built gazpacho\n",
            "Installing collected packages: gazpacho\n",
            "Successfully installed gazpacho-1.1\n"
          ]
        }
      ]
    },
    {
      "cell_type": "code",
      "source": [
        "!pip list"
      ],
      "metadata": {
        "colab": {
          "base_uri": "https://localhost:8080/"
        },
        "collapsed": true,
        "id": "wh1G0ACtBAJa",
        "outputId": "889ea930-7b0b-4bad-b796-1a65d798e1f5"
      },
      "execution_count": null,
      "outputs": [
        {
          "output_type": "stream",
          "name": "stdout",
          "text": [
            "Package                            Version\n",
            "---------------------------------- --------------------\n",
            "absl-py                            1.4.0\n",
            "accelerate                         1.2.1\n",
            "aiohappyeyeballs                   2.4.4\n",
            "aiohttp                            3.11.10\n",
            "aiosignal                          1.3.2\n",
            "alabaster                          1.0.0\n",
            "albucore                           0.0.19\n",
            "albumentations                     1.4.20\n",
            "altair                             5.5.0\n",
            "annotated-types                    0.7.0\n",
            "anyio                              3.7.1\n",
            "argon2-cffi                        23.1.0\n",
            "argon2-cffi-bindings               21.2.0\n",
            "array_record                       0.5.1\n",
            "arviz                              0.20.0\n",
            "astropy                            6.1.7\n",
            "astropy-iers-data                  0.2024.12.16.0.35.48\n",
            "astunparse                         1.6.3\n",
            "async-timeout                      4.0.3\n",
            "atpublic                           4.1.0\n",
            "attrs                              24.3.0\n",
            "audioread                          3.0.1\n",
            "autograd                           1.7.0\n",
            "babel                              2.16.0\n",
            "backcall                           0.2.0\n",
            "beautifulsoup4                     4.12.3\n",
            "bigframes                          1.29.0\n",
            "bigquery-magics                    0.4.0\n",
            "bleach                             6.2.0\n",
            "blinker                            1.9.0\n",
            "blis                               0.7.11\n",
            "blosc2                             2.7.1\n",
            "bokeh                              3.6.2\n",
            "Bottleneck                         1.4.2\n",
            "bqplot                             0.12.43\n",
            "branca                             0.8.1\n",
            "CacheControl                       0.14.1\n",
            "cachetools                         5.5.0\n",
            "catalogue                          2.0.10\n",
            "certifi                            2024.12.14\n",
            "cffi                               1.17.1\n",
            "chardet                            5.2.0\n",
            "charset-normalizer                 3.4.0\n",
            "chex                               0.1.88\n",
            "clarabel                           0.9.0\n",
            "click                              8.1.7\n",
            "cloudpathlib                       0.20.0\n",
            "cloudpickle                        3.1.0\n",
            "cmake                              3.31.2\n",
            "cmdstanpy                          1.2.5\n",
            "colorcet                           3.1.0\n",
            "colorlover                         0.3.0\n",
            "colour                             0.1.5\n",
            "community                          1.0.0b1\n",
            "confection                         0.1.5\n",
            "cons                               0.4.6\n",
            "contourpy                          1.3.1\n",
            "cryptography                       43.0.3\n",
            "cuda-python                        12.2.1\n",
            "cudf-cu12                          24.10.1\n",
            "cufflinks                          0.17.3\n",
            "cupy-cuda12x                       12.2.0\n",
            "cvxopt                             1.3.2\n",
            "cvxpy                              1.6.0\n",
            "cycler                             0.12.1\n",
            "cymem                              2.0.10\n",
            "Cython                             3.0.11\n",
            "dask                               2024.10.0\n",
            "datascience                        0.17.6\n",
            "db-dtypes                          1.3.1\n",
            "dbus-python                        1.2.18\n",
            "debugpy                            1.8.0\n",
            "decorator                          4.4.2\n",
            "defusedxml                         0.7.1\n",
            "Deprecated                         1.2.15\n",
            "diffusers                          0.31.0\n",
            "distro                             1.9.0\n",
            "dlib                               19.24.2\n",
            "dm-tree                            0.1.8\n",
            "docker-pycreds                     0.4.0\n",
            "docstring_parser                   0.16\n",
            "docutils                           0.21.2\n",
            "dopamine_rl                        4.1.0\n",
            "duckdb                             1.1.3\n",
            "earthengine-api                    1.4.3\n",
            "easydict                           1.13\n",
            "editdistance                       0.8.1\n",
            "eerepr                             0.0.4\n",
            "einops                             0.8.0\n",
            "en-core-web-sm                     3.7.1\n",
            "entrypoints                        0.4\n",
            "et_xmlfile                         2.0.0\n",
            "etils                              1.11.0\n",
            "etuples                            0.3.9\n",
            "eval_type_backport                 0.2.0\n",
            "exceptiongroup                     1.2.2\n",
            "fastai                             2.7.18\n",
            "fastcore                           1.7.27\n",
            "fastdownload                       0.0.7\n",
            "fastjsonschema                     2.21.1\n",
            "fastprogress                       1.0.3\n",
            "fastrlock                          0.8.3\n",
            "filelock                           3.16.1\n",
            "firebase-admin                     6.6.0\n",
            "Flask                              3.1.0\n",
            "flatbuffers                        24.3.25\n",
            "flax                               0.8.5\n",
            "folium                             0.19.2\n",
            "fonttools                          4.55.3\n",
            "frozendict                         2.4.6\n",
            "frozenlist                         1.5.0\n",
            "fsspec                             2024.10.0\n",
            "future                             1.0.0\n",
            "gast                               0.6.0\n",
            "gazpacho                           1.1\n",
            "gcsfs                              2024.10.0\n",
            "GDAL                               3.6.4\n",
            "gdown                              5.2.0\n",
            "geemap                             0.35.1\n",
            "gensim                             4.3.3\n",
            "geocoder                           1.38.1\n",
            "geographiclib                      2.0\n",
            "geopandas                          1.0.1\n",
            "geopy                              2.4.1\n",
            "gin-config                         0.5.0\n",
            "gitdb                              4.0.11\n",
            "GitPython                          3.1.43\n",
            "glob2                              0.7\n",
            "google                             2.0.3\n",
            "google-ai-generativelanguage       0.6.10\n",
            "google-api-core                    2.19.2\n",
            "google-api-python-client           2.155.0\n",
            "google-auth                        2.27.0\n",
            "google-auth-httplib2               0.2.0\n",
            "google-auth-oauthlib               1.2.1\n",
            "google-cloud-aiplatform            1.74.0\n",
            "google-cloud-bigquery              3.25.0\n",
            "google-cloud-bigquery-connection   1.17.0\n",
            "google-cloud-bigquery-storage      2.27.0\n",
            "google-cloud-bigtable              2.27.0\n",
            "google-cloud-core                  2.4.1\n",
            "google-cloud-datastore             2.20.2\n",
            "google-cloud-firestore             2.19.0\n",
            "google-cloud-functions             1.19.0\n",
            "google-cloud-iam                   2.17.0\n",
            "google-cloud-language              2.16.0\n",
            "google-cloud-pubsub                2.27.1\n",
            "google-cloud-resource-manager      1.14.0\n",
            "google-cloud-storage               2.19.0\n",
            "google-cloud-translate             3.19.0\n",
            "google-colab                       1.0.0\n",
            "google-crc32c                      1.6.0\n",
            "google-genai                       0.3.0\n",
            "google-generativeai                0.8.3\n",
            "google-pasta                       0.2.0\n",
            "google-resumable-media             2.7.2\n",
            "googleapis-common-protos           1.66.0\n",
            "googledrivedownloader              0.4\n",
            "graphviz                           0.20.3\n",
            "greenlet                           3.1.1\n",
            "grpc-google-iam-v1                 0.13.1\n",
            "grpcio                             1.68.1\n",
            "grpcio-status                      1.62.3\n",
            "gspread                            6.0.2\n",
            "gspread-dataframe                  3.3.1\n",
            "gym                                0.25.2\n",
            "gym-notices                        0.0.8\n",
            "h11                                0.14.0\n",
            "h5netcdf                           1.4.1\n",
            "h5py                               3.12.1\n",
            "holidays                           0.63\n",
            "holoviews                          1.20.0\n",
            "html5lib                           1.1\n",
            "httpcore                           1.0.7\n",
            "httpimport                         1.4.0\n",
            "httplib2                           0.22.0\n",
            "httpx                              0.28.1\n",
            "huggingface-hub                    0.27.0\n",
            "humanize                           4.11.0\n",
            "hyperopt                           0.2.7\n",
            "ibis-framework                     9.2.0\n",
            "idna                               3.10\n",
            "imageio                            2.36.1\n",
            "imageio-ffmpeg                     0.5.1\n",
            "imagesize                          1.4.1\n",
            "imbalanced-learn                   0.12.4\n",
            "imgaug                             0.4.0\n",
            "immutabledict                      4.2.1\n",
            "importlib_metadata                 8.5.0\n",
            "importlib_resources                6.4.5\n",
            "imutils                            0.5.4\n",
            "inflect                            7.4.0\n",
            "iniconfig                          2.0.0\n",
            "intel-cmplr-lib-ur                 2025.0.4\n",
            "intel-openmp                       2025.0.4\n",
            "ipyevents                          2.0.2\n",
            "ipyfilechooser                     0.6.0\n",
            "ipykernel                          5.5.6\n",
            "ipyleaflet                         0.19.2\n",
            "ipyparallel                        8.8.0\n",
            "ipython                            7.34.0\n",
            "ipython-genutils                   0.2.0\n",
            "ipython-sql                        0.5.0\n",
            "ipytree                            0.2.2\n",
            "ipywidgets                         7.7.1\n",
            "itsdangerous                       2.2.0\n",
            "jax                                0.4.33\n",
            "jax-cuda12-pjrt                    0.4.33\n",
            "jax-cuda12-plugin                  0.4.33\n",
            "jaxlib                             0.4.33\n",
            "jeepney                            0.7.1\n",
            "jellyfish                          1.1.0\n",
            "jieba                              0.42.1\n",
            "Jinja2                             3.1.4\n",
            "jiter                              0.8.2\n",
            "joblib                             1.4.2\n",
            "jsonpatch                          1.33\n",
            "jsonpickle                         4.0.1\n",
            "jsonpointer                        3.0.0\n",
            "jsonschema                         4.23.0\n",
            "jsonschema-specifications          2024.10.1\n",
            "jupyter-client                     6.1.12\n",
            "jupyter-console                    6.1.0\n",
            "jupyter_core                       5.7.2\n",
            "jupyter-leaflet                    0.19.2\n",
            "jupyter-server                     1.24.0\n",
            "jupyterlab_pygments                0.3.0\n",
            "jupyterlab_widgets                 3.0.13\n",
            "kaggle                             1.6.17\n",
            "kagglehub                          0.3.5\n",
            "keras                              3.5.0\n",
            "keyring                            23.5.0\n",
            "kiwisolver                         1.4.7\n",
            "langchain                          0.3.12\n",
            "langchain-core                     0.3.25\n",
            "langchain-text-splitters           0.3.3\n",
            "langcodes                          3.5.0\n",
            "langsmith                          0.2.3\n",
            "language_data                      1.3.0\n",
            "launchpadlib                       1.10.16\n",
            "lazr.restfulclient                 0.14.4\n",
            "lazr.uri                           1.0.6\n",
            "lazy_loader                        0.4\n",
            "libclang                           18.1.1\n",
            "libcudf-cu12                       24.10.1\n",
            "librosa                            0.10.2.post1\n",
            "lightgbm                           4.5.0\n",
            "linkify-it-py                      2.0.3\n",
            "llvmlite                           0.43.0\n",
            "locket                             1.0.0\n",
            "logical-unification                0.4.6\n",
            "lxml                               5.3.0\n",
            "marisa-trie                        1.2.1\n",
            "Markdown                           3.7\n",
            "markdown-it-py                     3.0.0\n",
            "MarkupSafe                         3.0.2\n",
            "matplotlib                         3.8.0\n",
            "matplotlib-inline                  0.1.7\n",
            "matplotlib-venn                    1.1.1\n",
            "mdit-py-plugins                    0.4.2\n",
            "mdurl                              0.1.2\n",
            "miniKanren                         1.0.3\n",
            "missingno                          0.5.2\n",
            "mistune                            3.0.2\n",
            "mizani                             0.13.1\n",
            "mkl                                2025.0.1\n",
            "ml-dtypes                          0.4.1\n",
            "mlxtend                            0.23.3\n",
            "more-itertools                     10.5.0\n",
            "moviepy                            1.0.3\n",
            "mpmath                             1.3.0\n",
            "msgpack                            1.1.0\n",
            "multidict                          6.1.0\n",
            "multipledispatch                   1.0.0\n",
            "multitasking                       0.0.11\n",
            "murmurhash                         1.0.11\n",
            "music21                            9.3.0\n",
            "namex                              0.0.8\n",
            "narwhals                           1.18.4\n",
            "natsort                            8.4.0\n",
            "nbclassic                          1.1.0\n",
            "nbclient                           0.10.1\n",
            "nbconvert                          7.16.4\n",
            "nbformat                           5.10.4\n",
            "ndindex                            1.9.2\n",
            "nest-asyncio                       1.6.0\n",
            "networkx                           3.4.2\n",
            "nibabel                            5.3.2\n",
            "nltk                               3.9.1\n",
            "notebook                           6.5.5\n",
            "notebook_shim                      0.2.4\n",
            "numba                              0.60.0\n",
            "numexpr                            2.10.2\n",
            "numpy                              1.26.4\n",
            "nvidia-cublas-cu12                 12.6.4.1\n",
            "nvidia-cuda-cupti-cu12             12.6.80\n",
            "nvidia-cuda-nvcc-cu12              12.6.85\n",
            "nvidia-cuda-runtime-cu12           12.6.77\n",
            "nvidia-cudnn-cu12                  9.6.0.74\n",
            "nvidia-cufft-cu12                  11.3.0.4\n",
            "nvidia-curand-cu12                 10.3.7.77\n",
            "nvidia-cusolver-cu12               11.7.1.2\n",
            "nvidia-cusparse-cu12               12.5.4.2\n",
            "nvidia-nccl-cu12                   2.23.4\n",
            "nvidia-nvjitlink-cu12              12.6.85\n",
            "nvtx                               0.2.10\n",
            "nx-cugraph-cu12                    24.10.0\n",
            "oauth2client                       4.1.3\n",
            "oauthlib                           3.2.2\n",
            "openai                             1.57.4\n",
            "opencv-contrib-python              4.10.0.84\n",
            "opencv-python                      4.10.0.84\n",
            "opencv-python-headless             4.10.0.84\n",
            "openpyxl                           3.1.5\n",
            "opentelemetry-api                  1.29.0\n",
            "opentelemetry-sdk                  1.29.0\n",
            "opentelemetry-semantic-conventions 0.50b0\n",
            "opt_einsum                         3.4.0\n",
            "optax                              0.2.4\n",
            "optree                             0.13.1\n",
            "orbax-checkpoint                   0.6.4\n",
            "orjson                             3.10.12\n",
            "osqp                               0.6.7.post3\n",
            "packaging                          24.2\n",
            "pandas                             2.2.2\n",
            "pandas-datareader                  0.10.0\n",
            "pandas-gbq                         0.25.0\n",
            "pandas-stubs                       2.2.2.240909\n",
            "pandocfilters                      1.5.1\n",
            "panel                              1.5.4\n",
            "param                              2.2.0\n",
            "parso                              0.8.4\n",
            "parsy                              2.1\n",
            "partd                              1.4.2\n",
            "pathlib                            1.0.1\n",
            "patsy                              1.0.1\n",
            "peewee                             3.17.8\n",
            "peft                               0.14.0\n",
            "pexpect                            4.9.0\n",
            "pickleshare                        0.7.5\n",
            "pillow                             11.0.0\n",
            "pip                                24.1.2\n",
            "platformdirs                       4.3.6\n",
            "plotly                             5.24.1\n",
            "plotnine                           0.14.4\n",
            "pluggy                             1.5.0\n",
            "ply                                3.11\n",
            "polars                             1.9.0\n",
            "pooch                              1.8.2\n",
            "portpicker                         1.5.2\n",
            "preshed                            3.0.9\n",
            "prettytable                        3.12.0\n",
            "proglog                            0.1.10\n",
            "progressbar2                       4.5.0\n",
            "prometheus_client                  0.21.1\n",
            "promise                            2.3\n",
            "prompt_toolkit                     3.0.48\n",
            "propcache                          0.2.1\n",
            "prophet                            1.1.6\n",
            "proto-plus                         1.25.0\n",
            "protobuf                           4.25.5\n",
            "psutil                             5.9.5\n",
            "psycopg2                           2.9.10\n",
            "ptyprocess                         0.7.0\n",
            "py-cpuinfo                         9.0.0\n",
            "py4j                               0.10.9.7\n",
            "pyarrow                            17.0.0\n",
            "pyasn1                             0.6.1\n",
            "pyasn1_modules                     0.4.1\n",
            "pycocotools                        2.0.8\n",
            "pycparser                          2.22\n",
            "pydantic                           2.10.3\n",
            "pydantic_core                      2.27.1\n",
            "pydata-google-auth                 1.9.0\n",
            "pydot                              3.0.3\n",
            "pydotplus                          2.0.2\n",
            "PyDrive                            1.3.1\n",
            "PyDrive2                           1.21.3\n",
            "pyerfa                             2.0.1.5\n",
            "pygame                             2.6.1\n",
            "pygit2                             1.16.0\n",
            "Pygments                           2.18.0\n",
            "PyGObject                          3.42.1\n",
            "PyJWT                              2.10.1\n",
            "pylibcudf-cu12                     24.10.1\n",
            "pylibcugraph-cu12                  24.10.0\n",
            "pylibraft-cu12                     24.10.0\n",
            "pymc                               5.19.1\n",
            "pymystem3                          0.2.0\n",
            "pynvjitlink-cu12                   0.4.0\n",
            "pyogrio                            0.10.0\n",
            "Pyomo                              6.8.2\n",
            "PyOpenGL                           3.1.7\n",
            "pyOpenSSL                          24.2.1\n",
            "pyparsing                          3.2.0\n",
            "pyperclip                          1.9.0\n",
            "pyproj                             3.7.0\n",
            "pyshp                              2.3.1\n",
            "PySocks                            1.7.1\n",
            "pyspark                            3.5.3\n",
            "pytensor                           2.26.4\n",
            "pytest                             8.3.4\n",
            "python-apt                         0.0.0\n",
            "python-box                         7.3.0\n",
            "python-dateutil                    2.8.2\n",
            "python-louvain                     0.16\n",
            "python-slugify                     8.0.4\n",
            "python-utils                       3.9.1\n",
            "pytz                               2024.2\n",
            "pyviz_comms                        3.0.3\n",
            "PyYAML                             6.0.2\n",
            "pyzmq                              24.0.1\n",
            "qdldl                              0.1.7.post4\n",
            "ratelim                            0.1.6\n",
            "referencing                        0.35.1\n",
            "regex                              2024.11.6\n",
            "requests                           2.32.3\n",
            "requests-oauthlib                  1.3.1\n",
            "requests-toolbelt                  1.0.0\n",
            "requirements-parser                0.9.0\n",
            "rich                               13.9.4\n",
            "rmm-cu12                           24.10.0\n",
            "rpds-py                            0.22.3\n",
            "rpy2                               3.4.2\n",
            "rsa                                4.9\n",
            "safetensors                        0.4.5\n",
            "scikit-image                       0.25.0\n",
            "scikit-learn                       1.6.0\n",
            "scipy                              1.13.1\n",
            "scooby                             0.10.0\n",
            "scs                                3.2.7\n",
            "seaborn                            0.13.2\n",
            "SecretStorage                      3.3.1\n",
            "Send2Trash                         1.8.3\n",
            "sentence-transformers              3.3.1\n",
            "sentencepiece                      0.2.0\n",
            "sentry-sdk                         2.19.2\n",
            "setproctitle                       1.3.4\n",
            "setuptools                         75.1.0\n",
            "shap                               0.46.0\n",
            "shapely                            2.0.6\n",
            "shellingham                        1.5.4\n",
            "simple-parsing                     0.1.6\n",
            "six                                1.17.0\n",
            "sklearn-pandas                     2.2.0\n",
            "slicer                             0.0.8\n",
            "smart-open                         7.1.0\n",
            "smmap                              5.0.1\n",
            "sniffio                            1.3.1\n",
            "snowballstemmer                    2.2.0\n",
            "soundfile                          0.12.1\n",
            "soupsieve                          2.6\n",
            "soxr                               0.5.0.post1\n",
            "spacy                              3.7.5\n",
            "spacy-legacy                       3.0.12\n",
            "spacy-loggers                      1.0.5\n",
            "Sphinx                             8.1.3\n",
            "sphinxcontrib-applehelp            2.0.0\n",
            "sphinxcontrib-devhelp              2.0.0\n",
            "sphinxcontrib-htmlhelp             2.1.0\n",
            "sphinxcontrib-jsmath               1.0.1\n",
            "sphinxcontrib-qthelp               2.0.0\n",
            "sphinxcontrib-serializinghtml      2.0.0\n",
            "SQLAlchemy                         2.0.36\n",
            "sqlglot                            25.1.0\n",
            "sqlparse                           0.5.3\n",
            "srsly                              2.5.0\n",
            "stanio                             0.5.1\n",
            "statsmodels                        0.14.4\n",
            "StrEnum                            0.4.15\n",
            "stringzilla                        3.11.1\n",
            "sympy                              1.13.1\n",
            "tables                             3.10.1\n",
            "tabulate                           0.9.0\n",
            "tbb                                2022.0.0\n",
            "tcmlib                             1.2.0\n",
            "tenacity                           9.0.0\n",
            "tensorboard                        2.17.1\n",
            "tensorboard-data-server            0.7.2\n",
            "tensorflow                         2.17.1\n",
            "tensorflow-datasets                4.9.7\n",
            "tensorflow-hub                     0.16.1\n",
            "tensorflow-io-gcs-filesystem       0.37.1\n",
            "tensorflow-metadata                1.13.1\n",
            "tensorflow-probability             0.24.0\n",
            "tensorstore                        0.1.71\n",
            "termcolor                          2.5.0\n",
            "terminado                          0.18.1\n",
            "text-unidecode                     1.3\n",
            "textblob                           0.17.1\n",
            "tf_keras                           2.17.0\n",
            "tf-slim                            1.1.0\n",
            "thinc                              8.2.5\n",
            "threadpoolctl                      3.5.0\n",
            "tifffile                           2024.12.12\n",
            "timm                               1.0.12\n",
            "tinycss2                           1.4.0\n",
            "tokenizers                         0.21.0\n",
            "toml                               0.10.2\n",
            "tomli                              2.2.1\n",
            "toolz                              0.12.1\n",
            "torch                              2.5.1+cu121\n",
            "torchaudio                         2.5.1+cu121\n",
            "torchsummary                       1.5.1\n",
            "torchvision                        0.20.1+cu121\n",
            "tornado                            6.3.3\n",
            "tqdm                               4.67.1\n",
            "traitlets                          5.7.1\n",
            "traittypes                         0.2.1\n",
            "transformers                       4.47.1\n",
            "tweepy                             4.14.0\n",
            "typeguard                          4.4.1\n",
            "typer                              0.15.1\n",
            "types-pytz                         2024.2.0.20241003\n",
            "types-setuptools                   75.6.0.20241126\n",
            "typing_extensions                  4.12.2\n",
            "tzdata                             2024.2\n",
            "tzlocal                            5.2\n",
            "uc-micro-py                        1.0.3\n",
            "umf                                0.9.1\n",
            "uritemplate                        4.1.1\n",
            "urllib3                            2.2.3\n",
            "vega-datasets                      0.9.0\n",
            "wadllib                            1.3.6\n",
            "wandb                              0.19.1\n",
            "wasabi                             1.1.3\n",
            "wcwidth                            0.2.13\n",
            "weasel                             0.4.1\n",
            "webcolors                          24.11.1\n",
            "webencodings                       0.5.1\n",
            "websocket-client                   1.8.0\n",
            "websockets                         14.1\n",
            "Werkzeug                           3.1.3\n",
            "wheel                              0.45.1\n",
            "widgetsnbextension                 3.6.10\n",
            "wordcloud                          1.9.4\n",
            "wrapt                              1.17.0\n",
            "xarray                             2024.11.0\n",
            "xarray-einstats                    0.8.0\n",
            "xgboost                            2.1.3\n",
            "xlrd                               2.0.1\n",
            "xyzservices                        2024.9.0\n",
            "yarl                               1.18.3\n",
            "yellowbrick                        1.5\n",
            "yfinance                           0.2.50\n",
            "zipp                               3.21.0\n"
          ]
        }
      ]
    },
    {
      "cell_type": "code",
      "source": [
        "## how to write a csv\n",
        "\n",
        "## nested list\n",
        "\n",
        "header = [\"name\", \"age\", \"gender\"]\n",
        "\n",
        "data = [\n",
        "    [\"beam\", 27, \"male\"],\n",
        "    [\"jessica\", 25, \"female\"]\n",
        "]\n",
        "\n",
        "with open(\"people.csv\", \"w\") as file:\n",
        "    writer = csv.writer(file)\n",
        "    writer.writerow(header)\n",
        "    writer.writerows(data)"
      ],
      "metadata": {
        "id": "gGDt2MoCBEIG"
      },
      "execution_count": null,
      "outputs": []
    },
    {
      "cell_type": "code",
      "source": [
        "!cat people.csv"
      ],
      "metadata": {
        "colab": {
          "base_uri": "https://localhost:8080/"
        },
        "id": "XXT-9yrvCf0t",
        "outputId": "28670c89-71fd-452c-d1ee-0ccbe3d48f49"
      },
      "execution_count": null,
      "outputs": [
        {
          "output_type": "stream",
          "name": "stdout",
          "text": [
            "name,age,gender\r\n",
            "beam,27,male\r\n",
            "jessica,25,female\r\n"
          ]
        }
      ]
    },
    {
      "cell_type": "code",
      "source": [
        "df = pd.read_csv(\"people.csv\")"
      ],
      "metadata": {
        "id": "dK7wjjVnCnY9"
      },
      "execution_count": null,
      "outputs": []
    },
    {
      "cell_type": "code",
      "source": [
        "df[\"age\"] += 1\n",
        "df[\"country\"] = [\"Thailand\", \"Singapore\"]"
      ],
      "metadata": {
        "id": "uSJ-W7l8C6XH"
      },
      "execution_count": null,
      "outputs": []
    },
    {
      "cell_type": "code",
      "source": [
        "df.to_csv(\"people_updated.csv\", index=False)"
      ],
      "metadata": {
        "id": "Fj-sM3RCDKfi"
      },
      "execution_count": null,
      "outputs": []
    },
    {
      "cell_type": "code",
      "source": [
        "!cat people_updated.csv"
      ],
      "metadata": {
        "colab": {
          "base_uri": "https://localhost:8080/"
        },
        "id": "2aOSl5FXDO9o",
        "outputId": "f516fa41-c7f7-4788-8fb3-e731499ebc46"
      },
      "execution_count": null,
      "outputs": [
        {
          "output_type": "stream",
          "name": "stdout",
          "text": [
            "name,age,gender,country\n",
            "beam,28,male,Thailand\n",
            "jessica,26,female,Singapore\n"
          ]
        }
      ]
    },
    {
      "cell_type": "markdown",
      "source": [
        "## **JSON: JavaScript Object Notation**\n",
        "\n",
        "import json\n",
        "\n",
        "json.dump() # write\n",
        "\n",
        "json.load() # read"
      ],
      "metadata": {
        "id": "E49lv7uEEn5a"
      }
    },
    {
      "cell_type": "code",
      "source": [
        "# JSON\n",
        "# javascript object notation\n",
        "\n",
        "beam_dict = {\n",
        "    \"name\": \"beam\",\n",
        "    \"age\": 27,\n",
        "    \"gender\": \"male\"\n",
        "}\n",
        "\n",
        "beam_dict"
      ],
      "metadata": {
        "colab": {
          "base_uri": "https://localhost:8080/"
        },
        "id": "9RF6YIg9DP5-",
        "outputId": "31636cdb-bee4-494f-bf1c-33c07c754047"
      },
      "execution_count": null,
      "outputs": [
        {
          "output_type": "execute_result",
          "data": {
            "text/plain": [
              "{'name': 'beam', 'age': 27, 'gender': 'male'}"
            ]
          },
          "metadata": {},
          "execution_count": 25
        }
      ]
    },
    {
      "cell_type": "code",
      "source": [
        "import json\n",
        "\n",
        "# write dict to json file\n",
        "with open(\"beam.json\", \"w\") as file:\n",
        "    json.dump(beam_dict, file)"
      ],
      "metadata": {
        "id": "ye8-CYjEEUjq"
      },
      "execution_count": null,
      "outputs": []
    },
    {
      "cell_type": "code",
      "source": [
        "!cat beam.json"
      ],
      "metadata": {
        "colab": {
          "base_uri": "https://localhost:8080/"
        },
        "id": "dvRYnMCbEaln",
        "outputId": "28168e64-a08a-44db-f480-543d7d8fc4c1"
      },
      "execution_count": null,
      "outputs": [
        {
          "output_type": "stream",
          "name": "stdout",
          "text": [
            "{\"name\": \"beam\", \"age\": 27, \"gender\": \"male\"}"
          ]
        }
      ]
    },
    {
      "cell_type": "code",
      "source": [
        "# read JSON to dict in python\n",
        "\n",
        "with open(\"beam.json\", \"r\") as file:\n",
        "    beam_dict = json.load(file)\n",
        "\n",
        "print(beam_dict, type(beam_dict))"
      ],
      "metadata": {
        "colab": {
          "base_uri": "https://localhost:8080/"
        },
        "id": "l9e_6daWExGS",
        "outputId": "1982ea4a-3e55-46c2-9a2d-ffacc4acfbe0"
      },
      "execution_count": null,
      "outputs": [
        {
          "output_type": "stream",
          "name": "stdout",
          "text": [
            "{'name': 'beam', 'age': 27, 'gender': 'male'} <class 'dict'>\n"
          ]
        }
      ]
    },
    {
      "cell_type": "code",
      "source": [],
      "metadata": {
        "id": "UJJq683SFEtT"
      },
      "execution_count": null,
      "outputs": []
    },
    {
      "cell_type": "markdown",
      "source": [
        "## **API**"
      ],
      "metadata": {
        "id": "T7f5zA9gGiyD"
      }
    },
    {
      "cell_type": "code",
      "source": [
        "# import requests\n",
        "from requests import get"
      ],
      "metadata": {
        "id": "drclfgSCGkrT"
      },
      "execution_count": null,
      "outputs": []
    },
    {
      "cell_type": "code",
      "source": [
        "response = get(\"https://swapi.py4e.com/api/people/1\")\n",
        "\n",
        "response.status_code"
      ],
      "metadata": {
        "colab": {
          "base_uri": "https://localhost:8080/"
        },
        "id": "z1Khkap5Gzi7",
        "outputId": "b067ffd4-0cbc-4fbf-b585-68e5f3377369"
      },
      "execution_count": null,
      "outputs": [
        {
          "output_type": "execute_result",
          "data": {
            "text/plain": [
              "200"
            ]
          },
          "metadata": {},
          "execution_count": 35
        }
      ]
    },
    {
      "cell_type": "code",
      "source": [
        "people_1 = response.json()"
      ],
      "metadata": {
        "id": "55k0MdLtG9wx"
      },
      "execution_count": null,
      "outputs": []
    },
    {
      "cell_type": "code",
      "source": [
        "people_1"
      ],
      "metadata": {
        "colab": {
          "base_uri": "https://localhost:8080/"
        },
        "id": "A4jZnclzHCrV",
        "outputId": "1be8ed04-48a0-4d78-909a-b7c0801fc080"
      },
      "execution_count": null,
      "outputs": [
        {
          "output_type": "execute_result",
          "data": {
            "text/plain": [
              "{'name': 'Luke Skywalker',\n",
              " 'height': '172',\n",
              " 'mass': '77',\n",
              " 'hair_color': 'blond',\n",
              " 'skin_color': 'fair',\n",
              " 'eye_color': 'blue',\n",
              " 'birth_year': '19BBY',\n",
              " 'gender': 'male',\n",
              " 'homeworld': 'https://swapi.py4e.com/api/planets/1/',\n",
              " 'films': ['https://swapi.py4e.com/api/films/1/',\n",
              "  'https://swapi.py4e.com/api/films/2/',\n",
              "  'https://swapi.py4e.com/api/films/3/',\n",
              "  'https://swapi.py4e.com/api/films/6/',\n",
              "  'https://swapi.py4e.com/api/films/7/'],\n",
              " 'species': ['https://swapi.py4e.com/api/species/1/'],\n",
              " 'vehicles': ['https://swapi.py4e.com/api/vehicles/14/',\n",
              "  'https://swapi.py4e.com/api/vehicles/30/'],\n",
              " 'starships': ['https://swapi.py4e.com/api/starships/12/',\n",
              "  'https://swapi.py4e.com/api/starships/22/'],\n",
              " 'created': '2014-12-09T13:50:51.644000Z',\n",
              " 'edited': '2014-12-20T21:17:56.891000Z',\n",
              " 'url': 'https://swapi.py4e.com/api/people/1/'}"
            ]
          },
          "metadata": {},
          "execution_count": 38
        }
      ]
    },
    {
      "cell_type": "code",
      "source": [
        "# get data from id 1:5\n",
        "\n",
        "from requests import get\n",
        "from time import sleep\n",
        "\n",
        "base_url = \"https://swapi.py4e.com/api/people/\"\n",
        "\n",
        "characters = []\n",
        "\n",
        "for i in range(1,6):\n",
        "    response = get(base_url + str(i))\n",
        "    response_js = response.json()\n",
        "    name = response_js[\"name\"]\n",
        "    height = response_js[\"height\"]\n",
        "    mass = response_js[\"mass\"]\n",
        "    result = [name, height, mass]\n",
        "    characters.append(result)\n",
        "    sleep(2) # break 2 seconds\n",
        "\n",
        "print(characters)"
      ],
      "metadata": {
        "colab": {
          "base_uri": "https://localhost:8080/"
        },
        "id": "ScB3ZP78HPND",
        "outputId": "c308f7c9-83d1-4a31-fbf3-2da185755a4c"
      },
      "execution_count": null,
      "outputs": [
        {
          "output_type": "stream",
          "name": "stdout",
          "text": [
            "[['Luke Skywalker', '172', '77'], ['C-3PO', '167', '75'], ['R2-D2', '96', '32'], ['Darth Vader', '202', '136'], ['Leia Organa', '150', '49']]\n"
          ]
        }
      ]
    },
    {
      "cell_type": "code",
      "source": [
        "header = [\"name\", \"height\", \"mass\"]\n",
        "\n",
        "with open(\"starwars.csv\", \"w\") as file:\n",
        "    writer = csv.writer(file)\n",
        "    writer.writerow(header)\n",
        "    writer.writerows(characters)"
      ],
      "metadata": {
        "id": "lTon6i9cINdQ"
      },
      "execution_count": null,
      "outputs": []
    },
    {
      "cell_type": "code",
      "source": [
        "pd.read_csv(\"starwars.csv\")"
      ],
      "metadata": {
        "colab": {
          "base_uri": "https://localhost:8080/",
          "height": 206
        },
        "id": "3_cmJ2HqJ0u0",
        "outputId": "f0dfade1-28b1-4240-9aef-93713b4a1360"
      },
      "execution_count": null,
      "outputs": [
        {
          "output_type": "execute_result",
          "data": {
            "text/plain": [
              "             name  height  mass\n",
              "0  Luke Skywalker     172    77\n",
              "1           C-3PO     167    75\n",
              "2           R2-D2      96    32\n",
              "3     Darth Vader     202   136\n",
              "4     Leia Organa     150    49"
            ],
            "text/html": [
              "\n",
              "  <div id=\"df-85895ed6-461c-4a35-aeaf-ebc5ce176340\" class=\"colab-df-container\">\n",
              "    <div>\n",
              "<style scoped>\n",
              "    .dataframe tbody tr th:only-of-type {\n",
              "        vertical-align: middle;\n",
              "    }\n",
              "\n",
              "    .dataframe tbody tr th {\n",
              "        vertical-align: top;\n",
              "    }\n",
              "\n",
              "    .dataframe thead th {\n",
              "        text-align: right;\n",
              "    }\n",
              "</style>\n",
              "<table border=\"1\" class=\"dataframe\">\n",
              "  <thead>\n",
              "    <tr style=\"text-align: right;\">\n",
              "      <th></th>\n",
              "      <th>name</th>\n",
              "      <th>height</th>\n",
              "      <th>mass</th>\n",
              "    </tr>\n",
              "  </thead>\n",
              "  <tbody>\n",
              "    <tr>\n",
              "      <th>0</th>\n",
              "      <td>Luke Skywalker</td>\n",
              "      <td>172</td>\n",
              "      <td>77</td>\n",
              "    </tr>\n",
              "    <tr>\n",
              "      <th>1</th>\n",
              "      <td>C-3PO</td>\n",
              "      <td>167</td>\n",
              "      <td>75</td>\n",
              "    </tr>\n",
              "    <tr>\n",
              "      <th>2</th>\n",
              "      <td>R2-D2</td>\n",
              "      <td>96</td>\n",
              "      <td>32</td>\n",
              "    </tr>\n",
              "    <tr>\n",
              "      <th>3</th>\n",
              "      <td>Darth Vader</td>\n",
              "      <td>202</td>\n",
              "      <td>136</td>\n",
              "    </tr>\n",
              "    <tr>\n",
              "      <th>4</th>\n",
              "      <td>Leia Organa</td>\n",
              "      <td>150</td>\n",
              "      <td>49</td>\n",
              "    </tr>\n",
              "  </tbody>\n",
              "</table>\n",
              "</div>\n",
              "    <div class=\"colab-df-buttons\">\n",
              "\n",
              "  <div class=\"colab-df-container\">\n",
              "    <button class=\"colab-df-convert\" onclick=\"convertToInteractive('df-85895ed6-461c-4a35-aeaf-ebc5ce176340')\"\n",
              "            title=\"Convert this dataframe to an interactive table.\"\n",
              "            style=\"display:none;\">\n",
              "\n",
              "  <svg xmlns=\"http://www.w3.org/2000/svg\" height=\"24px\" viewBox=\"0 -960 960 960\">\n",
              "    <path d=\"M120-120v-720h720v720H120Zm60-500h600v-160H180v160Zm220 220h160v-160H400v160Zm0 220h160v-160H400v160ZM180-400h160v-160H180v160Zm440 0h160v-160H620v160ZM180-180h160v-160H180v160Zm440 0h160v-160H620v160Z\"/>\n",
              "  </svg>\n",
              "    </button>\n",
              "\n",
              "  <style>\n",
              "    .colab-df-container {\n",
              "      display:flex;\n",
              "      gap: 12px;\n",
              "    }\n",
              "\n",
              "    .colab-df-convert {\n",
              "      background-color: #E8F0FE;\n",
              "      border: none;\n",
              "      border-radius: 50%;\n",
              "      cursor: pointer;\n",
              "      display: none;\n",
              "      fill: #1967D2;\n",
              "      height: 32px;\n",
              "      padding: 0 0 0 0;\n",
              "      width: 32px;\n",
              "    }\n",
              "\n",
              "    .colab-df-convert:hover {\n",
              "      background-color: #E2EBFA;\n",
              "      box-shadow: 0px 1px 2px rgba(60, 64, 67, 0.3), 0px 1px 3px 1px rgba(60, 64, 67, 0.15);\n",
              "      fill: #174EA6;\n",
              "    }\n",
              "\n",
              "    .colab-df-buttons div {\n",
              "      margin-bottom: 4px;\n",
              "    }\n",
              "\n",
              "    [theme=dark] .colab-df-convert {\n",
              "      background-color: #3B4455;\n",
              "      fill: #D2E3FC;\n",
              "    }\n",
              "\n",
              "    [theme=dark] .colab-df-convert:hover {\n",
              "      background-color: #434B5C;\n",
              "      box-shadow: 0px 1px 3px 1px rgba(0, 0, 0, 0.15);\n",
              "      filter: drop-shadow(0px 1px 2px rgba(0, 0, 0, 0.3));\n",
              "      fill: #FFFFFF;\n",
              "    }\n",
              "  </style>\n",
              "\n",
              "    <script>\n",
              "      const buttonEl =\n",
              "        document.querySelector('#df-85895ed6-461c-4a35-aeaf-ebc5ce176340 button.colab-df-convert');\n",
              "      buttonEl.style.display =\n",
              "        google.colab.kernel.accessAllowed ? 'block' : 'none';\n",
              "\n",
              "      async function convertToInteractive(key) {\n",
              "        const element = document.querySelector('#df-85895ed6-461c-4a35-aeaf-ebc5ce176340');\n",
              "        const dataTable =\n",
              "          await google.colab.kernel.invokeFunction('convertToInteractive',\n",
              "                                                    [key], {});\n",
              "        if (!dataTable) return;\n",
              "\n",
              "        const docLinkHtml = 'Like what you see? Visit the ' +\n",
              "          '<a target=\"_blank\" href=https://colab.research.google.com/notebooks/data_table.ipynb>data table notebook</a>'\n",
              "          + ' to learn more about interactive tables.';\n",
              "        element.innerHTML = '';\n",
              "        dataTable['output_type'] = 'display_data';\n",
              "        await google.colab.output.renderOutput(dataTable, element);\n",
              "        const docLink = document.createElement('div');\n",
              "        docLink.innerHTML = docLinkHtml;\n",
              "        element.appendChild(docLink);\n",
              "      }\n",
              "    </script>\n",
              "  </div>\n",
              "\n",
              "\n",
              "<div id=\"df-2d92b2c9-20e5-45c7-95f9-e978009fa0c1\">\n",
              "  <button class=\"colab-df-quickchart\" onclick=\"quickchart('df-2d92b2c9-20e5-45c7-95f9-e978009fa0c1')\"\n",
              "            title=\"Suggest charts\"\n",
              "            style=\"display:none;\">\n",
              "\n",
              "<svg xmlns=\"http://www.w3.org/2000/svg\" height=\"24px\"viewBox=\"0 0 24 24\"\n",
              "     width=\"24px\">\n",
              "    <g>\n",
              "        <path d=\"M19 3H5c-1.1 0-2 .9-2 2v14c0 1.1.9 2 2 2h14c1.1 0 2-.9 2-2V5c0-1.1-.9-2-2-2zM9 17H7v-7h2v7zm4 0h-2V7h2v10zm4 0h-2v-4h2v4z\"/>\n",
              "    </g>\n",
              "</svg>\n",
              "  </button>\n",
              "\n",
              "<style>\n",
              "  .colab-df-quickchart {\n",
              "      --bg-color: #E8F0FE;\n",
              "      --fill-color: #1967D2;\n",
              "      --hover-bg-color: #E2EBFA;\n",
              "      --hover-fill-color: #174EA6;\n",
              "      --disabled-fill-color: #AAA;\n",
              "      --disabled-bg-color: #DDD;\n",
              "  }\n",
              "\n",
              "  [theme=dark] .colab-df-quickchart {\n",
              "      --bg-color: #3B4455;\n",
              "      --fill-color: #D2E3FC;\n",
              "      --hover-bg-color: #434B5C;\n",
              "      --hover-fill-color: #FFFFFF;\n",
              "      --disabled-bg-color: #3B4455;\n",
              "      --disabled-fill-color: #666;\n",
              "  }\n",
              "\n",
              "  .colab-df-quickchart {\n",
              "    background-color: var(--bg-color);\n",
              "    border: none;\n",
              "    border-radius: 50%;\n",
              "    cursor: pointer;\n",
              "    display: none;\n",
              "    fill: var(--fill-color);\n",
              "    height: 32px;\n",
              "    padding: 0;\n",
              "    width: 32px;\n",
              "  }\n",
              "\n",
              "  .colab-df-quickchart:hover {\n",
              "    background-color: var(--hover-bg-color);\n",
              "    box-shadow: 0 1px 2px rgba(60, 64, 67, 0.3), 0 1px 3px 1px rgba(60, 64, 67, 0.15);\n",
              "    fill: var(--button-hover-fill-color);\n",
              "  }\n",
              "\n",
              "  .colab-df-quickchart-complete:disabled,\n",
              "  .colab-df-quickchart-complete:disabled:hover {\n",
              "    background-color: var(--disabled-bg-color);\n",
              "    fill: var(--disabled-fill-color);\n",
              "    box-shadow: none;\n",
              "  }\n",
              "\n",
              "  .colab-df-spinner {\n",
              "    border: 2px solid var(--fill-color);\n",
              "    border-color: transparent;\n",
              "    border-bottom-color: var(--fill-color);\n",
              "    animation:\n",
              "      spin 1s steps(1) infinite;\n",
              "  }\n",
              "\n",
              "  @keyframes spin {\n",
              "    0% {\n",
              "      border-color: transparent;\n",
              "      border-bottom-color: var(--fill-color);\n",
              "      border-left-color: var(--fill-color);\n",
              "    }\n",
              "    20% {\n",
              "      border-color: transparent;\n",
              "      border-left-color: var(--fill-color);\n",
              "      border-top-color: var(--fill-color);\n",
              "    }\n",
              "    30% {\n",
              "      border-color: transparent;\n",
              "      border-left-color: var(--fill-color);\n",
              "      border-top-color: var(--fill-color);\n",
              "      border-right-color: var(--fill-color);\n",
              "    }\n",
              "    40% {\n",
              "      border-color: transparent;\n",
              "      border-right-color: var(--fill-color);\n",
              "      border-top-color: var(--fill-color);\n",
              "    }\n",
              "    60% {\n",
              "      border-color: transparent;\n",
              "      border-right-color: var(--fill-color);\n",
              "    }\n",
              "    80% {\n",
              "      border-color: transparent;\n",
              "      border-right-color: var(--fill-color);\n",
              "      border-bottom-color: var(--fill-color);\n",
              "    }\n",
              "    90% {\n",
              "      border-color: transparent;\n",
              "      border-bottom-color: var(--fill-color);\n",
              "    }\n",
              "  }\n",
              "</style>\n",
              "\n",
              "  <script>\n",
              "    async function quickchart(key) {\n",
              "      const quickchartButtonEl =\n",
              "        document.querySelector('#' + key + ' button');\n",
              "      quickchartButtonEl.disabled = true;  // To prevent multiple clicks.\n",
              "      quickchartButtonEl.classList.add('colab-df-spinner');\n",
              "      try {\n",
              "        const charts = await google.colab.kernel.invokeFunction(\n",
              "            'suggestCharts', [key], {});\n",
              "      } catch (error) {\n",
              "        console.error('Error during call to suggestCharts:', error);\n",
              "      }\n",
              "      quickchartButtonEl.classList.remove('colab-df-spinner');\n",
              "      quickchartButtonEl.classList.add('colab-df-quickchart-complete');\n",
              "    }\n",
              "    (() => {\n",
              "      let quickchartButtonEl =\n",
              "        document.querySelector('#df-2d92b2c9-20e5-45c7-95f9-e978009fa0c1 button');\n",
              "      quickchartButtonEl.style.display =\n",
              "        google.colab.kernel.accessAllowed ? 'block' : 'none';\n",
              "    })();\n",
              "  </script>\n",
              "</div>\n",
              "\n",
              "    </div>\n",
              "  </div>\n"
            ],
            "application/vnd.google.colaboratory.intrinsic+json": {
              "type": "dataframe",
              "summary": "{\n  \"name\": \"pd\",\n  \"rows\": 5,\n  \"fields\": [\n    {\n      \"column\": \"name\",\n      \"properties\": {\n        \"dtype\": \"string\",\n        \"num_unique_values\": 5,\n        \"samples\": [\n          \"C-3PO\",\n          \"Leia Organa\",\n          \"R2-D2\"\n        ],\n        \"semantic_type\": \"\",\n        \"description\": \"\"\n      }\n    },\n    {\n      \"column\": \"height\",\n      \"properties\": {\n        \"dtype\": \"number\",\n        \"std\": 39,\n        \"min\": 96,\n        \"max\": 202,\n        \"num_unique_values\": 5,\n        \"samples\": [\n          167,\n          150,\n          96\n        ],\n        \"semantic_type\": \"\",\n        \"description\": \"\"\n      }\n    },\n    {\n      \"column\": \"mass\",\n      \"properties\": {\n        \"dtype\": \"number\",\n        \"std\": 39,\n        \"min\": 32,\n        \"max\": 136,\n        \"num_unique_values\": 5,\n        \"samples\": [\n          75,\n          49,\n          32\n        ],\n        \"semantic_type\": \"\",\n        \"description\": \"\"\n      }\n    }\n  ]\n}"
            }
          },
          "metadata": {},
          "execution_count": 48
        }
      ]
    },
    {
      "cell_type": "code",
      "source": [],
      "metadata": {
        "id": "chVBGtd1KTBs"
      },
      "execution_count": null,
      "outputs": []
    },
    {
      "cell_type": "markdown",
      "source": [
        "## **Gazpacho**\n",
        "\n",
        "Basic web scraping"
      ],
      "metadata": {
        "id": "O9i0BpMMLshs"
      }
    },
    {
      "cell_type": "code",
      "source": [
        "from gazpacho import Soup\n",
        "from requests import get"
      ],
      "metadata": {
        "id": "qIPly5D8Lx9M"
      },
      "execution_count": null,
      "outputs": []
    },
    {
      "cell_type": "code",
      "source": [
        "url = \"https://datarockie.com\""
      ],
      "metadata": {
        "id": "IKO82XEIMElv"
      },
      "execution_count": null,
      "outputs": []
    },
    {
      "cell_type": "code",
      "source": [
        "web = get(url)\n",
        "\n",
        "datarockie = Soup(web.text)\n",
        "\n",
        "print(type(datarockie))"
      ],
      "metadata": {
        "colab": {
          "base_uri": "https://localhost:8080/"
        },
        "id": "wtwxose2MOTp",
        "outputId": "4a4e5b76-d3fc-4ecc-b378-696ace96766e"
      },
      "execution_count": null,
      "outputs": [
        {
          "output_type": "stream",
          "name": "stdout",
          "text": [
            "<class 'gazpacho.soup.Soup'>\n"
          ]
        }
      ]
    },
    {
      "cell_type": "code",
      "source": [
        "# find information we wnat from this Soup\n",
        "\n",
        "for h2 in datarockie.find(\"h2\"):\n",
        "    print(h2.strip())"
      ],
      "metadata": {
        "colab": {
          "base_uri": "https://localhost:8080/"
        },
        "id": "D7DdpJBOMXxN",
        "outputId": "56b84125-62a4-487e-8bd5-c9f1af56b6c9"
      },
      "execution_count": null,
      "outputs": [
        {
          "output_type": "stream",
          "name": "stdout",
          "text": [
            "❤️ New Course Alert\n",
            "The DA Manifesto\n",
            "❤️ New Course Alert\n",
            "Writing 101\n",
            "Latest Articles\n",
            "รีวิว Sololearn แอปเรียนเขียนโค้ดและ AI สนุกจนลืมเวลา\n",
            "สอนใช้ Google Vids สร้างวีดีโอง่ายๆด้วย Gemini AI\n",
            "Survival Guide คู่มือเอาตัวรอดอีก 100 ปีข้างหน้า\n",
            "10 Git Commands สำหรับผู้เริ่มต้น พร้อมตัวอย่างทำตามได้ทันที\n",
            "ฝึกเขียน SQL สำหรับมือใหม่ภายใน 10 นาที\n",
            "วิธีสมัครเรียนฟรีบน Coursera ไม่ต้องใช้บัตรเครดิตฉบับปี 2025\n",
            "DataRockie\n",
            "\n",
            "\n"
          ]
        }
      ]
    },
    {
      "cell_type": "code",
      "source": [
        "import sqlite3\n",
        "import pandas as pd"
      ],
      "metadata": {
        "id": "1fp-fXaeMpxp"
      },
      "execution_count": null,
      "outputs": []
    },
    {
      "cell_type": "code",
      "source": [
        "## create connection\n",
        "con = sqlite3.connect(\"chinook.db\")"
      ],
      "metadata": {
        "id": "1ljGV5bXOkPW"
      },
      "execution_count": null,
      "outputs": []
    },
    {
      "cell_type": "code",
      "source": [
        "df = pd.read_sql(\"select * from customers limit 5\", con)"
      ],
      "metadata": {
        "id": "PYKraX6hOzkS"
      },
      "execution_count": null,
      "outputs": []
    },
    {
      "cell_type": "code",
      "source": [
        "df[[\"FirstName\", \"LastName\", \"City\"]]"
      ],
      "metadata": {
        "colab": {
          "base_uri": "https://localhost:8080/",
          "height": 206
        },
        "id": "Ar9KjijSO-WF",
        "outputId": "895c1036-5e42-46f3-ea4f-93d897805843"
      },
      "execution_count": null,
      "outputs": [
        {
          "output_type": "execute_result",
          "data": {
            "text/plain": [
              "   FirstName     LastName                 City\n",
              "0       Luís    Gonçalves  São José dos Campos\n",
              "1     Leonie       Köhler            Stuttgart\n",
              "2   François     Tremblay             Montréal\n",
              "3      Bjørn       Hansen                 Oslo\n",
              "4  František  Wichterlová               Prague"
            ],
            "text/html": [
              "\n",
              "  <div id=\"df-e157b155-c203-44b0-b4a0-d0e5fb0b5072\" class=\"colab-df-container\">\n",
              "    <div>\n",
              "<style scoped>\n",
              "    .dataframe tbody tr th:only-of-type {\n",
              "        vertical-align: middle;\n",
              "    }\n",
              "\n",
              "    .dataframe tbody tr th {\n",
              "        vertical-align: top;\n",
              "    }\n",
              "\n",
              "    .dataframe thead th {\n",
              "        text-align: right;\n",
              "    }\n",
              "</style>\n",
              "<table border=\"1\" class=\"dataframe\">\n",
              "  <thead>\n",
              "    <tr style=\"text-align: right;\">\n",
              "      <th></th>\n",
              "      <th>FirstName</th>\n",
              "      <th>LastName</th>\n",
              "      <th>City</th>\n",
              "    </tr>\n",
              "  </thead>\n",
              "  <tbody>\n",
              "    <tr>\n",
              "      <th>0</th>\n",
              "      <td>Luís</td>\n",
              "      <td>Gonçalves</td>\n",
              "      <td>São José dos Campos</td>\n",
              "    </tr>\n",
              "    <tr>\n",
              "      <th>1</th>\n",
              "      <td>Leonie</td>\n",
              "      <td>Köhler</td>\n",
              "      <td>Stuttgart</td>\n",
              "    </tr>\n",
              "    <tr>\n",
              "      <th>2</th>\n",
              "      <td>François</td>\n",
              "      <td>Tremblay</td>\n",
              "      <td>Montréal</td>\n",
              "    </tr>\n",
              "    <tr>\n",
              "      <th>3</th>\n",
              "      <td>Bjørn</td>\n",
              "      <td>Hansen</td>\n",
              "      <td>Oslo</td>\n",
              "    </tr>\n",
              "    <tr>\n",
              "      <th>4</th>\n",
              "      <td>František</td>\n",
              "      <td>Wichterlová</td>\n",
              "      <td>Prague</td>\n",
              "    </tr>\n",
              "  </tbody>\n",
              "</table>\n",
              "</div>\n",
              "    <div class=\"colab-df-buttons\">\n",
              "\n",
              "  <div class=\"colab-df-container\">\n",
              "    <button class=\"colab-df-convert\" onclick=\"convertToInteractive('df-e157b155-c203-44b0-b4a0-d0e5fb0b5072')\"\n",
              "            title=\"Convert this dataframe to an interactive table.\"\n",
              "            style=\"display:none;\">\n",
              "\n",
              "  <svg xmlns=\"http://www.w3.org/2000/svg\" height=\"24px\" viewBox=\"0 -960 960 960\">\n",
              "    <path d=\"M120-120v-720h720v720H120Zm60-500h600v-160H180v160Zm220 220h160v-160H400v160Zm0 220h160v-160H400v160ZM180-400h160v-160H180v160Zm440 0h160v-160H620v160ZM180-180h160v-160H180v160Zm440 0h160v-160H620v160Z\"/>\n",
              "  </svg>\n",
              "    </button>\n",
              "\n",
              "  <style>\n",
              "    .colab-df-container {\n",
              "      display:flex;\n",
              "      gap: 12px;\n",
              "    }\n",
              "\n",
              "    .colab-df-convert {\n",
              "      background-color: #E8F0FE;\n",
              "      border: none;\n",
              "      border-radius: 50%;\n",
              "      cursor: pointer;\n",
              "      display: none;\n",
              "      fill: #1967D2;\n",
              "      height: 32px;\n",
              "      padding: 0 0 0 0;\n",
              "      width: 32px;\n",
              "    }\n",
              "\n",
              "    .colab-df-convert:hover {\n",
              "      background-color: #E2EBFA;\n",
              "      box-shadow: 0px 1px 2px rgba(60, 64, 67, 0.3), 0px 1px 3px 1px rgba(60, 64, 67, 0.15);\n",
              "      fill: #174EA6;\n",
              "    }\n",
              "\n",
              "    .colab-df-buttons div {\n",
              "      margin-bottom: 4px;\n",
              "    }\n",
              "\n",
              "    [theme=dark] .colab-df-convert {\n",
              "      background-color: #3B4455;\n",
              "      fill: #D2E3FC;\n",
              "    }\n",
              "\n",
              "    [theme=dark] .colab-df-convert:hover {\n",
              "      background-color: #434B5C;\n",
              "      box-shadow: 0px 1px 3px 1px rgba(0, 0, 0, 0.15);\n",
              "      filter: drop-shadow(0px 1px 2px rgba(0, 0, 0, 0.3));\n",
              "      fill: #FFFFFF;\n",
              "    }\n",
              "  </style>\n",
              "\n",
              "    <script>\n",
              "      const buttonEl =\n",
              "        document.querySelector('#df-e157b155-c203-44b0-b4a0-d0e5fb0b5072 button.colab-df-convert');\n",
              "      buttonEl.style.display =\n",
              "        google.colab.kernel.accessAllowed ? 'block' : 'none';\n",
              "\n",
              "      async function convertToInteractive(key) {\n",
              "        const element = document.querySelector('#df-e157b155-c203-44b0-b4a0-d0e5fb0b5072');\n",
              "        const dataTable =\n",
              "          await google.colab.kernel.invokeFunction('convertToInteractive',\n",
              "                                                    [key], {});\n",
              "        if (!dataTable) return;\n",
              "\n",
              "        const docLinkHtml = 'Like what you see? Visit the ' +\n",
              "          '<a target=\"_blank\" href=https://colab.research.google.com/notebooks/data_table.ipynb>data table notebook</a>'\n",
              "          + ' to learn more about interactive tables.';\n",
              "        element.innerHTML = '';\n",
              "        dataTable['output_type'] = 'display_data';\n",
              "        await google.colab.output.renderOutput(dataTable, element);\n",
              "        const docLink = document.createElement('div');\n",
              "        docLink.innerHTML = docLinkHtml;\n",
              "        element.appendChild(docLink);\n",
              "      }\n",
              "    </script>\n",
              "  </div>\n",
              "\n",
              "\n",
              "<div id=\"df-e2848896-4304-41de-bbb8-09dba3dddf72\">\n",
              "  <button class=\"colab-df-quickchart\" onclick=\"quickchart('df-e2848896-4304-41de-bbb8-09dba3dddf72')\"\n",
              "            title=\"Suggest charts\"\n",
              "            style=\"display:none;\">\n",
              "\n",
              "<svg xmlns=\"http://www.w3.org/2000/svg\" height=\"24px\"viewBox=\"0 0 24 24\"\n",
              "     width=\"24px\">\n",
              "    <g>\n",
              "        <path d=\"M19 3H5c-1.1 0-2 .9-2 2v14c0 1.1.9 2 2 2h14c1.1 0 2-.9 2-2V5c0-1.1-.9-2-2-2zM9 17H7v-7h2v7zm4 0h-2V7h2v10zm4 0h-2v-4h2v4z\"/>\n",
              "    </g>\n",
              "</svg>\n",
              "  </button>\n",
              "\n",
              "<style>\n",
              "  .colab-df-quickchart {\n",
              "      --bg-color: #E8F0FE;\n",
              "      --fill-color: #1967D2;\n",
              "      --hover-bg-color: #E2EBFA;\n",
              "      --hover-fill-color: #174EA6;\n",
              "      --disabled-fill-color: #AAA;\n",
              "      --disabled-bg-color: #DDD;\n",
              "  }\n",
              "\n",
              "  [theme=dark] .colab-df-quickchart {\n",
              "      --bg-color: #3B4455;\n",
              "      --fill-color: #D2E3FC;\n",
              "      --hover-bg-color: #434B5C;\n",
              "      --hover-fill-color: #FFFFFF;\n",
              "      --disabled-bg-color: #3B4455;\n",
              "      --disabled-fill-color: #666;\n",
              "  }\n",
              "\n",
              "  .colab-df-quickchart {\n",
              "    background-color: var(--bg-color);\n",
              "    border: none;\n",
              "    border-radius: 50%;\n",
              "    cursor: pointer;\n",
              "    display: none;\n",
              "    fill: var(--fill-color);\n",
              "    height: 32px;\n",
              "    padding: 0;\n",
              "    width: 32px;\n",
              "  }\n",
              "\n",
              "  .colab-df-quickchart:hover {\n",
              "    background-color: var(--hover-bg-color);\n",
              "    box-shadow: 0 1px 2px rgba(60, 64, 67, 0.3), 0 1px 3px 1px rgba(60, 64, 67, 0.15);\n",
              "    fill: var(--button-hover-fill-color);\n",
              "  }\n",
              "\n",
              "  .colab-df-quickchart-complete:disabled,\n",
              "  .colab-df-quickchart-complete:disabled:hover {\n",
              "    background-color: var(--disabled-bg-color);\n",
              "    fill: var(--disabled-fill-color);\n",
              "    box-shadow: none;\n",
              "  }\n",
              "\n",
              "  .colab-df-spinner {\n",
              "    border: 2px solid var(--fill-color);\n",
              "    border-color: transparent;\n",
              "    border-bottom-color: var(--fill-color);\n",
              "    animation:\n",
              "      spin 1s steps(1) infinite;\n",
              "  }\n",
              "\n",
              "  @keyframes spin {\n",
              "    0% {\n",
              "      border-color: transparent;\n",
              "      border-bottom-color: var(--fill-color);\n",
              "      border-left-color: var(--fill-color);\n",
              "    }\n",
              "    20% {\n",
              "      border-color: transparent;\n",
              "      border-left-color: var(--fill-color);\n",
              "      border-top-color: var(--fill-color);\n",
              "    }\n",
              "    30% {\n",
              "      border-color: transparent;\n",
              "      border-left-color: var(--fill-color);\n",
              "      border-top-color: var(--fill-color);\n",
              "      border-right-color: var(--fill-color);\n",
              "    }\n",
              "    40% {\n",
              "      border-color: transparent;\n",
              "      border-right-color: var(--fill-color);\n",
              "      border-top-color: var(--fill-color);\n",
              "    }\n",
              "    60% {\n",
              "      border-color: transparent;\n",
              "      border-right-color: var(--fill-color);\n",
              "    }\n",
              "    80% {\n",
              "      border-color: transparent;\n",
              "      border-right-color: var(--fill-color);\n",
              "      border-bottom-color: var(--fill-color);\n",
              "    }\n",
              "    90% {\n",
              "      border-color: transparent;\n",
              "      border-bottom-color: var(--fill-color);\n",
              "    }\n",
              "  }\n",
              "</style>\n",
              "\n",
              "  <script>\n",
              "    async function quickchart(key) {\n",
              "      const quickchartButtonEl =\n",
              "        document.querySelector('#' + key + ' button');\n",
              "      quickchartButtonEl.disabled = true;  // To prevent multiple clicks.\n",
              "      quickchartButtonEl.classList.add('colab-df-spinner');\n",
              "      try {\n",
              "        const charts = await google.colab.kernel.invokeFunction(\n",
              "            'suggestCharts', [key], {});\n",
              "      } catch (error) {\n",
              "        console.error('Error during call to suggestCharts:', error);\n",
              "      }\n",
              "      quickchartButtonEl.classList.remove('colab-df-spinner');\n",
              "      quickchartButtonEl.classList.add('colab-df-quickchart-complete');\n",
              "    }\n",
              "    (() => {\n",
              "      let quickchartButtonEl =\n",
              "        document.querySelector('#df-e2848896-4304-41de-bbb8-09dba3dddf72 button');\n",
              "      quickchartButtonEl.style.display =\n",
              "        google.colab.kernel.accessAllowed ? 'block' : 'none';\n",
              "    })();\n",
              "  </script>\n",
              "</div>\n",
              "\n",
              "    </div>\n",
              "  </div>\n"
            ],
            "application/vnd.google.colaboratory.intrinsic+json": {
              "type": "dataframe",
              "summary": "{\n  \"name\": \"df[[\\\"FirstName\\\", \\\"LastName\\\", \\\"City\\\"]]\",\n  \"rows\": 5,\n  \"fields\": [\n    {\n      \"column\": \"FirstName\",\n      \"properties\": {\n        \"dtype\": \"string\",\n        \"num_unique_values\": 5,\n        \"samples\": [\n          \"Leonie\",\n          \"Franti\\u0161ek\",\n          \"Fran\\u00e7ois\"\n        ],\n        \"semantic_type\": \"\",\n        \"description\": \"\"\n      }\n    },\n    {\n      \"column\": \"LastName\",\n      \"properties\": {\n        \"dtype\": \"string\",\n        \"num_unique_values\": 5,\n        \"samples\": [\n          \"K\\u00f6hler\",\n          \"Wichterlov\\u00e1\",\n          \"Tremblay\"\n        ],\n        \"semantic_type\": \"\",\n        \"description\": \"\"\n      }\n    },\n    {\n      \"column\": \"City\",\n      \"properties\": {\n        \"dtype\": \"string\",\n        \"num_unique_values\": 5,\n        \"samples\": [\n          \"Stuttgart\",\n          \"Prague\",\n          \"Montr\\u00e9al\"\n        ],\n        \"semantic_type\": \"\",\n        \"description\": \"\"\n      }\n    }\n  ]\n}"
            }
          },
          "metadata": {},
          "execution_count": 66
        }
      ]
    },
    {
      "cell_type": "code",
      "source": [
        "## do not forget to close connection\n",
        "\n",
        "con.close()"
      ],
      "metadata": {
        "id": "vlwm5cnkPFJr"
      },
      "execution_count": null,
      "outputs": []
    },
    {
      "cell_type": "code",
      "source": [
        "## concat\n",
        "\n",
        "df1 = pd.DataFrame({\n",
        "    \"name\": [\"beam\", \"jessica\"],\n",
        "    \"age\": [27, 25]\n",
        "})\n",
        "\n",
        "df2 = pd.DataFrame({\n",
        "    \"name\": [\"kat\", \"john\"],\n",
        "    \"age\": [28, 32]\n",
        "})\n",
        "\n",
        "pd.concat([df1, df2])"
      ],
      "metadata": {
        "colab": {
          "base_uri": "https://localhost:8080/",
          "height": 831
        },
        "id": "38Dqtas7PUzs",
        "outputId": "145d6729-e687-4247-c028-5348c7a4eca5"
      },
      "execution_count": null,
      "outputs": [
        {
          "output_type": "execute_result",
          "data": {
            "text/plain": [
              "      name  age\n",
              "0     beam   27\n",
              "1  jessica   25\n",
              "0      kat   28\n",
              "1     john   32"
            ],
            "text/html": [
              "\n",
              "  <div id=\"df-c8b0535f-fb07-4ba2-bdc8-29273786fe90\" class=\"colab-df-container\">\n",
              "    <div>\n",
              "<style scoped>\n",
              "    .dataframe tbody tr th:only-of-type {\n",
              "        vertical-align: middle;\n",
              "    }\n",
              "\n",
              "    .dataframe tbody tr th {\n",
              "        vertical-align: top;\n",
              "    }\n",
              "\n",
              "    .dataframe thead th {\n",
              "        text-align: right;\n",
              "    }\n",
              "</style>\n",
              "<table border=\"1\" class=\"dataframe\">\n",
              "  <thead>\n",
              "    <tr style=\"text-align: right;\">\n",
              "      <th></th>\n",
              "      <th>name</th>\n",
              "      <th>age</th>\n",
              "    </tr>\n",
              "  </thead>\n",
              "  <tbody>\n",
              "    <tr>\n",
              "      <th>0</th>\n",
              "      <td>beam</td>\n",
              "      <td>27</td>\n",
              "    </tr>\n",
              "    <tr>\n",
              "      <th>1</th>\n",
              "      <td>jessica</td>\n",
              "      <td>25</td>\n",
              "    </tr>\n",
              "    <tr>\n",
              "      <th>0</th>\n",
              "      <td>kat</td>\n",
              "      <td>28</td>\n",
              "    </tr>\n",
              "    <tr>\n",
              "      <th>1</th>\n",
              "      <td>john</td>\n",
              "      <td>32</td>\n",
              "    </tr>\n",
              "  </tbody>\n",
              "</table>\n",
              "</div>\n",
              "    <div class=\"colab-df-buttons\">\n",
              "\n",
              "  <div class=\"colab-df-container\">\n",
              "    <button class=\"colab-df-convert\" onclick=\"convertToInteractive('df-c8b0535f-fb07-4ba2-bdc8-29273786fe90')\"\n",
              "            title=\"Convert this dataframe to an interactive table.\"\n",
              "            style=\"display:none;\">\n",
              "\n",
              "  <svg xmlns=\"http://www.w3.org/2000/svg\" height=\"24px\" viewBox=\"0 -960 960 960\">\n",
              "    <path d=\"M120-120v-720h720v720H120Zm60-500h600v-160H180v160Zm220 220h160v-160H400v160Zm0 220h160v-160H400v160ZM180-400h160v-160H180v160Zm440 0h160v-160H620v160ZM180-180h160v-160H180v160Zm440 0h160v-160H620v160Z\"/>\n",
              "  </svg>\n",
              "    </button>\n",
              "\n",
              "  <style>\n",
              "    .colab-df-container {\n",
              "      display:flex;\n",
              "      gap: 12px;\n",
              "    }\n",
              "\n",
              "    .colab-df-convert {\n",
              "      background-color: #E8F0FE;\n",
              "      border: none;\n",
              "      border-radius: 50%;\n",
              "      cursor: pointer;\n",
              "      display: none;\n",
              "      fill: #1967D2;\n",
              "      height: 32px;\n",
              "      padding: 0 0 0 0;\n",
              "      width: 32px;\n",
              "    }\n",
              "\n",
              "    .colab-df-convert:hover {\n",
              "      background-color: #E2EBFA;\n",
              "      box-shadow: 0px 1px 2px rgba(60, 64, 67, 0.3), 0px 1px 3px 1px rgba(60, 64, 67, 0.15);\n",
              "      fill: #174EA6;\n",
              "    }\n",
              "\n",
              "    .colab-df-buttons div {\n",
              "      margin-bottom: 4px;\n",
              "    }\n",
              "\n",
              "    [theme=dark] .colab-df-convert {\n",
              "      background-color: #3B4455;\n",
              "      fill: #D2E3FC;\n",
              "    }\n",
              "\n",
              "    [theme=dark] .colab-df-convert:hover {\n",
              "      background-color: #434B5C;\n",
              "      box-shadow: 0px 1px 3px 1px rgba(0, 0, 0, 0.15);\n",
              "      filter: drop-shadow(0px 1px 2px rgba(0, 0, 0, 0.3));\n",
              "      fill: #FFFFFF;\n",
              "    }\n",
              "  </style>\n",
              "\n",
              "    <script>\n",
              "      const buttonEl =\n",
              "        document.querySelector('#df-c8b0535f-fb07-4ba2-bdc8-29273786fe90 button.colab-df-convert');\n",
              "      buttonEl.style.display =\n",
              "        google.colab.kernel.accessAllowed ? 'block' : 'none';\n",
              "\n",
              "      async function convertToInteractive(key) {\n",
              "        const element = document.querySelector('#df-c8b0535f-fb07-4ba2-bdc8-29273786fe90');\n",
              "        const dataTable =\n",
              "          await google.colab.kernel.invokeFunction('convertToInteractive',\n",
              "                                                    [key], {});\n",
              "        if (!dataTable) return;\n",
              "\n",
              "        const docLinkHtml = 'Like what you see? Visit the ' +\n",
              "          '<a target=\"_blank\" href=https://colab.research.google.com/notebooks/data_table.ipynb>data table notebook</a>'\n",
              "          + ' to learn more about interactive tables.';\n",
              "        element.innerHTML = '';\n",
              "        dataTable['output_type'] = 'display_data';\n",
              "        await google.colab.output.renderOutput(dataTable, element);\n",
              "        const docLink = document.createElement('div');\n",
              "        docLink.innerHTML = docLinkHtml;\n",
              "        element.appendChild(docLink);\n",
              "      }\n",
              "    </script>\n",
              "  </div>\n",
              "\n",
              "\n",
              "<div id=\"df-e3eb732b-9c40-46d0-88ec-81655259e154\">\n",
              "  <button class=\"colab-df-quickchart\" onclick=\"quickchart('df-e3eb732b-9c40-46d0-88ec-81655259e154')\"\n",
              "            title=\"Suggest charts\"\n",
              "            style=\"display:none;\">\n",
              "\n",
              "<svg xmlns=\"http://www.w3.org/2000/svg\" height=\"24px\"viewBox=\"0 0 24 24\"\n",
              "     width=\"24px\">\n",
              "    <g>\n",
              "        <path d=\"M19 3H5c-1.1 0-2 .9-2 2v14c0 1.1.9 2 2 2h14c1.1 0 2-.9 2-2V5c0-1.1-.9-2-2-2zM9 17H7v-7h2v7zm4 0h-2V7h2v10zm4 0h-2v-4h2v4z\"/>\n",
              "    </g>\n",
              "</svg>\n",
              "  </button>\n",
              "\n",
              "<style>\n",
              "  .colab-df-quickchart {\n",
              "      --bg-color: #E8F0FE;\n",
              "      --fill-color: #1967D2;\n",
              "      --hover-bg-color: #E2EBFA;\n",
              "      --hover-fill-color: #174EA6;\n",
              "      --disabled-fill-color: #AAA;\n",
              "      --disabled-bg-color: #DDD;\n",
              "  }\n",
              "\n",
              "  [theme=dark] .colab-df-quickchart {\n",
              "      --bg-color: #3B4455;\n",
              "      --fill-color: #D2E3FC;\n",
              "      --hover-bg-color: #434B5C;\n",
              "      --hover-fill-color: #FFFFFF;\n",
              "      --disabled-bg-color: #3B4455;\n",
              "      --disabled-fill-color: #666;\n",
              "  }\n",
              "\n",
              "  .colab-df-quickchart {\n",
              "    background-color: var(--bg-color);\n",
              "    border: none;\n",
              "    border-radius: 50%;\n",
              "    cursor: pointer;\n",
              "    display: none;\n",
              "    fill: var(--fill-color);\n",
              "    height: 32px;\n",
              "    padding: 0;\n",
              "    width: 32px;\n",
              "  }\n",
              "\n",
              "  .colab-df-quickchart:hover {\n",
              "    background-color: var(--hover-bg-color);\n",
              "    box-shadow: 0 1px 2px rgba(60, 64, 67, 0.3), 0 1px 3px 1px rgba(60, 64, 67, 0.15);\n",
              "    fill: var(--button-hover-fill-color);\n",
              "  }\n",
              "\n",
              "  .colab-df-quickchart-complete:disabled,\n",
              "  .colab-df-quickchart-complete:disabled:hover {\n",
              "    background-color: var(--disabled-bg-color);\n",
              "    fill: var(--disabled-fill-color);\n",
              "    box-shadow: none;\n",
              "  }\n",
              "\n",
              "  .colab-df-spinner {\n",
              "    border: 2px solid var(--fill-color);\n",
              "    border-color: transparent;\n",
              "    border-bottom-color: var(--fill-color);\n",
              "    animation:\n",
              "      spin 1s steps(1) infinite;\n",
              "  }\n",
              "\n",
              "  @keyframes spin {\n",
              "    0% {\n",
              "      border-color: transparent;\n",
              "      border-bottom-color: var(--fill-color);\n",
              "      border-left-color: var(--fill-color);\n",
              "    }\n",
              "    20% {\n",
              "      border-color: transparent;\n",
              "      border-left-color: var(--fill-color);\n",
              "      border-top-color: var(--fill-color);\n",
              "    }\n",
              "    30% {\n",
              "      border-color: transparent;\n",
              "      border-left-color: var(--fill-color);\n",
              "      border-top-color: var(--fill-color);\n",
              "      border-right-color: var(--fill-color);\n",
              "    }\n",
              "    40% {\n",
              "      border-color: transparent;\n",
              "      border-right-color: var(--fill-color);\n",
              "      border-top-color: var(--fill-color);\n",
              "    }\n",
              "    60% {\n",
              "      border-color: transparent;\n",
              "      border-right-color: var(--fill-color);\n",
              "    }\n",
              "    80% {\n",
              "      border-color: transparent;\n",
              "      border-right-color: var(--fill-color);\n",
              "      border-bottom-color: var(--fill-color);\n",
              "    }\n",
              "    90% {\n",
              "      border-color: transparent;\n",
              "      border-bottom-color: var(--fill-color);\n",
              "    }\n",
              "  }\n",
              "</style>\n",
              "\n",
              "  <script>\n",
              "    async function quickchart(key) {\n",
              "      const quickchartButtonEl =\n",
              "        document.querySelector('#' + key + ' button');\n",
              "      quickchartButtonEl.disabled = true;  // To prevent multiple clicks.\n",
              "      quickchartButtonEl.classList.add('colab-df-spinner');\n",
              "      try {\n",
              "        const charts = await google.colab.kernel.invokeFunction(\n",
              "            'suggestCharts', [key], {});\n",
              "      } catch (error) {\n",
              "        console.error('Error during call to suggestCharts:', error);\n",
              "      }\n",
              "      quickchartButtonEl.classList.remove('colab-df-spinner');\n",
              "      quickchartButtonEl.classList.add('colab-df-quickchart-complete');\n",
              "    }\n",
              "    (() => {\n",
              "      let quickchartButtonEl =\n",
              "        document.querySelector('#df-e3eb732b-9c40-46d0-88ec-81655259e154 button');\n",
              "      quickchartButtonEl.style.display =\n",
              "        google.colab.kernel.accessAllowed ? 'block' : 'none';\n",
              "    })();\n",
              "  </script>\n",
              "</div>\n",
              "\n",
              "    </div>\n",
              "  </div>\n"
            ],
            "application/vnd.google.colaboratory.intrinsic+json": {
              "type": "dataframe",
              "summary": "{\n  \"name\": \"pd\",\n  \"rows\": 4,\n  \"fields\": [\n    {\n      \"column\": \"name\",\n      \"properties\": {\n        \"dtype\": \"string\",\n        \"num_unique_values\": 4,\n        \"samples\": [\n          \"jessica\",\n          \"john\",\n          \"beam\"\n        ],\n        \"semantic_type\": \"\",\n        \"description\": \"\"\n      }\n    },\n    {\n      \"column\": \"age\",\n      \"properties\": {\n        \"dtype\": \"number\",\n        \"std\": 2,\n        \"min\": 25,\n        \"max\": 32,\n        \"num_unique_values\": 4,\n        \"samples\": [\n          25,\n          32,\n          27\n        ],\n        \"semantic_type\": \"\",\n        \"description\": \"\"\n      }\n    }\n  ]\n}"
            }
          },
          "metadata": {},
          "execution_count": 68
        },
        {
          "output_type": "display_data",
          "data": {
            "text/plain": [
              "<google.colab._quickchart_helpers.SectionTitle at 0x797ae96f4e80>"
            ],
            "text/html": [
              "<h4 class=\"colab-quickchart-section-title\">Distributions</h4>\n",
              "<style>\n",
              "  .colab-quickchart-section-title {\n",
              "      clear: both;\n",
              "  }\n",
              "</style>"
            ]
          },
          "metadata": {}
        },
        {
          "output_type": "display_data",
          "data": {
            "text/plain": [
              "from matplotlib import pyplot as plt\n",
              "_df_0['age'].plot(kind='hist', bins=20, title='age')\n",
              "plt.gca().spines[['top', 'right',]].set_visible(False)"
            ],
            "text/html": [
              "      <div class=\"colab-quickchart-chart-with-code\" id=\"chart-716f7306-21ed-4731-b98e-4279761957a0\">\n",
              "        <img style=\"width: 180px;\" src=\"data:image/png;base64,iVBORw0KGgoAAAANSUhEUgAAAioAAAGrCAYAAADuNLxTAAAAOXRFWHRTb2Z0d2FyZQBNYXRwbG90\n",
              "bGliIHZlcnNpb24zLjguMCwgaHR0cHM6Ly9tYXRwbG90bGliLm9yZy81sbWrAAAACXBIWXMAAA9h\n",
              "AAAPYQGoP6dpAAAg1klEQVR4nO3dfVTUZf7/8dcIObYlYopBwGiKo5YKappftBtt27ItLbUtXUza\n",
              "UMpO7h46JyPX85XucLdOZW0d8ebQKdtuVqnYLDuZrtuNiVSW4a6AioOGYrSKlaIM1/cPf83PCWHF\n",
              "5sNcyPNxzpzDjJcf39dHpWczH2dcxhgjAAAAC3UI9wAAAABNIVQAAIC1CBUAAGAtQgUAAFiLUAEA\n",
              "ANYiVAAAgLUIFQAAYC1CBQAAWItQAQAA1iJUAACAtQgVAABgLUIFAABYi1AB0OqeffZZDRw4UFFR\n",
              "UYqNjdW0adP0zTffSJKOHTume++9V7GxsYqJiVF2drZGjx6t+fPnB37+nj17NHXqVMXHx6tHjx6a\n",
              "MmWK9u/fH6bdAHASoQKg1cXGxqqgoEAHDhzQxo0bVVpaqnvuuUeSlJubqzfeeEPr16/X7t275Xa7\n",
              "tXHjxsDPraur01VXXaULLrhApaWl2rFjhyIjIzV16tRwbQeAg1zGGBPuIQC0b6+//royMjJUU1Oj\n",
              "pKQkZWVladasWZIkv9+vCy64QHfddZfmz5+vgoIC3XPPPdq9e7dcLpek48+wJCQkqLKyUgkJCeHc\n",
              "CoAQiwz3AADan4KCAj3++OMqLy/XkSNH1NDQoO+//15+v1979uxRz549A2sjIiKUmJgYuF9WVqZ9\n",
              "+/apa9euQcd0u93y+XyECnCG4aUfAK1q9+7duvnmm3XPPffI5/OptrZWL774oiTJGKP4+Hjt2rUr\n",
              "sL6hoUG7d+8O3I+NjVXPnj114MCBoNuRI0eUmpra6vsB4CxCBUCr+u6779TQ0KDu3burU6dOKisr\n",
              "U25ubuDHp02bpieffFKlpaU6evSoHn74YdXU1AR+fOLEiTp27JjmzZungwcPSpKqq6v16quvtvpe\n",
              "ADiPUAHQqvr376/c3Fzddttt6ty5s6ZPn660tLTAj2dnZ+vXv/61LrvsMsXHx+vw4cMaMmSIOnXq\n",
              "JEnq3LmzNmzYIJ/Pp0GDBikqKkqpqan65z//Ga4tAXAQF9MCsFp9fb3i4uL09NNPa8qUKeEeB0Ar\n",
              "4xkVAFY5dOiQ/v73v+vo0aP67rvvNGfOHDU0NGjcuHHhHg1AGBAqAKzS0NCghx56SN27d1d8fLyK\n",
              "ior09ttvKzo6OtyjAQgDXvoBAADW4hkVAABgLUIFAABYi1ABAADWIlQAAIC1zohQWbhwYbhHAAAA\n",
              "DjgjQuXEzwUBAABnjjMiVAAAwJmJUAEAANYiVAAAgLUIFQAAYC1CBQAAWItQAQAA1iJUAACAtQgV\n",
              "AABgLUIFAABYi1ABAADWIlQAAIC1CBUAAGAtR0Nl9uzZ6tWrl1wulzZv3tzkumXLlqlv377q06eP\n",
              "ZsyYoWPHjjk5FgAAaCMcDZXJkyfrww8/VM+ePZtcs3PnTs2bN08ffPCBysvLtW/fPi1evNjJsQAA\n",
              "QBvhaKhcfvnlSkhIaHbNihUrNH78eMXGxsrlcunOO+/Uyy+/3OT6uro61dbWBt38fn+oRwcAABaI\n",
              "DPcAPp8v6BmXXr16yefzNbk+NzdXOTk5QY+NHDnSkdl63b/KkeNKUsWCXzt2bPx//B4Gc+p8tMVz\n",
              "AZxpztS/323uYtrs7GwdPHgw6DZixIhwjwUAABwQ9mdUPB6Ptm/fHrhfUVEhj8fT5Hq32y232x30\n",
              "WEREhGPzAQCA8An7MyqTJk1SYWGh9u7dK2OMFi1apFtvvTXcYwEAAAs4GiqZmZlKSEjQ7t27dc01\n",
              "1ygpKUmSlJGRocLCQklS7969lZOTo1GjRikpKUkxMTHKzMx0ciwAANBGOPrST15e3kkfX7p0adD9\n",
              "GTNmaMaMGU6OAgAA2qCwv/QDAADQFEIFAABYi1ABAADWIlQAAIC1CBUAAGAtQgUAAFiLUAEAANYi\n",
              "VAAAgLUIFQAAYC1CBQAAWItQAQAA1iJUAACAtQgVAABgLUIFAABYi1ABAADWIlQAAIC1CBUAAGAt\n",
              "QgUAAFiLUAEAANYiVAAAgLUIFQAAYC1CBQAAWItQAQAA1iJUAACAtQgVAABgLUIFAABYi1ABAADW\n",
              "IlQAAIC1CBUAAGAtQgUAAFiLUAEAANYiVAAAgLUIFQAAYC1CBQAAWItQAQAA1iJUAACAtQgVAABg\n",
              "LUIFAABYi1ABAADWIlQAAIC1CBUAAGAtQgUAAFiLUAEAANYiVAAAgLUIFQAAYC1CBQAAWItQAQAA\n",
              "1iJUAACAtQgVAABgLUIFAABYi1ABAADWIlQAAIC1CBUAAGAtQgUAAFiLUAEAANYiVAAAgLUIFQAA\n",
              "YC1CBQAAWItQAQAA1iJUAACAtQgVAABgLUdDpaysTKmpqfJ6vRo+fLhKSkoarWloaFBWVpYuuugi\n",
              "DR48WGPGjFF5ebmTYwEAgDbC0VDJzMzUzJkzVVpaqjlz5ig9Pb3RmsLCQn300Uf64osv9OWXX+qq\n",
              "q67SAw884ORYAACgjXAsVKqrq1VcXKy0tDRJ0qRJk1RZWdno2RKXy6W6ujodOXJExhjV1tYqISHB\n",
              "qbEAAEAbEunUgSsrKxUXF6fIyOO/hMvlksfjkc/nU1JSUmDdDTfcoHXr1ik2NladO3dWfHy81q9f\n",
              "3+Rx6+rqVFdXF/SY3+93ZhMAACCswn4xbXFxsb766ivt2bNHX3/9ta666irdeeedTa7Pzc1Vly5d\n",
              "gm5FRUWtODEAAGgtjoVKYmKiqqqqVF9fL0kyxsjn88nj8QSte+GFFzR27FhFR0erQ4cOmj59utat\n",
              "W9fkcbOzs3Xw4MGg24gRI5zaBgAACCPHQqVHjx4aOnSoli9fLklauXKlEhISgl72kaTevXtr7dq1\n",
              "Onr0qCTprbfe0sCBA5s8rtvtVlRUVNAtIiLCqW0AAIAwcuwaFUnKy8tTenq6Hn30UUVFRSk/P1+S\n",
              "lJGRofHjx2v8+PG6++679a9//UvJyck666yzFBsbq0WLFjk5FgAAaCMcDZV+/fppw4YNjR5funRp\n",
              "4Gu3260lS5Y4OQYAAGijwn4xLQAAQFMIFQAAYC1CBQAAWItQAQAA1iJUAACAtQgVAABgLUIFAABY\n",
              "i1ABAADWIlQAAIC1CBUAAGAtQgUAAFiLUAEAANYiVAAAgLUIFQAAYC1CBQAAWItQAQAA1iJUAACA\n",
              "tQgVAABgLUIFAABYi1ABAADWIlQAAIC1CBUAAGAtQgUAAFiLUAEAANYiVAAAgLUIFQAAYC1CBQAA\n",
              "WItQAQAA1iJUAACAtQgVAABgLUIFAABYi1ABAADWIlQAAIC1CBUAAGAtQgUAAFiLUAEAANYiVAAA\n",
              "gLUIFQAAYC1CBQAAWItQAQAA1iJUAACAtQgVAABgLUIFAABYi1ABAADWIlQAAIC1CBUAAGAtQgUA\n",
              "AFiLUAEAANYiVAAAgLUIFQAAYC1CBQAAWItQAQAA1iJUAACAtQgVAABgLUIFAABYi1ABAADWIlQA\n",
              "AIC1CBUAAGAtQgUAAFiLUAEAANYiVAAAgLUIFQAAYC1HQ6WsrEypqanyer0aPny4SkpKTrpuy5Yt\n",
              "uvLKKzVgwAANGDBABQUFTo4FAADaiEgnD56ZmamZM2cqPT1dK1asUHp6ujZt2hS05ocfftCECRP0\n",
              "wgsvaPTo0fL7/fr222+dHAsAALQRjj2jUl1dreLiYqWlpUmSJk2apMrKSpWXlwet++tf/6qRI0dq\n",
              "9OjRkqSIiAjFxMQ0edy6ujrV1tYG3fx+v1PbAAAAYeRYqFRWViouLk6RkceftHG5XPJ4PPL5fEHr\n",
              "tm7dKrfbreuvv14pKSm67bbbtH///iaPm5ubqy5dugTdioqKnNoGAAAIoxaHyrvvvhvSAerr67Vm\n",
              "zRrl5eXp888/V3x8vO66664m12dnZ+vgwYNBtxEjRoR0JgAAYIcWh8qDDz6ofv36aeHChaqtrW1y\n",
              "XWJioqqqqlRfXy9JMsbI5/PJ4/EErfN4PBozZozi4+PlcrmUlpamTz75pMnjut1uRUVFBd0iIiJa\n",
              "ug0AANAGtDhUPvroI73yyiv66quv5PV6NWvWLG3durXRuh49emjo0KFavny5JGnlypVKSEhQUlJS\n",
              "0Lrf/OY32rRpUyB63n77bSUnJ5/OXgAAwBnmtK5RGTJkiJYsWaLVq1frrbfe0uDBg3X11Vdry5Yt\n",
              "Qevy8vKUl5cnr9erBQsWKD8/X5KUkZGhwsJCScefUXnggQeUmpqqwYMHa+3atVq0aNHP3BYAADgT\n",
              "nNY/T16zZo2eeeYZbdmyRXfffbfuuOMO/eMf/9BNN90U9K96+vXrpw0bNjT6+UuXLg26P23aNE2b\n",
              "Nu10RgEAAGewFofKgAED1L17d82ePVsTJ04MXB8yefJkLVu2LOQDAgCA9qvFobJ8+XINGzbspD/2\n",
              "zjvv/OyBAAAAftTia1Q+/fTToHeOramp0ZIlS0I6FAAAgHQaofLcc8/pvPPOC9zv1q2bnnvuuZAO\n",
              "BQAAIJ1GqBhjGj3GW9gDAAAntDhU4uLi9NprrwXuv/rqq4qLiwvpUAAAANJpXEz71FNPacKECbrv\n",
              "vvskSb/4xS/05ptvhnwwAACAFodK//79tXXrVm3btk3S8fdK4S3sAQCAE07rDd9cLpeio6NVX1+v\n",
              "PXv2SFKjz/ABAAD4uVocKs8//7xmz56ts846Sx06HL/ExeVyqbq6OuTDAQCA9q3FofLQQw9p06ZN\n",
              "6tevnxPzAAAABLT4X/10796dSAEAAK2ixaFy44036qmnnlJ1dbVqa2sDNwAAgFBr8Us/c+fOlSRl\n",
              "ZWXJ5XLJGCOXy8WbvgEAgJBrcag0NDQ4MQcAAEAjLX7pRzr+wYQvvviiJOnAgQOqqqoK6VAAAADS\n",
              "aX4o4e9+9zvNnz9f0vFPT546dWqo5wIAAGh5qCxevFiffPKJoqKiJEl9+vTR/v37Qz4YAABAi0PF\n",
              "7Xbr7LPPDnosMvK03uAWAACgWS0OlZiYGJWWlsrlckk6/k61vH0+AABwwml9evKUKVP073//W4mJ\n",
              "iYqKitJbb73lxGwAAKCda3GoJCUlaePGjdq2bZuMMXx6MgAAcEyLQ8Xn80mSzjnnHEni05MBAIBj\n",
              "Whwqw4YNC7wj7ZEjR/TDDz+oW7dufHoyAAAIuRaHyk//KXJBQYG++OKLkA0EAADwo9N6Z9oTTZw4\n",
              "UatWrQrFLAAAAEFa/IzKiZ+U7Pf7tXHjRj49GQAAOKLFoRIdHR24RiUiIkJ9+/bV008/7cRsAACg\n",
              "nePTkwEAgLV+9jUqAAAATmnxMyodOnQIvH3+iYwxcrlc8vv9IRkMAACgxaHy4IMP6vDhw7rrrrsk\n",
              "SYsWLdLZZ5+tP/zhD6GeDQAAtHMtDpXXX39dn376aeD+ww8/rGHDhmnu3LkhHQwAAKDF16gcOnQo\n",
              "6F1oq6urdejQoZAOBQAAIJ3GMyr33nuvkpOTdd1110mSVq9erfnz54d6LgAAgJaHSmZmpkaNGqV1\n",
              "69ZJkrKysnTxxReHfDAAAIAWh4okdevWTYMGDdKVV16p+vp6HT16VB07dgz1bAAAoJ1r8TUqK1as\n",
              "0MiRI3X77bdLkkpKSnTjjTeGei4AAICWh0pubq4+++wzRUdHS5KSk5O1a9euUM8FAADQ8lCJiIhQ\n",
              "t27dgh7jZR8AAOCEFodK586dtW/fvsC7077//vs677zzQj4YAABAiy+m/dOf/qRx48Zpx44dGj16\n",
              "tHbu3KlVq1Y5MRsAAGjnWhQqDQ0N8vv9WrdunT7++GMZY5Samhq4XgUAACCUWhQqHTp00MyZM/XF\n",
              "F19o3LhxTs0EAAAg6TSuUenbt6/Ky8udmAUAACBIi69R+fbbb5WSkqLU1FSde+65gccLCgpCOhgA\n",
              "AMAph8rMmTO1ePFiTZ8+XePHj1fXrl2dnAsAAODUQ6W4uFiSNH36dA0dOlSfffaZY0MBAABIp3GN\n",
              "iiQZY0I9BwAAQCOn/IzK4cOHtWXLFhljdOTIkcDXPxo8eLAjAwIAgParRaEyfvz4wP0Tv3a5XNqx\n",
              "Y0doJwMAAO3eKYdKRUWFg2MAAAA0dlrXqAAAALQGQgUAAFiLUAEAANYiVAAAgLUIFQAAYC1CBQAA\n",
              "WItQAQAA1iJUAACAtQgVAABgLUdDpaysTKmpqfJ6vRo+fLhKSkqaXGuM0dixYxUdHe3kSAAAoA1x\n",
              "NFQyMzM1c+ZMlZaWas6cOUpPT29y7ZNPPqk+ffo4OQ4AAGhjHAuV6upqFRcXKy0tTZI0adIkVVZW\n",
              "qry8vNHakpISvfHGG7r//vv/63Hr6upUW1sbdPP7/SGfHwAAhJ9joVJZWam4uDhFRh7/3EOXyyWP\n",
              "xyOfzxe07tixY5oxY4by8vIUERHxX4+bm5urLl26BN2Kiooc2QMAAAivsF9Mm5OTo4kTJ2rAgAGn\n",
              "tD47O1sHDx4Muo0YMcLhKQEAQDhEOnXgxMREVVVVqb6+XpGRkTLGyOfzyePxBK1bv369fD6f/vKX\n",
              "v6i+vl61tbXq1auXNm3apJiYmEbHdbvdcrvdQY+dyjMxAACg7XHsGZUePXpo6NChWr58uSRp5cqV\n",
              "SkhIUFJSUtC6Dz74QLt27VJFRYU+/PBDRUVFqaKi4qSRAgAA2hdHX/rJy8tTXl6evF6vFixYoPz8\n",
              "fElSRkaGCgsLnfylAQDAGcCxl34kqV+/ftqwYUOjx5cuXXrS9b169dKBAwecHAkAALQhYb+YFgAA\n",
              "oCmECgAAsBahAgAArEWoAAAAaxEqAADAWoQKAACwFqECAACsRagAAABrESoAAMBahAoAALAWoQIA\n",
              "AKxFqAAAAGsRKgAAwFqECgAAsBahAgAArEWoAAAAaxEqAADAWoQKAACwFqECAACsRagAAABrESoA\n",
              "AMBahAoAALAWoQIAAKxFqAAAAGsRKgAAwFqECgAAsBahAgAArEWoAAAAaxEqAADAWoQKAACwFqEC\n",
              "AACsRagAAABrESoAAMBahAoAALAWoQIAAKxFqAAAAGsRKgAAwFqECgAAsBahAgAArEWoAAAAaxEq\n",
              "AADAWoQKAACwFqECAACsRagAAABrESoAAMBahAoAALAWoQIAAKxFqAAAAGsRKgAAwFqECgAAsBah\n",
              "AgAArEWoAAAAaxEqAADAWoQKAACwFqECAACsRagAAABrESoAAMBahAoAALAWoQIAAKxFqAAAAGsR\n",
              "KgAAwFqECgAAsJajoVJWVqbU1FR5vV4NHz5cJSUljdasXbtWI0aM0EUXXaSLL75Y9913nxoaGpwc\n",
              "CwAAtBGOhkpmZqZmzpyp0tJSzZkzR+np6Y3WdO3aVa+88oq2bt2qTz/9VB9//LFeeOEFJ8cCAABt\n",
              "hGOhUl1dreLiYqWlpUmSJk2apMrKSpWXlwetGzJkiHr37i1J6tSpk1JSUlRRUdHkcevq6lRbWxt0\n",
              "8/v9Tm0DAACEkWOhUllZqbi4OEVGRkqSXC6XPB6PfD5fkz9n7969WrFiha6//vom1+Tm5qpLly5B\n",
              "t6KiopDPDwAAws+ai2lra2t1ww036L777tMll1zS5Lrs7GwdPHgw6DZixIhWnBQAALSWSKcOnJiY\n",
              "qKqqKtXX1ysyMlLGGPl8Pnk8nkZrDx06pGuvvVYTJkxQVlZWs8d1u91yu91Bj0VERIR0dgAAYAfH\n",
              "nlHp0aOHhg4dquXLl0uSVq5cqYSEBCUlJQWt++6773Tttdfq2muv1R//+EenxgEAAG2Qoy/95OXl\n",
              "KS8vT16vVwsWLFB+fr4kKSMjQ4WFhZKkhQsXqqioSAUFBUpJSVFKSooeeeQRJ8cCAABthGMv/UhS\n",
              "v379tGHDhkaPL126NPD13LlzNXfuXCfHAAAAbZQ1F9MCAAD8FKECAACsRagAAABrESoAAMBahAoA\n",
              "ALAWoQIAAKxFqAAAAGsRKgAAwFqECgAAsBahAgAArEWoAAAAaxEqAADAWoQKAACwFqECAACsRagA\n",
              "AABrESoAAMBahAoAALAWoQIAAKxFqAAAAGsRKgAAwFqECgAAsBahAgAArEWoAAAAaxEqAADAWoQK\n",
              "AACwFqECAACsRagAAABrESoAAMBahAoAALAWoQIAAKxFqAAAAGsRKgAAwFqECgAAsBahAgAArEWo\n",
              "AAAAaxEqAADAWoQKAACwFqECAACsRagAAABrESoAAMBahAoAALAWoQIAAKxFqAAAAGsRKgAAwFqE\n",
              "CgAAsBahAgAArEWoAAAAaxEqAADAWoQKAACwFqECAACsRagAAABrESoAAMBahAoAALAWoQIAAKxF\n",
              "qAAAAGsRKgAAwFqECgAAsBahAgAArEWoAAAAaxEqAADAWoQKAACwlqOhUlZWptTUVHm9Xg0fPlwl\n",
              "JSUnXbds2TL17dtXffr00YwZM3Ts2DEnxwIAAG2Eo6GSmZmpmTNnqrS0VHPmzFF6enqjNTt37tS8\n",
              "efP0wQcfqLy8XPv27dPixYudHAsAALQRjoVKdXW1iouLlZaWJkmaNGmSKisrVV5eHrRuxYoVGj9+\n",
              "vGJjY+VyuXTnnXfq5ZdfbvK4dXV1qq2tDbr5/X6ntgEAAMIo0qkDV1ZWKi4uTpGRx38Jl8slj8cj\n",
              "n8+npKSkwDqfz6eePXsG7vfq1Us+n6/J4+bm5ionJyfosf79+ysrKyuk8/v9fsUVFWnEiBGKiIgI\n",
              "6bElKSvr/ZAfM9T8fr+KHDwHrWHiz/i5/23/beH38Kdaej5O9c9AWzwXp+JM+Dvwc7T3/Utt6xz8\n",
              "nO93TfH7/fqf/3nYsf337NlTv//975td41ioOCU7O7tRlLjdbrnd7pD+OrW1terSpYveffddRUVF\n",
              "hfTYbUV7Pwftff8S54D9t+/9S5wDG/bvWKgkJiaqqqpK9fX1ioyMlDFGPp9PHo8naJ3H49H27dsD\n",
              "9ysqKhqtOZETUQIAAOzk2DUqPXr00NChQ7V8+XJJ0sqVK5WQkBD0so90/NqVwsJC7d27V8YYLVq0\n",
              "SLfeeqtTYwEAgDbE0X/1k5eXp7y8PHm9Xi1YsED5+fmSpIyMDBUWFkqSevfurZycHI0aNUpJSUmK\n",
              "iYlRZmamk2MBAIA2wtFrVPr166cNGzY0enzp0qVB92fMmKEZM2Y4OUqLud1u/e///m+7fpmpvZ+D\n",
              "9r5/iXPA/tv3/iXOgQ37dxljTNh+dQAAgGbwFvoAAMBahAoAALAWoQIAAKxFqAAAAGsRKpKOHDmi\n",
              "G2+8UV6vV8nJybr66qsDn0l05ZVX6sILL1RKSopSUlL05JNPhnlaZzR3Dowxmj9/vrxerwYNGqQx\n",
              "Y8aEedrQa27/l156aeD3f+DAgXK5XPryyy/DPHFoNbf/oqIijRw5UkOGDNGAAQP05z//OczTOqO5\n",
              "c7Bp0yaNGjVKycnJSklJ0dq1a8M8rTN+9atfafDgwUpJSdFll12mzz//XJJUVlam1NRUeb1eDR8+\n",
              "XCUlJWGe1DlNnYPZs2erV69ecrlc2rx5c3iHdNDJ9t/c341WYWAOHz5sVq1aZRoaGowxxjzzzDPm\n",
              "iiuuMMYYc8UVV5jXX389fMO1kubOwVNPPWVuuukmU1dXZ4wxpqqqKlxjOqa5/Z/ob3/7mxk4cGAr\n",
              "T+e85vafnJxs3nzzTWOMMTU1NSYmJsaUlJSEa1THNHUOGhoaTHx8vHnvvfeMMcZs27bNJCYmmh9+\n",
              "+CGc4zriP//5T+DrgoICM3jwYGOMMWPGjDH5+fnGmON/By655JIwTNc6mjoH69evN5WVlaZnz57m\n",
              "888/D89wreBk+z/V749O4RkVSZ06ddJ1110nl8slSRo5cqQqKirCO1Qra+4cPPbYY1qwYIE6duwo\n",
              "SYqNjQ3XmI451T8Dy5Yt0x133NHK0zmvuf27XC4dOHBAkvT999+rY8eOOu+888I0qXOaOgc1NTXa\n",
              "v3+/fvnLX0qSvF6voqOj9c4774RzXEdER0cHvj548KBcLpeqq6tVXFystLQ0ScffTbyysrJ1/4+6\n",
              "FZ3sHEjS5ZdfroSEhDBN1XpOtv9w/zeSUDmJhQsXasKECYH7999/vwYNGqRbbrlFO3bsCONkrefH\n",
              "c1BbW6t9+/bpzTff1KWXXqpLL71Ur776arjHc9xP/wxIxz8RfP369YFv2GeyE/efn5+vefPmyePx\n",
              "yOv16tFHHz0jY/WnfjwH3bt3V1xcnF577TVJx18G2rZt2xn7PzO33XabEhMTNW/ePL344ouqrKxU\n",
              "XFycIiOPvz+oy+WSx+Np9lPu27qfnoP25r/t/2TfHx3Vas/dtBGPPPKIGTlypPn++++NMcb4fD5j\n",
              "jDENDQ3mmWeeMQMGDAjneK3ixHNQU1NjJJmcnBxjjDE7d+40cXFxZvPmzWGe0jk//TPwowcffNDc\n",
              "fPPNYZqq9fx0/7fccot56aWXjDHGbN++3SQkJJyRL/2c6KfnYPPmzeaaa64xKSkp5re//a0ZO3as\n",
              "WbhwYZindNbzzz9vxo0bZ4qLi43X6w36seHDh5v3338/TJO1nh/PwYnO9Jd+TnSy/Tf1/dFJhMoJ\n",
              "HnvsMTNs2LCg1+h+yu12m2+++ab1hmplJzsH5557rtm+fXvg/uTJk82SJUvCMJ3zmvoz0NDQYC68\n",
              "8EKzevXq8AzWSn66//3795uOHTsGrZk8ebJZvHhxGKZrHafyfaB///5mzZo1rTdUmHTq1Mns3bvX\n",
              "dO7c2Rw7dswYc/zvwvnnn2/KysrCPF3r6NSpU9D3/PYUKsYE7/9U/m44gZd+/p8nnnhCL7/8st57\n",
              "773Aa3T19fXat29fYM3KlSt1/vnnq1u3bmGa0lknOweSNGXKFK1evVqS9O2336qoqEiDBw8O05TO\n",
              "aWr/krR27VrV19fr6quvDs9wreBk++/atavOOeecwL9y+eabb7Rx40YNHDgwjJM6p6k/A1VVVYGv\n",
              "lyxZonPOOUdjx44Nw4TOOXDggL7++uvA/TfeeEPdunVTjx49NHToUC1fvlzS8e+DCQkJSkpKCteo\n",
              "jmnqHJyJ12SdTHP7b+77o9P4rB9Ju3fvVmJionr37q3OnTtLOv5BTGvXrtUVV1yhuro6dejQQd27\n",
              "d9cTTzyh5OTkME8cek2dg40bN6qmpka333574PqcWbNmadasWeEcN+Sa278kTZ06VX379lVOTk44\n",
              "x3RMc/tfs2aN5syZo/r6eh07dkwZGRnKysoK88Sh19w5yMnJ0UsvvSRjjAYMGKBnn31WiYmJYZ44\n",
              "tHbt2qWbb75Zhw8fVocOHRQTE6PHH39cKSkp2rZtm9LT01VTU6OoqCjl5+dr0KBB4R455Jo7B5mZ\n",
              "mVq1apX27t2rbt26qXPnzmfcBcVN7b979+7Nfn90GqECAACsxUs/AADAWoQKAACwFqECAACsRagA\n",
              "AABrESoAAMBahAoAALAWoQIAAKxFqAAAAGsRKgAAwFqECgAAsNb/AZ8zdsMZHbzTAAAAAElFTkSu\n",
              "QmCC\n",
              "\">\n",
              "      </div>\n",
              "      <script type=\"text/javascript\">\n",
              "        (() => {\n",
              "          const chartElement = document.getElementById(\"chart-716f7306-21ed-4731-b98e-4279761957a0\");\n",
              "          async function getCodeForChartHandler(event) {\n",
              "            const chartCodeResponse =  await google.colab.kernel.invokeFunction(\n",
              "                'getCodeForChart', [\"chart-716f7306-21ed-4731-b98e-4279761957a0\"], {});\n",
              "            const responseJson = chartCodeResponse.data['application/json'];\n",
              "            await google.colab.notebook.addCell(responseJson.code, 'code');\n",
              "          }\n",
              "          chartElement.onclick = getCodeForChartHandler;\n",
              "        })();\n",
              "      </script>\n",
              "      <style>\n",
              "        .colab-quickchart-chart-with-code  {\n",
              "            display: block;\n",
              "            float: left;\n",
              "            border: 1px solid transparent;\n",
              "        }\n",
              "\n",
              "        .colab-quickchart-chart-with-code:hover {\n",
              "            cursor: pointer;\n",
              "            border: 1px solid #aaa;\n",
              "        }\n",
              "      </style>"
            ]
          },
          "metadata": {}
        },
        {
          "output_type": "display_data",
          "data": {
            "text/plain": [
              "<google.colab._quickchart_helpers.SectionTitle at 0x797ae96f5ea0>"
            ],
            "text/html": [
              "<h4 class=\"colab-quickchart-section-title\">Categorical distributions</h4>\n",
              "<style>\n",
              "  .colab-quickchart-section-title {\n",
              "      clear: both;\n",
              "  }\n",
              "</style>"
            ]
          },
          "metadata": {}
        },
        {
          "output_type": "display_data",
          "data": {
            "text/plain": [
              "from matplotlib import pyplot as plt\n",
              "import seaborn as sns\n",
              "_df_1.groupby('name').size().plot(kind='barh', color=sns.palettes.mpl_palette('Dark2'))\n",
              "plt.gca().spines[['top', 'right',]].set_visible(False)"
            ],
            "text/html": [
              "      <div class=\"colab-quickchart-chart-with-code\" id=\"chart-f1a224de-ad54-4d3e-b523-e8d453f0d897\">\n",
              "        <img style=\"width: 180px;\" src=\"data:image/png;base64,iVBORw0KGgoAAAANSUhEUgAAAj4AAAGZCAYAAACJwztnAAAAOXRFWHRTb2Z0d2FyZQBNYXRwbG90\n",
              "bGliIHZlcnNpb24zLjguMCwgaHR0cHM6Ly9tYXRwbG90bGliLm9yZy81sbWrAAAACXBIWXMAAA9h\n",
              "AAAPYQGoP6dpAAAZqUlEQVR4nO3de5DVdf348ddhkcVJFi94QRMRUcDlZuyuhKJCppiKDlhe8laB\n",
              "oRkqXmlskLQoMzSlGaxpMEP/yBuWtxmJRNRMKBhAki+KXAQ3vLC7ILiwu5/fH037a1OaXdvds7vv\n",
              "x2PmM7Pn8Dmf8zrvcTzP+XzO7sllWZYFAEACOuV7AACA1iJ8AIBkCB8AIBnCBwBIhvABAJIhfACA\n",
              "ZAgfACAZwgcASIbwAQCSIXw+xc9//vN8jwAAtADh8ynWr1+f7xEAgBYgfACAZAgfACAZwgcASIbw\n",
              "AQCSIXwAgGQIHwAgGcIHAEiG8AEAkiF8AIBkCB8AIBnCBwBIhvABAJIhfACAZAgfACAZwgcASIbw\n",
              "AQCSIXwAgGQIHwAgGcIHAEiG8AEAkiF8AIBkdM73AG3RR79ZEuXP/TTfYwBAh3LIqhvzPYIzPgBA\n",
              "OoQPAJAM4QMAJEP4AADJED4AQDKEDwCQDOEDACRD+AAAyRA+AEAyhA8AkAzhAwAkQ/gAAMkQPgBA\n",
              "MoQPAJAM4QMAJEP4AADJED4AQDKEDwCQjHYVPrlcLioqKpr0mHvuuSfKy8tbZiAAoF1pV+HzWQgf\n",
              "AOBf2mX4ZFkWN998c4wdOzZ27NgRM2fOjNLS0hg6dGiUlpbGn//854iI+MEPfhCbN2+O888/P4YO\n",
              "HRrLli3L7+AAQF7lsizL8j1EY+VyuSgvL49rrrkmDjjggLj33nujoKAg3nvvvTjwwAMjIuLVV1+N\n",
              "yy+/PN54442IiOjdu3fMmzcvhg4d+qnHrK6ujurq6gb3Ten9lbjjkHNa9LUAQGoOWXVjvkdof2d8\n",
              "zjzzzCguLo5f/OIXUVBQEBERS5cujZNPPjkGDhwYkyZNitWrV8fOnTsbdbwZM2ZE9+7dG2zLdm5s\n",
              "yZcAAORJuwuf0aNHx/PPPx9VVVUREbFr164YN25c3HXXXbFy5cp48cUXIyI+cRZnT6ZOnRqVlZUN\n",
              "tqF7H95i8wMA+dPuwud73/tejBs3Lk499dT44IMP4uOPP45du3ZFr169IiLivvvua7B/UVFRVFZW\n",
              "7vF4hYWFUVRU1GAryLW7ZQEAGqFdvsNfe+21MXHixBg9enTs2LEj7rjjjigrK4thw4ZFly5dGuw7\n",
              "efLkmDhxog83AwDt68PNreXbB5wU0w8+O99jAECH4sPNAACtSPgAAMkQPgBAMoQPAJAM4QMAJEP4\n",
              "AADJED4AQDKEDwCQDOEDACRD+AAAyRA+AEAyhA8AkAzhAwAkQ/gAAMkQPgBAMoQPAJAM4QMAJEP4\n",
              "AADJ6JzvAdqiz11WEofMvDHfYwAAzcwZHwAgGcIHAEiG8AEAkiF8AIBkCB8AIBnCBwBIhvABAJIh\n",
              "fACAZAgfACAZwgcASIbwAQCSIXwAgGQIHwAgGcIHAEiG8AEAkiF8AIBkCB8AIBnCBwBIhvABAJIh\n",
              "fACAZAgfACAZwgcASIbwAQCSIXwAgGQIHwAgGcIHAEiG8AEAkiF8AIBkCB8AIBnCBwBIhvABAJIh\n",
              "fACAZAgfACAZwgcASIbwAQCSIXwAgGQIHwAgGcIHAEiG8AEAkiF8AIBkCB8AIBnCBwBIhvABAJIh\n",
              "fACAZAgfACAZuSzLsnwP0daUfOHcGH3yhHyPAQAdyp13n5XvEZzxAQDSIXwAgGQIHwAgGcIHAEiG\n",
              "8AEAkiF8AIBkCB8AIBnCBwBIhvABAJIhfACAZAgfACAZwgcASIbwAQCSIXwAgGQIHwAgGcIHAEiG\n",
              "8AEAkiF8AIBkCB8AIBltMnyGDh0a27Zt2+O/r1u3Lvbdd9/WGwgA6BA653uAT7Ns2bJ8jwAAdEBt\n",
              "8oxPLpeLioqKWLJkSYwYMSIGDx4cZWVl8fLLLzfYb9q0aTFs2LDo27dvPPPMMw0e/6Mf/SjKysri\n",
              "yCOPjDlz5uzxuaqrq6OqqqrBltXVtdhrAwDyp02GT0TErl27Yty4cTFt2rRYvnx5zJw5M8aPHx/b\n",
              "t2+PiIjKysoYPHhw/PWvf41Zs2bFdddd1+DxhYWF8dprr8Wzzz4bkydPjpqamk99nhkzZkT37t0b\n",
              "bO/+4/9a/PUBAK2vzYbP6tWro1OnTnH66adHRMSJJ54YBx98cP1lsK5du8a4ceMiIuKLX/xivPXW\n",
              "Ww0e//Wvfz0iIvr37x+dO3eO8vLyT32eqVOnRmVlZYOt58HHtNCrAgDyqU1+xmdPcrlc/c+FhYX1\n",
              "twsKCqK2trbBvl27dq3/uaCgYI9nfAoLC6OwsLDh83Rqsz0IAPwP2uw7fL9+/aKuri6ef/75iIh4\n",
              "5ZVXory8PIYOHZrfwQCAdqvNnvEpLCyMxx9/PCZPnhzXX399dO3aNR599NHYZ5994v3338/3eABA\n",
              "O9TmwmfLli3RpUuX6NatW5SUlMQrr7zyiX169+4dFRUV9bf32WefyLKs/va//xwRQgkAiIg2dqlr\n",
              "8eLFMXz48Ljtttuik8/ZAADNrE2d8SktLY21a9fmewwAoINyWgUASIbwAQCSIXwAgGQIHwAgGcIH\n",
              "AEiG8AEAkiF8AIBkCB8AIBnCBwBIhvABAJIhfACAZAgfACAZwgcASIbwAQCSIXwAgGR0zvcAbdFJ\n",
              "p/SJO2eele8xAIBm5owPAJAM4QMAJEP4AADJED4AQDKEDwCQDOEDACRD+AAAyRA+AEAyhA8AkIzP\n",
              "FD67d++Ot956q7lnAQBoUU0OnxdeeCGOOOKIGDVqVERELF68OC6++OJmHwwAoLk1OXxuueWWWLRo\n",
              "URxwwAEREVFaWhpLly5t9sEAAJpbk8OntrY2jjrqqAb3denSpdkGAgBoKU0On65du8b27dsjl8tF\n",
              "RMSKFSti7733bvbBAACaW+emPuD73/9+nHbaabFp06a4+OKLY/78+fHwww+3xGwAAM2qyeFz2mmn\n",
              "xdFHHx3PPfdcZFkW06dP/8SlLwCAtqjJ4RMRceSRR8aVV17Z3LMAALSoJn/G58UXX4yysrLYf//9\n",
              "o6ioKLp16xZFRUUtMRsAQLNq8hmfiRMnxg9/+MMoKyuLgoKClpgJAKBFNDl8ioqK4rzzzmuJWQAA\n",
              "WlSTL3WNHz8+fvvb38auXbtaYh4AgBbT5PAZMGBAXHXVVbH33ntHQUFBdOrUySUvAKBdaPKlruuu\n",
              "uy6efPLJKCkpETwAQLvS5PA56KCDYvTo0S0xCwBAi2rypa6xY8fGrFmzYsuWLVFVVVW/AQC0dbks\n",
              "y7KmPKBTp//fSrlcLrIsi1wuF7W1tc0+XL5MmTIlZs6cme8xAIBm1uRLXXV1dS0xBwBAi2vypS4A\n",
              "gPaqyeGzZs2aOOOMM+LQQw+N/fffv34DAGjrmhw+EydOjMsvvzz222+/WLhwYZx33nlxww03tMRs\n",
              "AADNqsnhU1VVFeeff3506tQpBg0aFPfff3/MmzevBUYDAGheTQ6fvfbaKyIiunXrFuvWrYvq6up4\n",
              "//33m30wAIDm1uTf6jrppJPigw8+iKuvvjqGDRsWXbp0iQsuuKAlZgMAaFZN/js+/27jxo1RWVkZ\n",
              "AwcObM6Z8s7f8QGAjukz/Tp7XV1dbN68ObIsi6KiotiwYUNzzwUA0OyafKnrgQceiMmTJ8dee+1V\n",
              "/1ecc7lcbNmypdmHAwBoTk0On9tvvz0WL14c/fr1a4l5AABaTJMvdfXo0UP0AADtUpPD59xzz417\n",
              "7rnHt7MDAO2Ob2f/FH6rCwA6Jt/ODgAkw7ezAwDJED4AQDKEDwCQDOEDACRD+AAAyfifvqS0o/pG\n",
              "cS6mlmpCAGhOxzyQ/z99490dAEiG8AEAkiF8AIBkCB8AIBnCBwBIhvABAJIhfACAZAgfACAZwgcA\n",
              "SIbwAQCSIXwAgGQIHwAgGcIHAEiG8AEAkiF8AIBkCB8AIBnCBwBIhvABAJLRouEzdOjQ2LZtW7Md\n",
              "b/bs2fHTn/602Y4HAKSlc0sefNmyZc16vEmTJjXr8QCAtLToGZ9cLhcVFRWxZs2aOPPMM6O0tDQG\n",
              "Dx4cs2bNioiInTt3xvnnnx/HHntsDBkyJE477bSIiFizZk2ccMIJMWTIkBg0aFDceuutERFx2223\n",
              "xbXXXlt//J/85CcxaNCgGDJkSAwfPjx27NgR5eXlMWrUqBg2bFgUFxfH1VdfHXV1dS35MgGAdqJF\n",
              "z/hERNTW1saFF14Yc+fOjf79+8eOHTti+PDhcfzxx8c777wTFRUVsWrVqoiI+PDDDyMiYtasWXHW\n",
              "WWfF1KlTG9z/737zm9/EY489Fi+99FJ07949tm7dGoWFhbHvvvvGH/7wh9hnn32itrY2zjnnnPjd\n",
              "734XF1xwwafOV11dHdXV1Q1n1kkA0CG1ePisXr06Xn/99QbhsW3btli1alWMHDky/v73v8dVV10V\n",
              "J598cnzlK1+JiIiTTjopbrzxxti+fXucfPLJceqpp37iuE899VRMmjQpunfvHhER++23X0T8M2Ru\n",
              "vvnmeOmllyLLstiyZUsMHDhwj+EzY8aMmD59eoP7hvRolpcOALQxLf5bXVmWxf777x/Lli2r395+\n",
              "++247LLLok+fPrFq1aoYM2ZMvPzyyzFw4MDYunVrjB8/Pl5++eXo169f/dmfxpo5c2Zs2bIl/vKX\n",
              "v8Ty5cvjoosuio8//niP+0+dOjUqKysbbIOFDwB0SC0ePv369YuioqKYM2dO/X1vvvlmfPjhh/HO\n",
              "O+9ELpeLsWPHxl133RVZlsXGjRtjzZo1cfDBB8ell14ad955Z7z66qufOO7YsWNj9uzZUVlZGRER\n",
              "FRUVUVtbG1u3bo1DDjkkunbtGuXl5fHII4/81/kKCwujqKiowVbgl/wBoENq8Utde+21Vzz11FNx\n",
              "7bXXxt133x21tbXRo0ePePjhh2PFihUxderUyLIsampq4pJLLonBgwfHjBkzYu7cudGlS5eoq6uL\n",
              "2bNnf+K4l1xySWzevDlGjBgRnTt3js997nMxf/78uOaaa+K8886L4uLiOPTQQz/1MhkAkKZclmVZ\n",
              "Sxx4y5Ytcfjhh8fOnTujU6f2dQrlG8W5mFravmYGgLbumAdq8z1Cy1zqWrx4cQwfPjxuu+22dhc9\n",
              "AEDH1SKXukpLS2Pt2rUtcWgAgM/M6RgAIBnCBwBIhvABAJIhfACAZAgfACAZwgcASIbwAQCSIXwA\n",
              "gGQIHwAgGcIHAEiG8AEAkiF8AIBkCB8AIBnCBwBIhvABAJIhfACAZHTO9wBt0X6nXxfHzJyZ7zEA\n",
              "gGbmjA8AkAzhAwAkQ/gAAMkQPgBAMoQPAJAM4QMAJEP4AADJED4AQDKEDwCQDOEDACRD+AAAyRA+\n",
              "AEAyhA8AkAzhAwAkQ/gAAMkQPgBAMoQPAJAM4QMAJEP4AADJED4AQDKEDwCQDOEDACRD+AAAyRA+\n",
              "AEAyhA8AkAzhAwAkQ/gAAMkQPgBAMoQPAJAM4QMAJEP4AADJED4AQDKEDwCQDOEDACRD+AAAyRA+\n",
              "AEAyhA8AkAzhAwAkQ/gAAMkQPgBAMoQPAJAM4QMAJEP4AADJED4AQDKEDwCQjFyWZVm+h2hr9jm9\n",
              "NPa94Ev5HgMAOpR3vvHjfI/gjA8AkA7hAwAkQ/gAAMkQPgBAMoQPAJAM4QMAJEP4AADJED4AQDKE\n",
              "DwCQDOEDACRD+AAAyRA+AEAyhA8AkAzhAwAkQ/gAAMkQPgBAMoQPAJAM4QMAJKPVwyeXy0VFRUVr\n",
              "Py0AgDM+AEA68hI+d911Vxx33HFxzDHHxEMPPVR//+LFi2P06NFRUlISxx13XDzyyCMREVFTUxOn\n",
              "n356lJSURHFxcVx00UXx0UcfRUTECy+8EAMHDowrr7wyBg8eHIMGDYrly5fH5ZdfHoMGDYrjjz8+\n",
              "Nm3alI+XCQC0MXkJn1wuF0uXLo3nnnsuvvvd78a6deuioqIirrjiinjooYdiyZIl8fzzz8f1118f\n",
              "mzZtioKCgnj44YdjyZIlsXLlyujevXvcd9999cd74403YsKECbF8+fI499xzY/To0XHLLbfEihUr\n",
              "oqSkJO655549zlJdXR1VVVUNtqjNWmEVAIDW1jkfTzphwoSIiOjTp0+cdNJJ8eKLL0aPHj1i7dq1\n",
              "ccYZZzTYd/Xq1dGzZ8+4++674+mnn46ampqorKyMESNG1O/Tt2/fGDZsWERElJSURN++faN///4R\n",
              "EVFWVhZPPPHEHmeZMWNGTJ8+vcF9e/U5tFleJwDQtuQlfP5TLpeLLMuiuLg4XnnllU/8+9y5c2PB\n",
              "ggWxcOHCKCoqinvvvTcWLFhQ/+9du3at/7mgoOATt2tqavb43FOnTo0pU6Y0uO/QcaP/l5cDALRR\n",
              "ebnUNWfOnIiIWLduXSxatChGjhwZI0aMiLfffjvmz59fv9+yZcti165dsXXr1ujRo0cUFRXFtm3b\n",
              "4oEHHmi2WQoLC6OoqKjBFgW5Zjs+ANB25OWMT21tbRx33HHx0Ucfxb333hu9e/eOiIinn346brjh\n",
              "hrj++utj9+7d0atXr5g3b15ceuml8eSTT0a/fv3iwAMPjJEjR8b69evzMToA0I7lsizzSd7/sM/p\n",
              "pbHvBV/K9xgA0KG8840f53sEf8cHAEiH8AEAkiF8AIBkCB8AIBnCBwBIhvABAJIhfACAZAgfACAZ\n",
              "wgcASIbwAQCSIXwAgGQIHwAgGcIHAEiG8AEAkiF8AIBkCB8AIBnCBwBIhvABAJLROd8DtEVXFI+M\n",
              "md/4cb7HAACamTM+AEAyhA8AkAzhAwAkQ/gAAMkQPgBAMoQPAJAM4QMAJEP4AADJED4AQDKEDwCQ\n",
              "DOEDACRD+AAAyRA+AEAyhA8AkAzhAwAkQ/gAAMkQPgBAMoQPAJAM4QMAJEP4AADJED4AQDKEDwCQ\n",
              "jM75HqCtqa6ujmeffTZqa2ujoKAg3+Mko7a2Nl577bUoKyuz7q3M2ueHdc8fa58frbHuRxxxRFxz\n",
              "zTX/dZ9clmVZizx7O1VVVRXdu3ePysrKKCoqyvc4ybDu+WPt88O654+1z4+2su4udQEAyRA+AEAy\n",
              "hA8AkAzh8x8KCwtj2rRpUVhYmO9RkmLd88fa54d1zx9rnx9tZd19uBkASIYzPgBAMoQPAJAM4QMA\n",
              "JCPZ8FmzZk2MGDEijjnmmCgtLY3XX3/9U/f79a9/HUcffXQcddRRMXHixNi9e3crT9qxNGbdFyxY\n",
              "EGVlZXHsscdGcXFx3HTTTVFXV5eHaTuWxv43HxGRZVmMHj069t1339YbsINq7LqvWLEiTjnllBgw\n",
              "YEAMGDAgHn/88VaetONpzNrX1dXFlClT4thjj43BgwfHqFGj4s0338zDtB3D5MmTo3fv3pHL5WLZ\n",
              "smV73C+v761ZokaNGpXNmTMny7Ise+SRR7KSkpJP7LN27dqsZ8+e2bvvvpvV1dVlZ599djZr1qxW\n",
              "nrRjacy6/+1vf8veeuutLMuybOfOndkJJ5xQ/xg+u8as/b/87Gc/yyZMmJB17969dYbrwBqz7h99\n",
              "9FF25JFHZosWLcqyLMtqamqyLVu2tOaYHVJj1v6JJ57IysrKsl27dmVZlmW333579tWvfrU1x+xQ\n",
              "Fi5cmG3cuDE74ogjsqVLl37qPvl+b00yfP7xj39k3bp1y3bv3p1lWZbV1dVlBx98cLZmzZoG+915\n",
              "553Zt7/97frbTz/9dHbCCSe06qwdSWPX/T995zvfyaZNm9YKE3ZcTVn7lStXZiNHjszefPNN4fM/\n",
              "auy6/+pXv8ouvPDCfIzYYTV27efNm5cNGTIkq6qqyurq6rIbb7wxu+666/Ixcofy38In3++tSV7q\n",
              "2rhxY/Ts2TM6d/7nd7Tmcrno1atXbNiwocF+GzZsiCOOOKL+du/evT+xD43X2HX/d+Xl5fHoo4/G\n",
              "WWed1VpjdkiNXfvdu3fHxIkT4/777/fljc2gseu+atWqKCwsjLPOOiuGDh0al156abz33nv5GLnD\n",
              "aOzan3322XHKKafEIYccEj179ow//vGP8YMf/CAfIycj3++tSYYP7UNVVVWcffbZcdNNN0VJSUm+\n",
              "x0nC9OnTY9y4cTFgwIB8j5KUmpqamD9/ftx///2xdOnSOOyww+LKK6/M91hJWLJkSaxcuTI2bdoU\n",
              "mzdvji996UsxadKkfI9FC0oyfA4//PB49913o6amJiL++UHODRs2RK9evRrs16tXr1i/fn397XXr\n",
              "1n1iHxqvseseEbFt27YYM2ZMnHPOOTFlypTWHrXDaezaL1y4MO67777o3bt3nHjiiVFVVRW9e/d2\n",
              "9uEzasr/a0aNGhWHHXZY5HK5uPjii+PVV1/Nx8gdRmPX/sEHH6z/IH+nTp3isssuiz/96U/5GDkZ\n",
              "+X5vTTJ8DjrooPjCF74Qc+fOjYiIxx57LD7/+c9H3759G+w3fvz4+P3vfx/l5eWRZVnMnj07Lrjg\n",
              "gnyM3CE0dt23b98eY8aMiTFjxsStt96aj1E7nMau/aJFi2L9+vWxbt26eOmll6KoqCjWrVsXBx54\n",
              "YD7Gbvcau+5f+9rXYvHixVFVVRUREc8880wMGTKk1eftSBq79n369IkFCxbErl27IiLiqaeeioED\n",
              "B7b6vCnJ+3trq32aqI154403suHDh2dHH310NmzYsGz58uVZlmXZt771rezJJ5+s3++Xv/xl1qdP\n",
              "n6xPnz7ZN7/5zfpP/vPZNGbd77jjjqxz587ZkCFD6rc77rgjn2N3CI39b/5f3n77bR9ubgaNXfcH\n",
              "H3wwKy4uzgYNGpSNGTMm27BhQ75G7jAas/Yff/xxNmHChKx///7ZoEGDsi9/+cv1v1VK011xxRXZ\n",
              "YYcdlhUUFGQHHXRQdtRRR2VZ1rbeW31XFwCQjCQvdQEAaRI+AEAyhA8AkAzhAwAkQ/gAAMkQPgBA\n",
              "MoQPAJAM4QMAJEP4AADJED4AQDKEDwCQjP8H68XW3yhhLUIAAAAASUVORK5CYII=\n",
              "\">\n",
              "      </div>\n",
              "      <script type=\"text/javascript\">\n",
              "        (() => {\n",
              "          const chartElement = document.getElementById(\"chart-f1a224de-ad54-4d3e-b523-e8d453f0d897\");\n",
              "          async function getCodeForChartHandler(event) {\n",
              "            const chartCodeResponse =  await google.colab.kernel.invokeFunction(\n",
              "                'getCodeForChart', [\"chart-f1a224de-ad54-4d3e-b523-e8d453f0d897\"], {});\n",
              "            const responseJson = chartCodeResponse.data['application/json'];\n",
              "            await google.colab.notebook.addCell(responseJson.code, 'code');\n",
              "          }\n",
              "          chartElement.onclick = getCodeForChartHandler;\n",
              "        })();\n",
              "      </script>\n",
              "      <style>\n",
              "        .colab-quickchart-chart-with-code  {\n",
              "            display: block;\n",
              "            float: left;\n",
              "            border: 1px solid transparent;\n",
              "        }\n",
              "\n",
              "        .colab-quickchart-chart-with-code:hover {\n",
              "            cursor: pointer;\n",
              "            border: 1px solid #aaa;\n",
              "        }\n",
              "      </style>"
            ]
          },
          "metadata": {}
        },
        {
          "output_type": "display_data",
          "data": {
            "text/plain": [
              "<google.colab._quickchart_helpers.SectionTitle at 0x797ae96f57b0>"
            ],
            "text/html": [
              "<h4 class=\"colab-quickchart-section-title\">Values</h4>\n",
              "<style>\n",
              "  .colab-quickchart-section-title {\n",
              "      clear: both;\n",
              "  }\n",
              "</style>"
            ]
          },
          "metadata": {}
        },
        {
          "output_type": "display_data",
          "data": {
            "text/plain": [
              "from matplotlib import pyplot as plt\n",
              "_df_2['age'].plot(kind='line', figsize=(8, 4), title='age')\n",
              "plt.gca().spines[['top', 'right']].set_visible(False)"
            ],
            "text/html": [
              "      <div class=\"colab-quickchart-chart-with-code\" id=\"chart-9feca3f4-7d02-46ed-b4a0-239f77b4ec2a\">\n",
              "        <img style=\"width: 180px;\" src=\"data:image/png;base64,iVBORw0KGgoAAAANSUhEUgAAApcAAAFuCAYAAADUGTPdAAAAOXRFWHRTb2Z0d2FyZQBNYXRwbG90\n",
              "bGliIHZlcnNpb24zLjguMCwgaHR0cHM6Ly9tYXRwbG90bGliLm9yZy81sbWrAAAACXBIWXMAAA9h\n",
              "AAAPYQGoP6dpAABQz0lEQVR4nO3de3Db5Z0v/rcu1tW62LrEN9mO40sISewApSaQxPQGdNuly5Ye\n",
              "2tkCPSelZ3tOu7t0Tpmds5ltth2ycyYnO+lhh8Pu7HRL2y3LUqA3zvw6AWzCpQmhiRMS8CWJbcmJ\n",
              "Y0m2JOt++/7+kPy1vpESbEe2JPv9mmEgfqTwuErIu5/n+3w+MkEQBBARERERFYG81BsgIiIiorWD\n",
              "4ZKIiIiIiobhkoiIiIiKhuGSiIiIiIqG4ZKIiIiIiobhkoiIiIiKhuGSiIiIiIqG4ZKIiIiIiobh\n",
              "koiIiIiKhuGSiIiIiIqG4ZKIiIiIiobhkoiIiIiKhuGSiGgJ/vEf/xFbt26F0WhEXV0dvvrVr8Lj\n",
              "8QAAEokEvvOd76Curg42mw1//dd/jbvuugvf+973xPdPTk7iK1/5ChobG2G32/HlL38Zbre7RN8N\n",
              "EVHxMVwSES1BXV0dXnzxRfh8Phw7dgzDw8P41re+BQA4cOAAXn75ZQwMDMDlckGtVuPYsWPie2Ox\n",
              "GD75yU+ioaEBw8PDuHDhApRKJb7yla+U6tshIio6mSAIQqk3QURUqV566SXs3bsXXq8X7e3tePzx\n",
              "x/HNb34TAJBKpdDQ0IA///M/x/e+9z28+OKL+Na3vgWXywWZTAYgU8lsamqC0+lEU1NTKb8VIqKi\n",
              "UJZ6A0REleTFF1/EwYMHMTo6img0inQ6jVAohFQqhcnJSbS0tIivVSgUcDgc4o9HRkZw5coV1NTU\n",
              "SH5OtVqNiYkJhksiWhN4LE5EtEgulwsPPvggvvWtb2FiYgKBQAA/+clPAACCIKCxsRHj4+Pi69Pp\n",
              "NFwul/jjuro6tLS0wOfzSf6KRqPYuXPnqn8/REQrgeGSiGiRgsEg0uk0rFYrNBoNRkZGcODAAXH9\n",
              "q1/9Kv7hH/4Bw8PDiMfj+MEPfgCv1yuuP/DAA0gkEti3bx/8fj8AYHp6Gv/+7/++6t8LEdFKYbgk\n",
              "IlqkzZs348CBA3j44YdhMBjwyCOP4M/+7M/E9b/+67/GH/3RH2HXrl1obGxEJBLBjh07oNFoAAAG\n",
              "gwHvvPMOJiYmsG3bNhiNRuzcuRNvvPFGqb4lIqKi44UeIqIVkkwmUV9fjx/+8If48pe/XOrtEBGt\n",
              "ClYuiYiKZG5uDr/+9a8Rj8cRDAbxxBNPIJ1O47777iv11oiIVg3DJRFRkaTTaXz/+9+H1WpFY2Mj\n",
              "jh8/jldeeQVms7nUWyMiWjU8FiciIiKiomHlkoiIiIiKhuGSiIiIiIqG4ZKIiIiIiobhkoiIiIiK\n",
              "pmzC5eHDh0u9BSIiIiK6QWUTLnPn8RIRERFRZSqbcElERERElY/hkoiIiIiKhuGSiIiIiIqG4ZKI\n",
              "iIiIiobhkoiIiIiKhuGSiIiIiIqG4ZKIiIiIiobhkoiIiIiKZsnh8jOf+Qy2b9+Onp4e7Nq1CydP\n",
              "nkQ0GsUXvvAFdHZ2oru7G5/+9KcxOjq6EvslIiIiojK25HD5/PPP4/Tp0zh16hQef/xxPProowCA\n",
              "xx57DENDQxgcHMT999+PvXv3FnuvRERERFTmlhwuzWaz+M9+vx8ymQwajQaf/exnIZPJAAC9vb0Y\n",
              "Gxsr1h6JiIiIqABBEEq9hTzK5bzp4Ycfxuuvvw4AeOWVV/LWDx8+jPvvv/+a74/FYojFYpKvpVKp\n",
              "5WyFiIiIaN0QBAHn3SH0D01jYNiNDUYNDj7YXeptSSwrXD777LMAgB//+Md44oknJAHzySefxOjo\n",
              "KF599dVrvv/AgQPYv3+/5Gu9vb3L2QoRERHRmhaKJfH2ea8YKF2zEXHNrKtCKi1AIZeVcIdSMuEG\n",
              "66larRYulwsWiwUHDx7Ec889hyNHjkiOz69WqHK5b98+HD58+Ea2QkRERFTxBEHA8JUgBoan0T/k\n",
              "xrtjM0ikFuKaSiHHx9tqsafThr4uGzbZqsVHE8vBkiqXPp8P4XAYDQ0NAICXX34ZFosFtbW1OHTo\n",
              "EH7+859/ZLAEALVaDbVaLfmaQqFY2s6JiIiI1oi5aAJvjXowMOzGwJAbl/xRyXpzrQ59XZkw2dtm\n",
              "gU61rMPnVbGknfn9fjz44IOIRCKQy+Ww2Wz4zW9+g8nJSXznO99BW1sb7r77bgCZAHns2LEV2TQR\n",
              "ERFRJRMEAR9cnkP/8DQGhtx4b3wWyfRCdVKtlKO3zZINlHa0WnRlVZ28niWFy5aWFhw/frzgWjne\n",
              "ViIiIiIqF/5IAm+OeMRnJ6fnpI8IbrTqxaPu3jYLNFWVeapbvjVVIiIiogqWTgs4dzmA/qHMs5Mn\n",
              "nT6kcqqT2ioFdm6yYE+XDXs6bWix6Eu42+JhuCQiIiIqktlQHEdHM9XJN4Y98ASl1cl2ezX6Om3Y\n",
              "02XDx1prK7Y6eT0Ml0RERETLlE4LOD3px8CQG/3D0xh0+pBTnIRepcDOdiv6umzY3WGDo1ZXus2u\n",
              "EoZLIiIioiXwBmN4YyRzq/uNEQ9mQnHJetcGA/q6MtXJ21pqoVIueSBiRWO4JCIiIrqOVFrAKacP\n",
              "A9mLOKcn/ci9x2xQK3Fntjq5p8uGepO2dJstAwyXRERERFdxz8UyPSeH3Tg64oYvnJCs31RvzLQJ\n",
              "6rThlpYaVCnWV3XyehguiYiIaN1LptI46fSJbYLenwxI1o0aJXZ12MSb3RuMmhLttPwxXBIREdG6\n",
              "NOWP4o3hzEWcoyMezEWTkvVtjSax72SPwwwlq5OLwnBJRERE60IilcaJsVkMDLvRPzSND6fmJOtm\n",
              "XRV2d2TC5K4OG2wG9TV+JroehksiIiJasy75IugfcmNgeBpvjXoRjC1UJ2UyYHuTGX3Z6uT2JjMU\n",
              "8soYsVjOGC6JiIhozYglUzgxNis+Ozl8JShZt+hV2N25UJ2s1atKtNO1i+GSiIiIKppzJoz+4Uzf\n",
              "ybfPexCOp8Q1uQzocZjR12VHX5cNWxtMkLM6uaIYLomIiKiiRBMpHL84Ix53n3eHJOvWarV4EWdX\n",
              "hxVmHauTq4nhkoiIiMreuDeE/qHMRZx3LngRTaTFNYVchluba8Q2QVvqjaxOlhDDJREREZWdSDyF\n",
              "31/0ZmZ2D01jzBuWrG8wqtHXaceeLhvubLfCpK0q0U7pagyXREREVHKCIOCCJ5QJk8NuHLvgRSy5\n",
              "UJ1UymW4rbUGfV127Om0YXOdATIZq5PliOGSiIiISiIcT+LtUW+m7+TwNJwzEcl6g0mDPdmLODs3\n",
              "WWDQsDpZCRguiYiIaFUIgoDR6WD2Io4bxy/OIJ5aqE6qFHJ8bGMN+jozgbLdXs3qZAViuCQiIqIV\n",
              "E4wl8daoB/1Dbrwx7MakT1qdbKrRoq/Lhr5OO+7YZIFezWhS6fgJEhERUdEIgoChK3Pize4TY7NI\n",
              "pgVxXaWUo7fNIrYKarPqWZ1cYxguiYiI6IYEogm8NeIRj7unAlHJeqtFJ17E6W2zQKtSlGintBoY\n",
              "LomIiGhJBEHA2UsBDGSn4rw3MYtUTnVSUyXHHW0WMVC2WvUl3C2tNoZLIiIi+kj+cAJvjGQqkwPD\n",
              "brjnYpL1NptevIhz+8ZaaKpYnVyvGC6JiIgoTzot4P1LfvGo++TELHKKk9CpFNi5yZJpFdRpg6NW\n",
              "V7rNUllhuCQiIiIAwEwojqMjbvFmtzcUl6x3bqjOXsSx47bWGqiVrE5SPoZLIiKidSqVFnDa5cvc\n",
              "7B5247TLByGnOlmtVuLOdgv2ZMcsNpq1pdssVQyGSyIionXEE4zhjeFMdfLoiBuz4YRkfXOdQbyI\n",
              "c2tLDVRKeYl2SpWK4ZKIiGgNS6bSGJyvTg65cWbSL1k3aJTY1WFFX6cduzttqDNpSrRTWisYLomI\n",
              "iNaY6UA0O6/bjTdHPPBHpNXJmxuMmak4XXbscJihVLA6ScXDcElERFThEqk0/jA+i/5s38lzlwOS\n",
              "dZO2KlOd7LJjd6cVdgOrk7RyGC6JiIgq0GV/BAPZo+63Rj2YiyXFNZkM2N5owp5OG/Z02dHdZGJ1\n",
              "klbNksPlZz7zGUxNTUEul8NgMOCHP/whduzYgW9/+9v41a9+hfHxcZw8eRI9PT0rsF0iIqL1KZ5M\n",
              "48T4jBgoh67MSdZr9Srs7rBiT5cNuzpssFarS7RTWu+WHC6ff/55mM1mAMBLL72ERx99FIODg/ji\n",
              "F7+I7373u7jrrruKvUciIqJ1adIXQf/QNPqH3Hh71INQPCWuyWRAj8OMvmyboG2NJijkshLulihj\n",
              "yeFyPlgCgN/vh0yW+YW8e/fuom2KiIhoPYolU3j34mwmUA67MTodlKxbq1XY3WnDnk4bdnfYUKNX\n",
              "lWinRNe2rGcuH374Ybz++usAgFdeeWXJ74/FYojFpDNJU6nUNV5NRES0dk14wxgYzlYnz3sRSSz8\n",
              "eSiXAbc016Cvy4Y9nXbc3GCEnNVJKnPLCpfPPvssAODHP/4xnnjiiSUHzAMHDmD//v2Sr/X29i5n\n",
              "K0RERBUlmkjh9xe8GMje7L7gCUnW7Qa1OGLxrnYrTLqqEu2UaHlkgpA76GnptFotXC4XLBYLAKC1\n",
              "tRUvv/zydS/0FKpc7tu3D4cPH76RrRAREZWli54Q+oemMTDsxjvnvYgl0+KaUi7DLS2Z6mRfpx03\n",
              "1RvER86IKtGSKpc+nw/hcBgNDQ0AgJdffhkWiwW1tbVL+peq1Wqo1dJbbAqFYkk/BxERUbmKxFN4\n",
              "54IH/UNuDAy7Me4NS9brTZpsddKGne1WGDWsTtLasaRw6ff78eCDDyISiUAul8Nms+E3v/kNZDIZ\n",
              "vvGNb+C3v/0tpqamcM8998BgMGB0dHSl9k1ERFQ2BEHAefdCdfLYxRnEc6qTVQoZPtZaKz472bmh\n",
              "mtVJWrOWFC5bWlpw/PjxgmvPPPNMUTZERERUCUKxJN4+7xUDpWs2IllvNGuzYTJTnaxWc24JrQ/8\n",
              "lU5ERLQIgiBg+EpQvNn97tgMEqmFawsqhRwfb6sVj7s32VidpPWJ4ZKIiOga5qIJvDXqEW92X/JH\n",
              "JevNtbrMRZwuG3rbLNCp+McqEX8XEBERZQmCgA8uz2Fg2I3+oWm8Nz6LZHqhOqlWytHbZskGSjta\n",
              "LTpWJ4muwnBJRETrmj+SwJsjHgwMZ56dvBKQtsprs+qxu3OhOqmpYncTouthuCQionUlnRZw7nJA\n",
              "nNl90ulDKqc6qa1SYOcmC/Zk+042W3Ql3C1R5WG4JCKiNW82FMfRUQ/6h6bxxrAHnqC0Otlur0Zf\n",
              "pw17umz4WGstq5NEN4DhkoiI1px0WsDpST8GhtzoH57GoNOHnOIk9CoFdrZb0ddlw+4OGxy1rE4S\n",
              "FQvDJRERrQneYAxvjGRudb8x4sFMKC5Z79pgyPSd7LLhtpZaqJTyEu2UaG1juCQiooqUSgs45fRl\n",
              "2wRN4/SkH0JOddKgVuLObHVyT5cN9SZt6TZLtI4wXBIRUcVwz8UyYXLYjaMjbvjCCcn6lnpj9iKO\n",
              "Dbe01KBKweok0WpjuCQiorKVTKVx0ukTRyy+PxmQrBs1SuzqzIxY7Ou0wW7UlGinRDSP4ZKIiMrK\n",
              "lD+KN4YzF3GOjngwF01K1rc1msSZ3T0OM5SsThKVFYZLIiIqqUQqjffGZ9E/lJmK8+HUnGTdrKvC\n",
              "7o5ME/NdHTbYDOoS7ZSIFoPhkoiIVt0lX0QcsfjWqBfB2EJ1UiYDtjeZ0ZedirO9yQyFnCMWiSoF\n",
              "wyUREa24WDKFE2OzYqAcvhKUrFv0KnHE4q4OG2r1qhLtlIhuFMMlERGtCOdMGP3Dmb6Tb5/3IBxP\n",
              "iWtyGbCjuSZzEafLhq0NJshZnSRaExguiYioKKKJFI5fnEH/kBsDw9M47w5J1m0GNfZkb3bv6rDC\n",
              "rGN1kmgtYrgkIqJlG/eGxIs471zwIppIi2sKuQy3NtdgT/Zm95Z6I6uTROsAwyURES1aJJ7C7y96\n",
              "MzO7h6Yx5g1L1jcY1ejrtGNPlw13tlth0laVaKdEVCoMl0REdE2CIOCCJ5QJk8NuHLvgRSy5UJ1U\n",
              "ymW4rbUGfV127Om0YXOdATIZq5NE6xnDJRERSYTjSbw96s3c7B6ehnMmIllvMGmwp8uOvi4bdm6y\n",
              "wKBhdZKIFjBcEhGtc4IgYHQ6mL2I48bxizOIpxaqkyqFHLdvrBVvdrfbq1mdJKJrYrgkIlqHgrEk\n",
              "3hr1oH/IjTeG3Zj0SauTjlpt5tnJThvu2GSBXs0/LohocfhfCyKidUAQBAxdmRNvdp8Ym0UyLYjr\n",
              "KqUcvW0WsTrZZtWzOklEy8JwSUS0RgWiCbw14hGPu6cCUcl6q0UnXsTpbbNAq1KUaKdEtJYwXBIR\n",
              "rRGCIODspQAGslNx3puYRSqnOqmpkuOONosYKFut+hLulojWKoZLIqIK5g8n8MZIpjI5MOyGey4m\n",
              "WW+z6dHXmbnZffvGWmiqWJ0kopXFcElEVEHSaQHvX/KLR90nJ2aRU5yETqXAzk1W7Omyoa/TBket\n",
              "rnSbJaJ1ieGSiKjMzYTiODriFm92e0NxyXrnhursRRw7bmutgVrJ6iQRlQ7DJRFRmUmlBZx2+cTq\n",
              "5KDLByGnOlmtVuLOdgv2ZMcsNpq1pdssEdFVGC6JiMqAJxjDG8OZ6uTRETdmwwnJ+uY6g3gR59aW\n",
              "GqiU8hLtlIjo+pYcLj/zmc9gamoKcrkcBoMBP/zhD7Fjxw6MjIzgkUcegcfjgclkwr/+67/i5ptv\n",
              "Xok9ExFVvGQqjcFsdbJ/yI0zk37JukGjxK4OK/o67djdaUOdSVOinRIRLc2Sw+Xzzz8Ps9kMAHjp\n",
              "pZfw6KOPYnBwEN/4xjfw2GOP4dFHH8ULL7yARx99FO+++26x90tEVLGmA9HsvG433hzxwB+RVidv\n",
              "bjCiryvz7OQOhxlKBauTRFR5lhwu54MlAPj9fshkMkxPT+PEiRP43e9+BwD40z/9U/z3//7fMTo6\n",
              "ivb29qJtloiokiRSafxhfDYTKIfcOHc5IFk3aasy1ckuO3Z3WmE3sDpJRJVvWc9cPvzww3j99dcB\n",
              "AK+88gqcTifq6+uhVGZ+OplMhubmZkxMTBQMl7FYDLGYtBdbKpVazlaIiMrKZX8EA9mLOG+OeDAX\n",
              "S4prMhmwvdGEPZ027Omyo8dhhkLOEYtEtLYsK1w+++yzAIAf//jHeOKJJ/D9739/Se8/cOAA9u/f\n",
              "L/lab2/vcrZCRFRS8WQaJ8ZnxED54dScZL1Wr8LujkzfyV0dNlir1SXaKRHR6pAJQm6Di6XTarUY\n",
              "GxtDR0cHZmZmoFQqIQgC6uvr8eabby66crlv3z4cPnz4RrZCRLQqJn0R9A9No3/IjbdHPQjFF05e\n",
              "ZDKgx2FGX7ZN0LZGE6uTRLSuLKly6fP5EA6H0dDQAAB4+eWXYbFYYLfbccstt+CnP/0pHn30Ufzi\n",
              "F79AU1PTNZ+3VKvVUKul/+9doWDTXyIqT7FkCu9enM0EymE3RqeDknVrtQq7s03Md7VbUaNXlWin\n",
              "RESlt6Rw6ff78eCDDyISiUAul8Nms+E3v/kNZDIZnnnmGTz66KN48sknYTQa8aMf/Wil9kxEtOIm\n",
              "vGEMDGerk+e9iCQWqpNyGXBLc414s3tLvRFyVieJiAAsMVy2tLTg+PHjBde6urrwzjvvFGVTRESr\n",
              "LZpI4fcXvBgYdmNgyI0LnpBk3W5QiyMW72q3wqSrKtFOiYjKGyf0ENG6ddETQv/QNAaG3fj9BS+i\n",
              "ibS4ppTLcEtLtjrZacdN9QbIZKxOEhF9FIZLIlo3IvEU3rngEWd2j3vDkvV6kyZbnbRhZ7sVRg2r\n",
              "k0RES8VwSURrliAIOO9eqE4euziDeHKhOlmlkOFjrbXo67JhT6cdnRuqWZ0kIrpBDJdEtKaEYkm8\n",
              "fd4rBkrXbESy3mjWihdx7thkQbWa/xkkIiom/leViCqaIAgYmQ6KfSffHZtBIrXQvlelkOPjbbXi\n",
              "ZZxNNj2rk0REK4jhkogqzlw0gbdGvRgYnsbAkBuX/FHJenOtLludtKG3zQKdiv+pIyJaLfwvLhGV\n",
              "PUEQ8MHlOQwMu9E/NI33xmeRTC9UJ9VKOXrbLOJx90arvoS7JSJa3xguiags+SMJvDniyVQnh924\n",
              "EpCOjG2z6rNTcTLVSU0Vp3wREZUDhksiKgvptIBzlwPis5MnnT6kcqqT2ioFdm6yYE+272SzRVfC\n",
              "3RIR0bUwXBJRyfjCcbwx4kH/0DTeGPbAE5RWJ9vt1ejrtGFPlw0fa61ldZKIqAIwXBLRqkmnBZyZ\n",
              "9KN/yI3+4WkMOn3IKU5Cr1JgZ7s123fShqYaVieJiCoNwyURrShvMIaj89XJEQ9mQnHJ+uY6A/Zk\n",
              "q5O3tdRCpZSXaKdERFQMDJdEVFSptIBTTh8Ght0YGJrG6Uk/hJzqpEGtxJ3z1ckuG+pN2tJtloiI\n",
              "io7hkohumHsulgmTw24cHXHDF05I1rfUG7MXcWy4paUGVQpWJ4mI1iqGSyJasmQqjZNOnzhi8f3J\n",
              "gGTdqFFiV2fmucm+ThvsRk2JdkpERKuN4ZKIFuVKIIqB7EWcoyMezEWTkvVtjSbxIk6Pwwwlq5NE\n",
              "ROsSwyURFZRIpfHe+GzmZvfQND6cmpOsm3VV2N2RaWK+q8MGm0Fdop0SEVE5YbgkItElX0QcsfjW\n",
              "qBfB2EJ1UiYDupvMmaPuLhu2N5mhkMtKuFsiIipHDJdE61gsmcKJsVkxUA5fCUrWLXqVOGJxV4cN\n",
              "tXpViXZKRESVguGSaJ1xzoTRP+zGwJAbb5/3IBxPiWtyGbCjuUasTm5tMEHO6iQRES0BwyXRGhdN\n",
              "pHD84gz6h9wYGJ7GeXdIsm4zqDNNzDtt2NVhhVnH6iQRES0fwyXRGjTuDWXDpBvvnPciklioTirk\n",
              "MtzaXIM92ZvdW+qNrE4SEVHRMFwSrQGReAq/v+jNtAoamsaYNyxZrzNqxKPune1WmLRVJdopERGt\n",
              "dQyXRBVIEARc8ISyfSfdOHbBi1gyLa4r5TLc1lqDvi47+rps6NpggEzG6iQREa08hkuiChGOJ/H2\n",
              "qDdzs3t4Gs6ZiGS9waTBnmyY3LnJAoOG1UkiIlp9DJdEZUoQBIxOB8VnJ49fnEE8tVCdVCnkuH1j\n",
              "rXjc3W6vZnWSiIhKjuGSqIwEY0m8NerBQLZV0KRPWp101GrR12nHnk4b7thkgV7N38JERFRe+CcT\n",
              "UQkJgoChK3OZ6uSQGyfGZ5BICeK6SilHb5sFfZ027Omyoc2qZ3WSiIjKGsMl0SoLRBN4a8QjHndP\n",
              "BaKS9VaLDn1dduzpsqF3owValaJEOyUiIlo6hkuiFSYIAs5eCohH3e9NzCKVXqhOaqrkuKPNkgmU\n",
              "nTa0WvUl3C0REdGNYbgkWgH+cAJHR91iddI9F5Ost9n06OvM3Oy+fWMtNFWsThIR0dqwpHAZjUbx\n",
              "0EMP4dy5c9BqtbDb7Xj66afR3t6Od999F3/5l3+JYDAImUyGQ4cO4ROf+MRK7ZuorKTTAt6/5Bf7\n",
              "Tp6cmEVOcRI6lQI7N1mxp8uGvk4bHLW60m2WiIhoBS25cvnYY4/hvvvug0wmw1NPPYW9e/fi9ddf\n",
              "x5/8yZ/gX//1X/GpT30Kw8PD+NSnPoWhoSFotdqV2DdRyc2E4jg6kjnqfmPEDU8wLlnv3FAtHnXf\n",
              "1loDtZLVSSIiWvuWFC41Gg0++9nPij/u7e3FwYMH4fV64Xa78alPfQoA0NnZCbPZjP/3//4fHnjg\n",
              "geLumKhEUmkBp10+8ah70OWDkFOdrFYrcWd75tnJ3Z02NJr5f6yIiGj9uaFnLg8fPoz7778fVqsV\n",
              "9fX1eP755/GlL30J7777LoaGhjA2NlbwfbFYDLGY9Bm0VCp1I1shWhGeYAxvDGeenTw64sZsOCFZ\n",
              "31xnEEcs3tJcA5VSXqKdEhERlYdlh8snn3wSo6OjePXVVwEAv/zlL/HEE0/gwIEDuPnmm3HXXXdB\n",
              "qSz80x84cAD79++XfK23t3e5WyEqmmQqjcFsdbJ/yI0zk37JukGjxK4Oa6aReZcNG4yaEu2UiIio\n",
              "PMkEIfdgb3EOHjyI5557DkeOHIHZbC74mptuuglPPfUUPvnJT+atFapc7tu3D4cPH17qVohu2HQg\n",
              "mp3X7cabIx74I9Lq5M0NRvR12dDXZccOhxlKBauTRERE17LkyuWhQ4fw85//PC9YXr58GfX19QCA\n",
              "f/7nf4Zer7/mbXG1Wg21Wi35mkLByw60OhKpNP4wPpsJlENunLsckKybtFWZ6mSXHbs7rbAbWJ0k\n",
              "IiJarCWFS5fLhe985ztoa2vD3XffDSATFI8dO4Z/+qd/ws9+9jMIgoCbbroJL730EsfUUdm47I9g\n",
              "IHsR580RD+ZiSXFNJgO2N5qwp9OGPV129DjMUMj5a5eIiGg5lnUsvhIef/xxHDp0qNTboDUinkzj\n",
              "xPiMGCg/nJqTrNfqVdjdkek7ubvDBku1+ho/ExERES0FJ/TQmjHpi6B/aBr9Q268PepBKL7QgUAm\n",
              "A3ocZnEqztZGE6uTREREK4DhkipWLJnCuxdnM4Fy2I3R6aBk3Vqtwu7OzEWcXe1W1OhVJdopERHR\n",
              "+sFwSRXFORNeqE6e9yKSWKhOymXALc014s3uLfVGyFmdJCIiWlUMl1TWookUjl2cQf/QNAaG3Ljg\n",
              "CUnW7QY19mSrk3e1W2HSVZVop0RERAQwXFIZuugJZcLksBu/v+BFNJEW15RyGW5tqcGeLhv6Ou24\n",
              "qd7ArgRERERlhOGSSi4ST+GdCx5xZve4NyxZrzdp0Ndlw55OG3a2W2HUsDpJRERUrhguadUJgoDz\n",
              "7oXq5LGLM4gnF6qTVQoZPtZamw2UdnRuqGZ1koiIqEIwXNKqCMWSePu8VwyUrtmIZL3RrBUv4tyx\n",
              "yYJqNX9pEhERVSL+CU4rQhAEjEwHxZvd747NIJFa6NevUsjx8bZa8TLOJpue1UkiIqI1gOGSimYu\n",
              "msBbo14MDGdudl/yRyXrzbW6bHXSht42C3Qq/vIjIiJaa/inOy2bIAj44PIcBobd6B+axnvjs0im\n",
              "F6qTaqUcd2yyiNXJjVZ9CXdLREREq4HhkpbEH0ngzRFPpjo57MaVQEyy3mbVY0/2ZndvmwWaKkWJ\n",
              "dkpERESlwHBJ15VOCzh3OSBexPnDhA+pnOqktkqBnZss4s3uZouuhLslIiKiUmO4pDy+cBxvjHjQ\n",
              "PzSNN4Y98ASl1cl2ezX6skfdt7XWsDpJREREIoZLQjot4MykH/1DbvQPT2PQ6UNOcRJ6lQI7261i\n",
              "I/OmGlYniYiIqDCGy3XKG4zh6Hx1csSDmVBcsr65zoA9nTbs6bLhtpZaqJTyEu2UiIiIKgnD5TqR\n",
              "Sgs45fRhYNiNgaFpnJ70Q8ipThrUStzVYRUDZb1JW7rNEhERUcViuFzD3HOxTJgcduPoiBu+cEKy\n",
              "vqXeKB5139JSgyoFq5NERER0Yxgu15BkKo2TTp94s/v9yYBk3ahRYlenDX2dmUBpN2pKtFMiIiJa\n",
              "qxguK9yVQBQD2Ys4R0c8mIsmJevbGk1idbLHYYaS1UkiIiJaQQyXFSaRSuO98dnMze6haXw4NSdZ\n",
              "N+uqsLsjM2JxV4cNNoO6RDslIiKi9YjhsgJc8kXEEYtvjXoRjC1UJ2UyoLvJnB2xaMP2JjMUclkJ\n",
              "d0tERETrGcNlGYolUzgxNisGyuErQcm6Ra8Sb3Xv6rChVq8q0U6JiIiIpBguy4RzJpwNk268fd6D\n",
              "cDwlrsllwI7mmsxFnC4btjaYIGd1koiIiMoQw2WJRBMpHL84I1Ynz7tDknWbQZ2pTnbasKvDCrOO\n",
              "1UkiIiIqfwyXq2jcG0L/UKbv5DvnvYgkFqqTCrkMtzbXYE/2ZveWeiOrk0RERFRxGC5XUCSewu8v\n",
              "ejOtgoamMeYNS9brjBrxIs7OditM2qoS7ZSIiIioOBgui0gQBFzwhLJ9J904dsGLWDItrivlMtzW\n",
              "WoO+Ljv6umzo2mCATMbqJBEREa0dDJc3KBxP4p3z3kzfyeFpOGcikvUGkwZ7smHyznYrqtX8n5yI\n",
              "iIjWLiadJRIEAaPTQfFm9/GLM4inFqqTKoUct2+sFafitNurWZ0kIiKidYPhchGCsSTeGvVgYNiN\n",
              "gSE3Jn3S6qSjVou+Tjv2dNpwxyYL9KxOEhER0Tq1pBQUjUbx0EMP4dy5c9BqtbDb7Xj66afR3t6O\n",
              "48eP49vf/jZisRii0Si+9rWv4bvf/e5K7XtFCYKAoStzmZvdQ26cGJ9BIiWI6yqlHL1tFrHvZJtV\n",
              "z+okEREREZZRuXzsscdw3333QSaT4amnnsLevXvR39+Pxx57DH/3d3+HP/7jP8bMzAw2b96Mz33u\n",
              "c9iyZctK7LvoAtEE3hrxiK2CpgJRyXqrRYe+Ljv2dNnQu9ECrUpRop0SERERla8lhUuNRoPPfvaz\n",
              "4o97e3tx8OBBAIBMJoPP5wMAhEIhqFQq1NbWFm+nRSYIAs5dDojVyfcmZpFKL1QnNVVy3NFmyQTK\n",
              "ThtarfoS7paIiIioMtzQw4GHDx/G/fffDwD40Y9+hPvvvx9/8zd/A7fbjWeeeQZ1dXUF3xeLxRCL\n",
              "xSRfS6VSBV+7Ev793Qkc/N0w3HPSPWyy6bGnM3Oz+/aNtdBUsTpJREREtBTy5b7xySefxOjoKA4c\n",
              "OAAA+Pu//3scOHAAExMTOHv2LP7n//yfOHfuXMH3HjhwACaTSfLX8ePHl7uVJXvp5GResDRqlNjS\n",
              "YEJjjRZ6NUMlERER0XLIBEEQPvplUgcPHsRzzz2HI0eOwGw2w+PxoLGxUVKNfPDBB/GZz3wGX//6\n",
              "1/PeX6hyuW/fPhw+fHgZ38LSzYTi+O3pSzjp9OGU04cLV831BjINzzfXG9DjMKO7yYwdzWa0Was5\n",
              "kpGIiIjoOpZ8LH7o0CH8/Oc/F4MlANTU1ECv1+O1117DJz7xCXg8Hhw7dgyPP/54wZ9DrVZDrVZL\n",
              "vqZQrF61sFavwlfvaMVX78j82B9J4LTLh8Fs2Dzl9METjOP9yQDenwzgp5gAABjUSmx3mNDdZEaP\n",
              "I/OX3ahZtX0TERERlbslVS5dLhccDgfa2tpgMBgAZILisWPHcOTIETzxxBNIJpNIJBLYu3fvNcNl\n",
              "IY8//jgOHTq09O9gBQiCgElfBINOP045ZzHo9OPMpB+RRP5zoQ0mDbqzQbPbYca2RhP7XBIREdG6\n",
              "taxj8ZVQTuGykGQqjeErQZxyLlQ4h6fncPX/enIZ0LnBIIbNHocZHfZqKBXLfryViIiIqGKwxLZI\n",
              "SoUcWxqM2NJgxFc+3gwgM7nnjMuPQZcPpyZ8GHT5cNkfxYdTc/hwag7PvesEAGirFNjWZBKP0rsd\n",
              "ZjSYNGy8TkRERGsOw+UNqFYrcccmC+7YZBG/diUQFZ/bHHT6cNrlRzCWxPGLMzh+cUZ8nc2gFi8K\n",
              "dTeZsd1hglFTVYpvg4iIiKhoGC6LbINRg3tursM9N2d6fKbSAi64gziZc5z+4dQc3HMxHPngCo58\n",
              "cEV87yabHj2OGvQ4TOhx1KCrzgCVksfpREREVDkYLleYQi5DxwYDOjYY8KXbHACASDyFs5f8CxVO\n",
              "lw/OmQjOu0M47w7hF39wAcjMMN/aYBSf3exxmNFcq+NxOhEREZUthssS0KoUuK21Fre1LozH9ARj\n",
              "OJ19dvOUy49Bpw/+SAJ/mPDhDxM+8XU1uirJ7fSeJjNq9KoSfBdERERE+Rguy4S1Wo1PbN6AT2ze\n",
              "ACDTDmnMGxZbIZ10+vDBpQBmwwn0D7nRP+QW39ti0YnN3nuazdhSb+ToSiIiIioJhssyJZPJsNGq\n",
              "x0arHn+yowkAEEum8MHlOfHZzUGnDxc8IYx7wxj3hvHLU5cAAFUKGW6qN4rN3rsdZrRZ9ZwuRERE\n",
              "RCuO4bKCqJUK8dnLR7Jf84XjOO3yS/pvekOZr512+fGT348DAAwapSRs9jjMsBnU1/6XERERES0D\n",
              "w2WFM+tU2N1pw+5OG4DMcbprNiIJm2cm/ZiLJvHmqAdvjnrE9zaatdmwmbmdvrXRCJ2KvySIiIho\n",
              "+Zgk1hiZTAZHrQ6OWh0+390AAEik0hiampM0ex+ZDmLSF8GkL4LfnrkMIHOzPTNdyCRWODvsBih4\n",
              "nE5ERESLxPGP69RcNIEzk9Lj9CuBWN7rdCoFtjWa0NOcuZne02xGnZHThYiIiKgwVi7XKYOmCjs3\n",
              "WbFzk1X82pQ/ilPOWZxy+nHKOYszLj9C8RSOXZzBsZzpQnaDWqxs7nCYsa3JBAOnCxEREREYLilH\n",
              "nUmDe031uHdrPYDMdKHR6SAGnT5xwtDQlTlMz8Xwu3NX8LtzmelCMhnQbquWNHvvqjOgSsHpQkRE\n",
              "ROsNwyVdk0IuQ1edAV11BnzpY5npQuF4EmcvBbLN3jPPcE76IhiZDmJkOogX3stMF1Ir5djaaJJU\n",
              "OJtqtDxOJyIiWuMYLmlJdColPtZai4/lTBdyz8UwmB1jOT/Sci6axHvjs3hvfFZ8nUWvQndOs/fu\n",
              "JhPMOk4XIiIiWksYLumG2QxqfGrLBnxqS2a6UDot4KI3JGn2fu5yAN5QHK99OI3XPpwW37vRqkd3\n",
              "00KFc0uDEWolpwsRERFVKoZLKjq5XIZNtmpsslXjgVsy04WiiRQ+uByQ3E4f84Zx0RPCRU8IL+dM\n",
              "F9pSb5Q0e2+1cLoQERFRpWC4pFWhqVJgR3MNdjTXiF+bDcUx6PJhMHs7fdDlx0wojkGXH4MuP/BO\n",
              "ZrqQUaOUXBbqdphhreZ0ISIionLEcEklU6NXoa/Ljr4uO4DMdCHnTES8KDTo8uH9ST8C0SSOjnhw\n",
              "dGRhulBTjVa8KNTtMGNrgwlaFY/TiYiISo3hksqGTCZDs0WHZosOf3zVdKGTOcfp591BuGYjcM1G\n",
              "8NvTC9OFujYYJM3eN9mqOV2IiIholXFCD1WcQDSBMy6/eDP9lNMH91z+dKFqtRLbGk2SI/U6k6YE\n",
              "OyYiIlo/WLmkimPUVOHOdivubM9MFxIEAZf9UbGyedLpwxmXH8FYEu9c8OKdC17xvXVGDbodJvQ4\n",
              "atDtMGF7kxnVav42ICIiKhb+qUoVTyaTocGsRYNZi/u2ZaYLJVNpjLqD4rObJyd8GL4yh6lAFFNn\n",
              "o/j/zi5MF+qwV0tup3dtMEDJ6UJERETLwnBJa5JSIcfmOiM21xnx0O3NADLThc64/AvN3id8uOSP\n",
              "YvhKEMNXgnj+RGa6kKZKjm0504V6HGY0mjldiIiIaDEYLmnd0KmU+HibBR9vs4hfmw5EMejKtkJy\n",
              "+jHo9GEulsS7Y7N4d2xhupC1WpUJm9nLQtubzDBpq0rxbRAREZU1hkta1+xGDT69RYNP50wXuuAJ\n",
              "SZq9f3A5AE8wjiMfTOPIBwvThdqs+sxFoeZM6Lyp3giVksfpRES0vjFcEuWQy2Vot1ej3V6NL966\n",
              "MF3o7CXpdKGJmTAueEK44AnhxZOTAACVQo4tDUbxZnqPw4wWi47H6UREtK4wXBJ9BE2VAre21ODW\n",
              "loXpQjOhuBg0Tzkzl4Z84YT443lmXRW6m8xiw/ftTSZYOF2IiIjWMIZLomWo1atw92Y77t68MF1o\n",
              "3BsWb6YPunw4eykAXziBgWE3Bobd4nuba3U5vTdNuLnBBE0VpwsREdHawHBJVAQymQytVj1arXrc\n",
              "39MIAIgn0/hwKiBp9n7BHcLETBgTM2H8evASAEApl2FzvUG8MLSj2Yw2azXknC5EREQViOGSaIWo\n",
              "lHJsb8rcLH/4jszX/JEETrt8kiN1TzCO9ycDeH8ygJ9iAgBgUCux3WHK3E7PVjntRk4XIiKi8rek\n",
              "cBmNRvHQQw/h3Llz0Gq1sNvtePrpp9He3o6Pf/zjiMUyI/iSySTOnj2LwcFBbN++fUU2TlSJTNoq\n",
              "7OqwYVeHDUDmOH3SF8Ggc6Ed0plJP+ZiSbw16sVbowvThRpMGvE4vdthxrZGE/ScLkRERGVmSbPF\n",
              "o9EoXnvtNdx3332QyWR46qmn8MILL6C/v1/yuhdeeAH79+/HmTNnFr0RzhYnykim0hi+EpTcTh+e\n",
              "nsPVv1PlMqBzg0HS7L3DXs3pQkREVFJLCpdXO3HiBL74xS9ibGxM8vX77rsP99xzD/7yL/9y0T8X\n",
              "wyXRtQVjOdOFsheGLvujea/TVimwrckkHqV3O8xoMGnYDomIiFbNDZ2pHT58GPfff7/ka06nEwMD\n",
              "A/jJT35yzffFYjHxCH1eKpW6ka0syTd+cgLheAotFh1aLfrMX1YdHLU6qJW8tUvlp1qtxB2bLLhj\n",
              "08J0oSuB6EIrJKcPp11+BGNJHL84g+MXZ8TX2Qxq8aJQd5MZ2x0mGDWcLkRERCtj2ZXLJ598Er/+\n",
              "9a/x6quvQqfTiV///ve/jzNnzuD555+/5nu/973vYf/+/ZKv9fb24p133lnOVpZEEAR07/8dAtFk\n",
              "3ppMBjSYtGi1LoTOFosOG616OGp1bBdDZS2VFnDBHcTJnOP0D6fmkErn/xbfZNOjx1GDHocJPY4a\n",
              "dNUZOF2IiIiKYlnh8uDBg3juuedw5MgRmM1m8euCIGDTpk14+umncc8991zz/YUql/v27cPhw4eX\n",
              "upUlEwQB747NYswbwrg3hDFPGGPeEMY8IYTi166eymRAvVGDVqseLRY9Wi26TOuZbABl8KRyFImn\n",
              "cPaSX9Ls3TkTyXudSinH1gZjTv9NM5prOV2IiIiWbsnh8tChQ/jZz36GI0eOoKamRrL26quv4mtf\n",
              "+xrGxsYgly+tClLqZy4FQYAnGM8ETm8YY55QNoBm/nkull/pzFVv0ohVzvnw2ZKtfmpVDJ5UPjzB\n",
              "GE5nn9085fJj0OmDP5LIe12NrkpyO72nyYwavaoEOyYiokqypHDpcrngcDjQ1tYGg8EAAFCr1Th2\n",
              "7BgA4Ctf+Qo6OjryjrwXo9Th8noEQcBMKC6GTjGAekO46AlhrsARe64NRjVaLHpstOjRctWRO1vJ\n",
              "UKkJgoAxb1hshXTS6cMHlwKIp9J5r22x6MRm7z3NZmypN7JqT0REEjd0W7yYyjlcXo8gCPCFE7h4\n",
              "9TF7NogWqgjlshnUmdB51TF7q1WPagZPKpFYMoUPLs+Jz24OOn244Anlva5KIcNN9Uax2Xu3w4w2\n",
              "q57ThYiI1jGGyxXmC2cqnuPZKue4d+EZz9nw9YOntVqd82xn5pg9c+yug4G3fWmV+cJxnHb5Jf03\n",
              "vaF43usMGqUkbPY4zLAZ1CXYMRERlQLDZQn5wwmMz+SHznFvuOAf2rkselX2cpFOcqu9xaKHScvg\n",
              "SStPEAS4ZiOSsHlm0o9YMv84vdGszYbNzO30rY1G6FSszBMRrUUMl2UqEE1gPHvEnql6hrPPeobg\n",
              "CV4/eNboqsQj9vkenvPPfJp0DJ60chKpNIam5iTN3kemg3nThRRyWXa6kEmscHbYDVDwOJ2IqOIx\n",
              "XFaguWhCrHSO59xsH/OG4Z6LXfe9Zl1VNmhmb7PnXDAy66rYeoaKbi6awJlJ6XH6lUD+r1OdSoFt\n",
              "jSb0NGdupvc0m1Fn5HQhIqJKw3C5xoRiyYUjdm8I456weNmo0B/ouYwapaSVUm5Pz1q9in/IU9FM\n",
              "+aM45ZzFKacfp5yzOOPyF+wzazeoxcrmDocZ25pMfN6YiKjMMVyuI+F4Jnhefcw+5gljKpA/pzqX\n",
              "QaPMe7ZzPoBaGDzpBqXSAkangxh0+sQJQ0NX8qcLyWRAu61a0uy9q86AKgWnCxERlQuGSwKQmeQy\n",
              "MRPOXi4KSXp6XvJfP3hWq5U5rZSkt9pt1WoGT1qWcDyJs5cC2WbvmWc4J33504XUSjm2NpokFc6m\n",
              "Gi1/3RERlQjDJX2kaCITPOdvsuf29Lzkj+Rd1silVynEZzvFRvLZIGo3MHjS0rjnYhjMjrGcH2lZ\n",
              "aIiBRa9Cd06z9+4mE8w6ThciIloNDJd0Q6KJFFyz4Zzm8dkA6gnhki+C9HV+dWmrFGIrpaurnnaD\n",
              "mo246SOl0wIuekOSZu/nLgeQSOX/wtto1aO7aaHCuaXBCLWS04WIiIqN4ZJWTCyZgms2kr3NLm0k\n",
              "75oNXzd4aqrkaKlduM2ee7O9zqhh8KRriiZS+OByQHI7fcwbzntdlUKGLfVGSbP3VgunCxER3SiG\n",
              "SyqJeDIN12xY0jx+PoA6ZyN5FzlyqZVytMy3UrpqbGaDSctwQHlmQ3EMunwYzN5OP+X0FZyQZdQo\n",
              "JZeFuh1mWKs5XYiIaCkYLqnsJFJpTM5G8kLnmDcM50wYyesET5VSjuZaXSZ0WvRoyR63t1r0aDBr\n",
              "2aSbAGSmCzlnIuJFoUGXD+9fY7pQU41WvCjU7TBja4MJWhWP04mIroXhkipKMpXGJV9Ucqlo/llP\n",
              "50y44LN286oUMjhqddlLRdIG8g1mDZRsZ7OuzU8XOplznD46Hcx7nUIuQ9cGg6TZ+yZbNf+PCxFR\n",
              "FsMlrRmptIBLvog4rWgsp63ShDeMeCq/KjWvSiGDo0YnHrdvzJnb3lSjZfBcpwLRBM64/OLN9FNO\n",
              "X8EpWNVqJbY1miRH6nUmTQl2TERUegyXtC6k0gIu+yPiTXZJL8+ZMOIFjkPnKeUyNNVo80JnqzUT\n",
              "PNnAe/0QBAGX/VGxsnnS6cMZlx+RRP50oTqjBt0OE3ocNeh2mLC9yYxqtbIEuyYiWl0Ml7TupdMC\n",
              "pgLRgrfax7yhgs/hzVPIZWg0a69qpZT5u6NGB5WSwXOtS6bSGMlOF5qvbg5fmcvrhiCTAR32asnt\n",
              "9K4NBlbFiWjNYbgkuo50WsCVuSjGsuMyL2bntc/38yxUsZonlwGNNVrxJvv8852tVh0ctTr2WFzD\n",
              "QrEk3p/MHKcPZi8NFZp0pamSZ47TxWbvnC5ERJWP4ZJomQRBwPRcLFvxzK16Zv4ejl87eMpkQINJ\n",
              "K7lUND+33VGrg6aKwXOtmQ5EF8Km04fTTj/mYvnThazVqkzYzFY4ux1mmLRVJdgxEdHyMFwSrQBB\n",
              "EOAOxsTb7JKb7Z4QQh8RPOuNGrRa9QV7eTJ4rg3ptIALniBOZXtvDjr9+OByoGCrrTarXnKcflO9\n",
              "kY9cEFHZYrgkWmWCIMATjEsuFc0fs495QgWrWbnqTZqCYzNbLXr2X6xw0UQKZy9JpwtNzORPF1Ip\n",
              "5NjSYJQ0e2+16HicTkRlgeGSqIwIgoCZUDyvldJY9pLRXPT6wXODUZ25VGTRo+WqI3c9bypXpJlQ\n",
              "XHJZaNDlg6/AdCGzrgrdTWax4fv2JhMsnC5ERCXAcElUIQRBgC+cKNBAPvOMZ6HAkctmUGcbyEuP\n",
              "2VuterbIqSCCIGDcG8agy4eT2elCZy8FCrbTaq7V5fTeNOHmBhMfqyCiFcdwSbRG+MLxgq2Uxjyh\n",
              "gnO0c1mr1TnPdkobyRs0vExS7uLJND6cCkiavV9wh/Jep5TLsLnekDlKbzJjR7MZbdZqyDldiIiK\n",
              "iOGSaB3whxMYn8kPnePeMLyh+HXfa9GrspeLdJJb7S0WPW8xlzF/JIHTLp/kSN0TzP+sDWoltjtM\n",
              "4g31HocZdiOnCxHR8jFcEq1zgWgip3fnQiulMW8YnmD+qMNcNboq8Yh9vofn/DOfJh2DZzkRBAGT\n",
              "vggGc26nn5ksPF2o3qSRXBba1mjiM7tEtGgMl0R0TXPRBMa94bxq50VvqOCM7VxmXVU2aGZvs+dc\n",
              "MDLrqnizuQwkU2kMXwlKbqcPT8/h6j8V5DKgc4NB0g6pw17N6UJEVBDDJREtSyiWXAid2clF85eN\n",
              "rgSuHzyNGqV4tD7/rOf8P9fqVQyeJRSMJXHG5RcnCw26fLhcYLqQtkqBbY0m9DQvVDgbTBp+dkTE\n",
              "cElExReOJ7MVz/xenoWCSi6DRpn3bOd8ALUweJbElex0ofkK52mXH8EC/VhtBrV4Uai7yYxtTSY+\n",
              "l0u0DjFcEtGqisRTmJhZOGafv+E+5gkVnL+dq1qtzGmlJL3VbqtWM3iuklRawAV3ECdzjtM/nJpD\n",
              "qsB0oU02PXocNehxmNDjqEFXnYHThYjWOIZLIiob0UQKzpmw9FZ7tqfnJX8k71nAXHqVQny2U2wk\n",
              "nw2idgOD50qLxFM4e8kvafbunInkvU6llGNrgzGn/6YZzbWcLkS0ljBcElFFiCUzwXOhefxCAJ2c\n",
              "jaBA0UykrVIUHJm5MRs82edxZXiCMZzOPrt5yuXHoNMHfyS/52qNrkoMm90OM3qazKjRq0qwYyIq\n",
              "hiWFy2g0ioceegjnzp2DVquF3W7H008/jfb2dgiCgP379+Pf/u3foFarYbVa8frrry96IwyXRLRc\n",
              "sWQKrtlIXiulMU8IrtnwdYOnpkqOltqF2+y5N9vrjBoGzyISBAFj3rDYCumk04cPLgUQT+VPF2qx\n",
              "6MRm7z3NZmypN3K6EFGFWHK4fO2113DfffdBJpPhqaeewgsvvID+/n4cPnwYAwMDeO6556BSqTA1\n",
              "NYW6urpFb4ThkohWQjyZxqQvIrlUdDE7t905Gyn4nOA8tVKOlvlWSleNzWwwaRk8iyCWTOGDy3Pi\n",
              "s5uDTh8uePKnC1UpZLip3ig2e+92mNFm1fMzICpDN3QsfuLECXzxi1/E2NgYmpqa8Nprr6Gzs3NZ\n",
              "PxfDJRGttkQqjcnZSF7oHPeGMTETRvI6wVOllKO5VpcJnRY9WrLH7a0WPRrMWigYepbNF47jtMsv\n",
              "6b9ZaJKUQaOUhM0ehxk2g7oEOyaiXDc0cuHw4cO4//77EQgEcOXKFfzyl7/ECy+8ACATFv/Tf/pP\n",
              "Bd8Xi8UQi0n74KVS+VMiiIhWUpVCnqlGWvV5a8lUGpd8UcmlonFvCBe9IThnwogn0xidDmJ0Oljg\n",
              "55XBUavLXiqSNpBvMGvYfPwjmHUq7O60YXenDUDmON01G5GEzTOTfsxFk3hz1IM3Rz3iexvN2mzY\n",
              "zNxO39pohE7F6UJEq2nZv+OefPJJjI6O4tVXX0U0GkUymUQkEsGxY8cwNjaGnTt3YvPmzeju7s57\n",
              "74EDB7B//37J13p7e5e7FSKiolMq5Gi26NBs0WE3bJK1VFrAJV8kGzzDGM8euY95w5jwhhFPpXHB\n",
              "HcIFd+HjXUeNTjxu35gzt72pRsvgWYBMlgnrjlodPt/dACBTdR6ampM0ex+ZDmLSF8GkL4LfnrkM\n",
              "AFDIZdnpQiaxwtlhN7CyTLSClnUsfvDgQTz33HM4cuQIzGYzAMBgMGBwcBBtbW0AgAcffBD33HMP\n",
              "9u7dm/f+QpXLffv24fDhw8v4FoiIykcqLeCyPyIZmTl/uWg8W/G8FqVchqYabV7obLVmgmcVg+d1\n",
              "zUUTODMpPU4vNC1Kp8qZLpS9MFRn5HQhomJZcrg8dOgQfvazn+HIkSOoqakRv/7YY4+hp6cH3/zm\n",
              "NzEzM4MdO3bgP/7jP3D77bcv6uflM5dEtNal0wKmAlFp8/jskfuYN4TYdYKnQi5Do1l7VSulzN8d\n",
              "NTo2Jr+GKX8Up5yzOOX045RzFmdcfoTi+Y9h2Q1qsbK5w5GZLmTQcLoQ0XIsKVy6XC44HA60tbXB\n",
              "YDAAANRqNY4dOwav14uvfe1ruHDhAgDgm9/8Jr75zW8ueiMMl0S0nqXTAqbnYuKloqvHZkYS134u\n",
              "XS4DGmu04k32+ec7W62Zo2S1ki185qXSAkangxh0+sQJQ0NX8qcLyWRAu61a0uy9q87A6jHRIrCJ\n",
              "OhFRmROETPAcy04uuugNSXp6hgtU4ubJZECDSSu5VDQ/t91Rq2PvSADheBJnLwUyzd6zx+mTvvzp\n",
              "QmqlHFsbTZIKZ1ONlsfpRFdhuCQiqmCCIMAdjIlH6+M5x+xjnlDBI+B5MhlQb9Sg1aov2MtzPQdP\n",
              "91wMg9kxlvOBcy6azHudRa9Cd06z9+4mE8w6Thei9Y3hkohojRIEAZ5gXDxmz1Q7s2MzPSHMxfLD\n",
              "Uq56k6bg2MxWix5a1foKnum0gIvekHhR6JTThw8uB5BI5f8RutGqR3fTQoVzS4ORjybQusJwSUS0\n",
              "DgmCgJlQfOEm+/xzntkAWqhKl2uDUZ25VGTRo+WqI3e9en30lYwmUvjgckByO33MG857XZVChi31\n",
              "Rkmz91YLpwvR2sVwSUREEoIgwBdOiM92isfs2eqnL5y47vttBnW2gbz0mL3Vqkf1Gg+es6E4Bl0+\n",
              "DGZvp59y+jBb4H8vo0YpuSzU7TDDWs3pQrQ2MFwSEdGS+MLx/GP27DOehYJULmu1Oq+V0vzN9rXY\n",
              "+kcQBDhnIjiV0+z9/Ul/wbZTTTVa8aJQt8OMrQ2mdff4Aa0NDJdERFQ0/nAC4zP5rZTGPKGC88Fz\n",
              "WfSq7OUineRWe4tFD5N27QTP+elCJ3OO0wuNEVXIZejaYJA0e99kq+Z0ISp7DJdERLQqAtEExnNu\n",
              "tc+3UhrzhuEJ5k/SyVWjq5IcsW/MueG+Fm5nB6IJnHH5xctCp5w+uOfy/zepViuxrdEkOVKvM2lK\n",
              "sGOia2O4JCKikpuLJjDuDUuO2Od7ehYKWbnMuqqFVkrZI/b5C0ZmXVVF9qEUBAGX/VHxstBJpw9n\n",
              "XP6CzfTrjBp0O0zocdSg22HC9ibzmn+2lcobwyUREZW1UCy5EDq9IYx7FhrJF5odnsuoUUqqnLk9\n",
              "PWv1qooKnslUGiPZ6ULz1c3hK3O4argQZDKgw14tuZ3etcEAJacL0SphuCQioooVjiezFc/85zwv\n",
              "+6PXfa9Bo5SOzMzp5WmtrozgGYol8f5k5jh9MHtp6FKB71tTJc8cp4vN3jldiFYOwyUREa1JkXgK\n",
              "EzMLx+zzN9zHPKGCASxXtVqZ00pp/nZ7JojaqtVlHcqmA9GFsOn04bTTX7BhvrValQmb2Qpnd5MZ\n",
              "Jt3auThFpcNwSURE6040kYJzJixtpZTt6XnJH8H1/mTUqxSZo/VsK6Xcnp52Q/kFz3RawAVPEKey\n",
              "vTcHnX58cDmA5NXn6QDarHrJcfpN9UaolDxOp6VhuCQiIsoRS2aC50Lz+IUAOjkbyXvGMZe2SlHw\n",
              "mH1jNniWy1SeaCKFs5ek04UmZvKnC6kUcmxpMEqavbdadGUXoKm8MFwSEREtUiyZgms2ktdKacwT\n",
              "gms2fN3gqamSo6V24TZ7S87N9jqjpuTBcyYUl1wWGnT5Ck5jMmmrclohZZ7jtHC6EOVguCQiIiqC\n",
              "eDKNSV9EcqnoYnZuu3M2gtR1kqdaKUeLRSe51T5/2ajBpC1J8BQEAePeMAZdPpzMThc6eymAeIHp\n",
              "Qo5abaYVUpMJO5rNuLnBBE0VpwutVwyXREREKyyRSmNyNpIXOse9YUzMhAs+/zhPpZSjuVYn9vFs\n",
              "sS709Gwwa1d1Yk88mcaHUwFJs/cL7lDe65RyGTbXG8QLQz2OzHShUldnaXUwXBIREZVQMpXGJV9U\n",
              "cqlo3BvCRW8IzpkwEqlr/zFdpZDBUavLXiqSNpBvMGtWpbelP5LAaZdPcqTuCeaP+jSoldjWZBKf\n",
              "3dzhMMNu5HShtYjhkoiIqEyl0gIu+SLZ4BnGePbIfcwbxoQ3jHgq/4h6XpVCBkeNTjxu35gzt72p\n",
              "RrtiwVMQBEz6IhjMuZ1+ZrLwdKF6k0ZyO31bowl6TheqeAyXREREFSiVFnDZH5GMzBzLaShf6NnI\n",
              "eUq5DE012rzQ2WrNBM+qIgfPZCqN4StBye304em5vJZPchnQucEgafbeuaGa04UqDMMlERHRGpNO\n",
              "C5gKRCXH7PP/POYNIXad4KmQy9Bo1l7VSinzd0eNrmh9L4OxJM64/OJkoUGXr+BUJW2VAtsaTehp\n",
              "XmiH1GDSsB1SGWO4JCIiWkfSaQHTczHxUtHVYzMLHV/Pk8uAxhqtdGxm9llPR60OauWN3RC/kp0u\n",
              "NF/hPO3yI1hgupDNoEZ3kxk7stXNbU0mmLScLlQuGC6JiIgIQOZ5yem5GMayk4suerMBNFvxDMev\n",
              "HTxlMqDBpJVcKmqx6LDRqoejVres1kSptIAL7iBO5hynfzg1V7Ct0yabHj2OGvQ4TOhx1KCrzsDp\n",
              "QiXCcElEREQfSRAEuIMxSSul+arnuDdcsMI4TyYD6o0atFr1BXt5LiV4RuIpnL3klzR7d85E8l6n\n",
              "UsqxtcGY0/DdjOZaThdaDQyXREREdEMEQYA3FJdcKhLntntCmLtO8AQyt8YLjc1steihVX108PQE\n",
              "YzidfXbzlMuPQacP/kj+dKEa3cJ0oW6HGT1NZtToVcv+vqkwhksiIiJaMYIgYCYUX7jJflUADUSv\n",
              "Hzw3GNWZS0UWPVquOnK/VtsiQRAw5g2LrZBOOn344FKgYOumFosuEzazN9S31Bs5XegGMVwSERFR\n",
              "SQiCAF84UaCBfObvhWab57IZ1NkG8tJj9larHtVXBc9YMoUPLs+Jz24OOn244Ck8XeimeqN4lN7t\n",
              "MKPNqud0oSVguCQiIqKy5AvnVjzDYggd94YxE8qfApTLWq3Oa6U0f7PdoKkSf/7TLr+k/6a3wM9r\n",
              "0CjFUZbzx+o2g3pFvue1gG3wiYiIqCyZdSr06FTocZjz1vzhBMZn8lspjXlC8Ibi8ARj8ARjODE+\n",
              "m/dei16VV+3s67KhxaJHIJKQhM0zk37MRZN4c9SDN0c94s/RaNZmw2bmdvrWRiN0KsYqgJVLIiIi\n",
              "WmMC0QQmCtxqH/OG4QnGrvveGl2VJHQ21egQS6Yyx/eeEE45fRh1B/OmCynkMnRuMGRbIWUqnB12\n",
              "AxTr8Did4ZKIiIjWjWAsKbZPmh+bOf/P03PXD55mXRVaLHrYqlUIRJPwhePwhRPwRRIFx23qVDnT\n",
              "hbIXhuqMa3+6EOu3REREtG5Uq5XY2mjC1kZT3loolsT4/E12bwjjOc95XgnEMkEy7Fv0vyscT+HY\n",
              "xRkcuzgjfs1uUIuVzR2OzHSh+WdA14olhctoNIqHHnoI586dg1arhd1ux9NPP4329nb09fVhfHwc\n",
              "JlPmw3rkkUfwV3/1VyuyaSIiIqJi06uV2NJgxJYGY95aOJ7ExEy4YC/PQjPRr2V6LobfnbuC3527\n",
              "AiDTYL7dVi1p9t5VZ0CVonKnCy25cvnYY4/hvvvug0wmw1NPPYW9e/eiv78fAPAP//AP+MIXvlDk\n",
              "LRIRERGVlk6lxOY6IzbX5QfPaCIlHq1nQmcmfI57w7jkj+Q9n5lLEICR6SBGpoN44T0XAECtlGNr\n",
              "o0lS4Wyq0VbMcfqSwqVGo8FnP/tZ8ce9vb04ePBg0TdFREREVCk0VQp01RnQVWfIW4smUnDOhPNu\n",
              "tV/0hK4ZPGPJNN4bn8V7OTfdLXoVunOavXc3mWDWled0oRu60PPVr34VtbW1OHz4MPr6+jA1NYWq\n",
              "qips2bIFBw4cQFtbW8H3xWIxxGLSh2b37duHw4cPL3crRERERBUllkzBORORtlLKPuM5ORtB+iMS\n",
              "2karHn/xyQ58YUfj6mx4kZZ9oefJJ5/E6OgoXn31VQDAT37yEzgcDgiCgH/8x3/E5z73OZw7d67g\n",
              "ew8cOID9+/dLvtbb27vcrRARERFVHLVSgXZ7Ndrt1XlrsWQKrtnIVQ3kM8ftrtkIUmkBFz0h/Grw\n",
              "UtmFy2VVLg8ePIjnnnsOR44cgdlsLvgajUaDyclJWCyWvDVWLomIiIiWJ55MY9IXweRsBDc3GFGj\n",
              "L6/j8SVXLg8dOoSf//znkmCZTCbh9XqxYcMGAMAvfvELbNiwoWCwBAC1Wg21Wjo2SaHgkHgiIiKi\n",
              "j6JSyrHRqsdGq77UWyloSeHS5XLhO9/5Dtra2nD33XcDyATF1157DX/0R3+EWCwGuVwOq9WKX/3q\n",
              "VyuyYSIiIiIqX0sKl01NTbjWKfqJEyeKsiEiIiIiqlyV26GTiIiIiMoOwyURERERFQ3DJREREREV\n",
              "DcMlERERERUNwyURERERFQ3DJREREREVDcMlERERERUNwyURERERFQ3DJREREREVjUy41sidVfbA\n",
              "Aw+gtbV1Vf5dqVQKx48fx+23386Z5hWKn2Hl42dY2fj5VT5+hpWvFJ9hS0sL/uIv/uK6rymbcLma\n",
              "AoEATCYT/H4/jEZjqbdDy8DPsPLxM6xs/PwqHz/DyleunyGPxYmIiIioaBguiYiIiKhoGC6JiIiI\n",
              "qGjWZbhUq9X427/9W6jV6lJvhZaJn2Hl42dY2fj5VT5+hpWvXD/DdXmhh4iIiIhWxrqsXBIRERHR\n",
              "ymC4JCIiIqKiYbgkIiIioqJZ0+FyZGQEO3fuRGdnJz72sY/h7NmzBV/3L//yL+jo6MCmTZvw9a9/\n",
              "HYlEYpV3SteymM/wtddew+23344tW7bg5ptvxne/+12k0+kS7JauttjfgwAgCAI+8YlPwGw2r94G\n",
              "6SMt9jM8c+YM+vr6cNNNN+Gmm27Ciy++uMo7pWtZzGeYTqfx+OOPY8uWLdi+fTvuvvtujI6OlmC3\n",
              "dLVvf/vbaG1thUwmw6lTp675urLKMsIadvfddws/+tGPBEEQhP/4j/8QbrvttrzXXLhwQaivrxcu\n",
              "X74spNNp4fOf/7zw1FNPrfJO6VoW8xn+4Q9/EM6fPy8IgiBEIhHhzjvvFN9DpbWYz2/e//7f/1vY\n",
              "u3evYDKZVmdztCiL+QxDoZCwceNG4ejRo4IgCEIymRSmp6dXc5t0HYv5DF966SXh9ttvF+LxuCAI\n",
              "gvD9739fePDBB1dzm3QNAwMDgtPpFFpaWoSTJ08WfE25ZZk1Gy6vXLkiGAwGIZFICIIgCOl0Wtiw\n",
              "YYMwMjIied3/+l//S/jGN74h/vi3v/2tcOedd67qXqmwxX6GV/tv/+2/CX/7t3+7Cjuk61nK5/f+\n",
              "++8Lu3btEkZHRxkuy8hiP8N//ud/Fr785S+XYov0ERb7Gb788stCd3e3EAgEhHQ6LfyP//E/hL/6\n",
              "q78qxZbpGq4XLssty6zZY3Gn04n6+noolUoAgEwmQ3NzMyYmJiSvm5iYQEtLi/jj1tbWvNdQaSz2\n",
              "M8w1NTWFF154AZ/73OdWa5t0DYv9/BKJBL7+9a/jmWeegUKhKMVW6RoW+xmeO3cOarUan/vc59DT\n",
              "04OHH34Ybre7FFumqyz2M/z85z+Pvr4+1NXVob6+Hq+++ir+7u/+rhRbpmUotyyzZsMlrT+BQACf\n",
              "//zn8d3vfhe33XZbqbdDi7R//3488MADuOmmm0q9FVqmZDKJI0eO4JlnnsHJkyfR2NiIP//zPy/1\n",
              "tmgJTpw4gffffx+Tk5O4dOkSPvnJT+K//tf/WuptUYVas+HS4XDg8uXLSCaTADKXBSYmJtDc3Cx5\n",
              "XXNzM8bHx8Ufj42N5b2GSmOxnyEAzM3N4d5778X999+Pxx9/fLW3SgUs9vMbGBjA//k//wetra24\n",
              "6667EAgE0NrayspXGVjKf0fvvvtuNDY2QiaT4c/+7M/w+9//vhRbpqss9jN89tlnxQt1crkcjzzy\n",
              "CF5//fVSbJmWodyyzJoNl3a7Hbfccgt++tOfAgB+8YtfoKmpCe3t7ZLX/emf/il+9atfYWpqCoIg\n",
              "4P/+3/+Lhx56qBRbpqss9jMMBoO49957ce+99+Jv/uZvSrFVKmCxn9/Ro0cxPj6OsbExvPnmmzAa\n",
              "jRgbG4PNZivFtinHYj/DL33pS3j33XcRCAQAAK+88gq6u7tXfb+Ub7GfYVtbG1577TXE43EAwG9+\n",
              "8xts3bp11fdLy1N2WaZkT3uugg8//FDo7e0VOjo6hFtvvVU4ffq0IAiC8F/+y38RfvnLX4qv+6d/\n",
              "+iehra1NaGtrE/7zf/7P4m05Kr3FfIY/+MEPBKVSKXR3d4t//eAHPyjltilrsb8H5128eJEXesrM\n",
              "Yj/DZ599Vrj55puFbdu2Cffee68wMTFRqi3TVRbzGUajUWHv3r3C5s2bhW3btgmf/vSnxS4cVFqP\n",
              "PfaY0NjYKCgUCsFutwubNm0SBKG8swxnixMRERFR0azZY3EiIiIiWn0Ml0RERERUNAyXRERERFQ0\n",
              "DJdEREREVDQMl0RERERUNAyXRERERFQ0DJdEREREVDQMl0RERERUNAyXRERERFQ0DJdEREREVDQM\n",
              "l0RERERUNP8/Vvve6BiiV38AAAAASUVORK5CYII=\n",
              "\">\n",
              "      </div>\n",
              "      <script type=\"text/javascript\">\n",
              "        (() => {\n",
              "          const chartElement = document.getElementById(\"chart-9feca3f4-7d02-46ed-b4a0-239f77b4ec2a\");\n",
              "          async function getCodeForChartHandler(event) {\n",
              "            const chartCodeResponse =  await google.colab.kernel.invokeFunction(\n",
              "                'getCodeForChart', [\"chart-9feca3f4-7d02-46ed-b4a0-239f77b4ec2a\"], {});\n",
              "            const responseJson = chartCodeResponse.data['application/json'];\n",
              "            await google.colab.notebook.addCell(responseJson.code, 'code');\n",
              "          }\n",
              "          chartElement.onclick = getCodeForChartHandler;\n",
              "        })();\n",
              "      </script>\n",
              "      <style>\n",
              "        .colab-quickchart-chart-with-code  {\n",
              "            display: block;\n",
              "            float: left;\n",
              "            border: 1px solid transparent;\n",
              "        }\n",
              "\n",
              "        .colab-quickchart-chart-with-code:hover {\n",
              "            cursor: pointer;\n",
              "            border: 1px solid #aaa;\n",
              "        }\n",
              "      </style>"
            ]
          },
          "metadata": {}
        },
        {
          "output_type": "display_data",
          "data": {
            "text/plain": [
              "<google.colab._quickchart_helpers.SectionTitle at 0x797ae96f5f60>"
            ],
            "text/html": [
              "<h4 class=\"colab-quickchart-section-title\">Faceted distributions</h4>\n",
              "<style>\n",
              "  .colab-quickchart-section-title {\n",
              "      clear: both;\n",
              "  }\n",
              "</style>"
            ]
          },
          "metadata": {}
        },
        {
          "output_type": "stream",
          "name": "stderr",
          "text": [
            "<string>:5: FutureWarning: \n",
            "\n",
            "Passing `palette` without assigning `hue` is deprecated and will be removed in v0.14.0. Assign the `y` variable to `hue` and set `legend=False` for the same effect.\n",
            "\n"
          ]
        },
        {
          "output_type": "display_data",
          "data": {
            "text/plain": [
              "from matplotlib import pyplot as plt\n",
              "import seaborn as sns\n",
              "figsize = (12, 1.2 * len(_df_3['name'].unique()))\n",
              "plt.figure(figsize=figsize)\n",
              "sns.violinplot(_df_3, x='age', y='name', inner='stick', palette='Dark2')\n",
              "sns.despine(top=True, right=True, bottom=True, left=True)"
            ],
            "text/html": [
              "      <div class=\"colab-quickchart-chart-with-code\" id=\"chart-7876fccd-8500-48bb-91fc-dce28464a42b\">\n",
              "        <img style=\"width: 180px;\" src=\"data:image/png;base64,iVBORw0KGgoAAAANSUhEUgAAA/AAAAGkCAYAAACW387GAAAAOXRFWHRTb2Z0d2FyZQBNYXRwbG90\n",
              "bGliIHZlcnNpb24zLjguMCwgaHR0cHM6Ly9tYXRwbG90bGliLm9yZy81sbWrAAAACXBIWXMAAA9h\n",
              "AAAPYQGoP6dpAAAf+UlEQVR4nO3de5DV9X3/8dcBZNcqiwoKajDRWkC5LXeKUQqjMUZHLdoaTXTM\n",
              "VNvgWGIxLdKJEfUXsdFRo2ZqmmYw9dJJbDC28dJCaUyMVrGF0WrLoEiCMYAgFy+wCHx/f9hsRYG4\n",
              "uMvhsz4eM2dm93DO97zPfmbX8/T7/Z5Tq6qqCgAAALBX61LvAQAAAIDfTMADAABAAQQ8AAAAFEDA\n",
              "AwAAQAEEPAAAABRAwAMAAEABBDwAAAAUQMADAABAAQQ8AAAAFEDAAwAAQAEEPAAAABRAwAMAAEAB\n",
              "BDwAAAAUQMADAABAAQQ8AAAAFEDAAwAAQAEEPAAAABRAwAPUyZQpUzJlypR6jwEAQCG61XsAgI+q\n",
              "lStX1nsEAAAKYg88AAAAFEDAAwAAQAEEPAAAABRAwAMAAEABBDwAAAAUQMADAABAAQQ8AAAAFEDA\n",
              "AwAAQAEEPAAAABRAwAMAAEABBDwAAAAUQMADAABAAQQ8AAAAFEDAAwAAQAEEPAAAABRAwAMAAEAB\n",
              "BDwAAAAUQMADAABAAQQ8AAAAFEDAAwAAQAEEPAAAABRAwAMAAEABBDwAAAAUQMADAABAAQQ8AAAA\n",
              "FEDAAwAAQAEEPAAAABRAwAMAAEABBDwAAAAUQMADAABAAQQ8AAAAFEDAAwAAQAH2eMDXarWsW7du\n",
              "Tz8sAAAAFM0eeAAAAChAXQL+xhtvzPDhw9O/f//cc889rdcvWLAgkyZNyqhRozJ8+PDcd999SZIt\n",
              "W7bk5JNPzqhRozJo0KCcd955efPNN5MkP/7xjzN48OBMmTIlQ4cOzZAhQ/LMM8/kwgsvzJAhQzJ2\n",
              "7Nj88pe/3OksLS0t2bBhw3aXlpaWjv0BAAAAQBvVJeBrtVoWLlyYRx55JH/6p3+aZcuWZd26dfnj\n",
              "P/7j3HPPPXn66aczd+7cXH755fnlL3+Zrl275t57783TTz+d//qv/0rPnj1z2223tW7vf/7nf3LR\n",
              "RRflmWeeyZlnnplJkybliiuuyLPPPptRo0bllltu2ekss2bNSs+ePbe7zJo1aw/8FAAAAOCD61aP\n",
              "B73ooouSJEcddVROOOGE/OQnP0nv3r2zdOnSnHLKKdvddvHixTn00ENz880358EHH8yWLVuyfv36\n",
              "jB8/vvU2Rx99dEaOHJkkGTVqVI4++ugMHDgwSTJmzJjcf//9O51lxowZmTZt2nbXNTQ0tMvzBAAA\n",
              "gPZSl4B/r1qtlqqqMmjQoDz++OPv+/e777478+fPz6OPPpqmpqbceuutmT9/fuu/NzY2tn7dtWvX\n",
              "932/ZcuWnT52Q0ODYAcAAGCvV5dD6GfPnp0kWbZsWX7605/m+OOPz/jx4/PSSy9l3rx5rbdbtGhR\n",
              "Nm/enLVr16Z3795pamrK66+/njvvvLMeYwMAAEDd1GUP/NatWzN8+PC8+eabufXWW/OJT3wiSfLg\n",
              "gw/my1/+ci6//PK8/fbbOeKII/LDH/4wF1xwQR544IEMGDAgBx98cI4//vj8/Oc/r8foAAAAUBe1\n",
              "qqqqeg8B8FE0efLkJMmcOXPqPAkAACXwOfAAAABQAAEPAAAABRDwAAAAUAABDwAAAAUQ8AAAAFAA\n",
              "AQ8AAAAFEPAAAABQAAEPAAAABRDwAAAAUAABDwAAAAUQ8AAAAFAAAQ8AAAAFEPAAAABQAAEPAAAA\n",
              "BRDwAAAAUAABDwAAAAUQ8AAAAFAAAQ8AAAAFEPAAAABQAAEPAAAABRDwAAAAUAABDwAAAAUQ8AAA\n",
              "AFAAAQ8AAAAFEPAAAABQAAEPAAAABRDwAAAAUAABDwAAAAUQ8AAAAFAAAQ8AAAAFEPAAAABQgG71\n",
              "HgDgo6pPnz71HgEAgILUqqqq6j0EAAAAsGsOoQcAAIACCHgAAAAogIAHAACAAgh4AAAAKICABwAA\n",
              "gAIIeAAAACiAgAcAAIACCHgAAAAogIAHAACAAgh4AAAAKICABwAAgAIIeAAAACiAgAcAAIACCHgA\n",
              "AAAogIAHAACAAgh4AAAAKICAL9SUKVMyZcqUeo8BAADAHtKt3gOwe1auXFnvEQAAANiD7IEHAACA\n",
              "Agh4AAAAKICABwAAgAIIeAAAACiAgAcAAIACCHgAAAAogIAHAACAAgh4AAAAKICABwAAgAIIeAAA\n",
              "ACiAgAcAAIACCHgAAAAogIAHAACAAgh4AAAAKICABwAAgAIIeAAAACiAgAcAAIACCHgAAAAogIAH\n",
              "AACAAgh4AAAAKICABwAAgAIIeAAAACiAgAcAAIACCHgAAAAogIAHAACAAgh4AAAAKICABwAAgAII\n",
              "eAAAACiAgAcAAIACCHgAAAAogIAHAACAAgh4AAAAKICABwAAgAJ0aMA3Nzfn9ddfb7ft3XHHHbnh\n",
              "hhvabXsAAABQim4dufFFixa16/a++MUvtuv2AAAAoBQduge+Vqtl3bp1WbJkSU499dSMHj06Q4cO\n",
              "ze23354k2bhxY84555wce+yxGTZsWD71qU8lSZYsWZLjjjsuw4YNy5AhQ/KVr3wlSTJz5sxcdtll\n",
              "rdv/q7/6qwwZMiTDhg3LuHHj8tZbb2XFihWZOHFiRo4cmUGDBuXSSy/Ntm3bdjpjS0tLNmzYsN2l\n",
              "paWl434oAAAAsBs6dA98kmzdujXnnntu7r777gwcODBvvfVWxo0bl7Fjx+bll1/OunXr8vzzzydJ\n",
              "XnvttSTJ7bffntNOOy0zZszY7vp3++53v5sf/OAHeeyxx9KzZ8+sXbs2DQ0NOeCAA/JP//RP2X//\n",
              "/bN169acccYZ+f73v5/PfvazO5xv1qxZufrqq7e77qqrrsrMmTPb8acAAAAAH06HB/zixYvz3HPP\n",
              "bRfQr7/+ep5//vkcf/zx+e///u9ccsklmTBhQj7zmc8kSU444YT8+Z//ed54441MmDAhJ5544vu2\n",
              "+6Mf/Shf/OIX07NnzyTJgQcemOSdPerTp0/PY489lqqqsmrVqgwePHinAT9jxoxMmzZtu+saGhra\n",
              "5bkDAABAe+nwgK+qKgcddNBOz4d//vnnM3/+/MybNy9/8Rd/kUWLFuWss87K+PHjM3fu3Nx+++25\n",
              "5ZZb8tBDD32gx7vpppuyatWqPPnkk2lsbMy0adOyadOmnd6+oaFBsAMAALDX6/CPkRswYECampoy\n",
              "e/bs1uteeOGFvPbaa3n55ZdTq9Vy+umn58Ybb0xVVVm+fHmWLFmSPn365IILLsjXv/71/Pu///v7\n",
              "tnv66afnjjvuyPr165Mk69aty9atW7N27dr07ds3jY2NWbFiRe67776OfooAAADQ4Tp8D/w+++yT\n",
              "H/3oR7nsssty8803Z+vWrendu3fuvffePPvss5kxY0aqqsqWLVty/vnnZ+jQoZk1a1buvvvudO/e\n",
              "Pdu2bcsdd9zxvu2ef/75eeWVVzJ+/Ph069Yt++23X+bNm5cvfelLOfvsszNo0KAcdthhOzz8HgAA\n",
              "AEpTq6qq6ogNr1q1Kv369cvGjRvTpUuH7+j/yJk8eXKSZM6cOXWeBAAAgD2hQ8p6wYIFGTduXGbO\n",
              "nCneAQAAoB10yCH0o0ePztKlSzti0wAAAPCRZPc4AAAAFEDAAwAAQAEEPAAAABRAwAMAAEABBDwA\n",
              "AAAUQMADAABAAQQ8AAAAFEDAAwAAQAEEPAAAABRAwAMAAEABBDwAAAAUQMADAABAAQQ8AAAAFEDA\n",
              "AwAAQAEEPAAAABRAwAMAAEABBDwAAAAUQMADAABAAQQ8AAAAFEDAAwAAQAEEPAAAABRAwAMAAEAB\n",
              "BDwAAAAUQMADAABAAQQ8AAAAFGC3Av7tt9/Oiy++2N6zAAAAADvR5oD/8Y9/nI9//OOZOHFikmTB\n",
              "ggX5/Oc/3+6DAQAAAP+nzQF/xRVX5Kc//Wl69eqVJBk9enQWLlzY7oMBAAAA/6fNAb9169b89m//\n",
              "9nbXde/evd0GAgAAAN6vW1vv0NjYmDfeeCO1Wi1J8uyzz2bfffdt98HYtT59+tR7BAAAAPagWlVV\n",
              "VVvu8C//8i+ZOXNmXnzxxZx00kmZN29e7r333kyaNKmjZgQAAICPvDYHfJK89NJLeeSRR1JVVU4+\n",
              "+eT3HVIPAAAAtK/dCngAAABgz2rzm9j95Cc/yZgxY3LQQQelqakpPXr0SFNTU0fMBgAAAPyvNu+B\n",
              "HzBgQL72ta9lzJgx6dq1a+v1hx9+eLsPBwAAALyjze9C39TUlLPPPrsjZgEAAAB2os2H0J911lm5\n",
              "6667snnz5o6YBwAAANiBNgf8Mccck0suuST77rtvunbtmi5dumx3KD0AAADQ/tp8DvxRRx2Vv/3b\n",
              "v82oUaO2C/f99tuv3YcDAAAA3tHmc+APOeSQTJo0qSNmAQAAAHaizXvgr7vuujQ1NeUP//AP09jY\n",
              "2Hq9j5IDAACAjtPmgO/S5f9Om6/VaqmqKrVaLVu3bm334QAAAIB3tDngAQAAgD2vze9CDwAAAOx5\n",
              "bQ74JUuW5JRTTslhhx2Wgw46qPUCAAAAdJw2B/zFF1+cCy+8MAceeGAeffTRnH322fnyl7/cEbMB\n",
              "AAAA/6vN58CPGDEi//mf/5khQ4bk2WefTVVVGTt2bJ566qmOmhEAijNlypQkyV//9V/XeRIAoLNo\n",
              "8+fA77PPPkmSHj16ZNmyZenbt29Wr17d7oMBQMlWrlxZ7xEAgE6mzQF/wgknZM2aNbn00kszcuTI\n",
              "dO/ePZ/97Gc7YjYAAADgf32oj5Fbvnx51q9fn8GDB7fnTABQvMmTJydJ5syZU+dJAIDOYrc+Rm7b\n",
              "tm155ZVXUlVVmpqa8otf/KK95wIAAADepc2H0N95552ZOnVq9tlnn3Tp8k7/12q1rFq1qt2HAwAA\n",
              "AN7R5oC/9tprs2DBggwYMKAj5gEAAAB2oM2H0Pfu3Vu8AwAAwB7W5oA/88wzc8stt2TVqlXZsGFD\n",
              "6wUAAADoOG1+F/pfn/eevHPue1VVqdVq2bp1a7sPBwCl8i70AEB7a/M58Nu2beuIOQAAAIBd2K2P\n",
              "kQMAAAD2LAEPAAAABRDwAAAAUAABDwAAAAUQ8AAAAFAAAQ8AAAAFEPAAAABQAAEPAAAABRDwAAAA\n",
              "UAABDwAAAAUQ8AAAAFAAAQ8AAAAFEPAAAABQAAEPAAAABRDwAAAAUAABDwAAAAUQ8AAAAFAAAQ8A\n",
              "AAAFEPAAAABQAAEPAAAABRDwAAAAUAABDwAAAAUQ8AAAAFAAAQ8AAAAFKCrga7Va1q1b16b73HLL\n",
              "LVmxYkXHDAQAAAB7SFEBvzsEPAAAAJ1BkQFfVVWmT5+e008/PW+99VZuuummjB49Os3NzRk9enSe\n",
              "eOKJJMk111yTV155Jeecc06am5uzaNGi922rpaUlGzZs2O7S0tKyh58RAAAA7FpxAd/S0pJzzz03\n",
              "b7zxRu6///781m/9Vs4///wsWLAgixYtym233ZYvfOELSZKvfvWrOeyww/K9730vixYtSnNz8/u2\n",
              "N2vWrPTs2XO7y6xZs/bwswIAAIBd61bvAdrq1FNPzRlnnJErr7yy9bqFCxfma1/7WtasWZNu3bpl\n",
              "8eLF2bhxY/bdd9/fuL0ZM2Zk2rRp213X0NDQ7nMDAADAh1FcwE+aNClz587Nl770pTQ1NWXz5s2Z\n",
              "PHly/u3f/i2jR4/Ohg0b0rNnz7S0tHyggG9oaBDsAAAA7PWKO4T+L//yLzN58uSceOKJWbNmTTZt\n",
              "2pTNmzfniCOOSJLcdttt292+qakp69evr8eoAAAA0G6KC/gkueyyy3LxxRdn0qRJeeutt/L//t//\n",
              "y5gxYzJy5Mh07959u9tOnTo1F1988U7fxA4AAABKUKuqqqr3EADQ2UyePDlJMmfOnDpPAgB0FkXu\n",
              "gQcAAICPGgEPAAAABRDwAAAAUAABDwAAAAUQ8AAAAFAAAQ8AAAAFEPAAAABQAAEPAAAABRDwAAAA\n",
              "UAABDwAAAAUQ8AAAAFAAAQ8AAAAFEPAAAABQAAEPAAAABRDwAAAAUAABDwAAAAUQ8AAAAFAAAQ8A\n",
              "AAAFEPAAAABQAAEPAAAABRDwAAAAUAABDwAAAAUQ8AAAAFAAAQ8AAAAFEPAAAABQAAEPAAAABRDw\n",
              "AAAAUAABDwAAAAUQ8AAAAFAAAQ8AAAAFEPAAAABQgG71HgAAOqM+ffrUewQAoJOpVVVV1XsIAAAA\n",
              "YNccQg8AAAAFEPAAAABQAAEPAAAABRDwAAAAUAABDwAAAAUQ8AAAAFAAAQ8AAAAFEPAAAABQAAEP\n",
              "AAAABRDwAAAAUAABDwAAAAUQ8AAAAFAAAQ8AAAAFEPAAAABQAAEPAAAABRDwAAAAUAABDwAAQKcz\n",
              "ZcqUTJkypd5jtKtu9R4AAAAA2tvKlSvrPUK7swceAAAACiDgAQAAoAACHgAAAAog4AEAAKAAAh4A\n",
              "AAAKIOABAACgAAIeAAAACiDgAQAAoAACHgAAAAog4AEAAKAAAh4AAAAKIOABAACgAAIeAAAACiDg\n",
              "AQAAoAACHgAAAAog4AEAAKAAAh4AAAAKIOABAACgAAIeAAAACiDgAQAAoAACHgAAAAog4AEAAKAA\n",
              "Ah4AAAAKIOABAACgAAIeAAAACiDgAQAAoAACHgAAAAog4AEAAKAAAh4AAAAKIOABAACgAAIeAAAA\n",
              "CiDgAQAAoAB7ZcA3Nzfn9ddf3+m/L1u2LAcccMCeGwgAAADqrFu9B9iRRYsW1XsEAAAA2KvslXvg\n",
              "a7Va1q1bl6effjrjx4/P0KFDM2bMmPzsZz/b7nZXXXVVRo4cmaOPPjoPPfTQdve/7rrrMmbMmBx5\n",
              "5JGZPXv2nn4KAAAA0K72yoBPks2bN2fy5Mm56qqr8swzz+Smm27KWWedlTfeeCNJsn79+gwdOjT/\n",
              "8R//kdtvvz1/9md/tt39Gxoa8tRTT+Xhhx/O1KlTs2XLlh0+TktLSzZs2LDdpaWlpcOfHwAAALTF\n",
              "XhvwixcvTpcuXXLyyScnST75yU+mT58+rYfXNzY2ZvLkyUmS3/3d382LL7643f0/97nPJUkGDhyY\n",
              "bt26ZcWKFTt8nFmzZqVnz57bXWbNmtVBzwoAAAB2z155DvzO1Gq11q8bGhpav+/atWu2bt263W0b\n",
              "Gxtbv+7atetO98DPmDEj06ZN2+66hoaG9hoZAAAA2sVeuwd+wIAB2bZtW+bOnZskefzxx7NixYo0\n",
              "Nze36+M0NDSkqalpu4uABwAAYG+z1+6Bb2hoyJw5czJ16tRcfvnlaWxszD/8wz9k//33z+rVq+s9\n",
              "HgAAAOxRtaqqqnoP8W6rVq1Kv379snHjxnTpstceIAAAAMBe7NfvmTZnzpw6T9J+9qpCXrBgQcaN\n",
              "G5eZM2eKdwAAAHiXveoQ+tGjR2fp0qX1HgMAAAD2OnZzAwAAQAEEPAAAABRAwAMAAEABBDwAAAAU\n",
              "QMADAABAAQQ8AAAAFEDAAwAAQAEEPAAAABRAwAMAAEABBDwAAAAUQMADAABAAQQ8AAAAFEDAAwAA\n",
              "QAEEPAAAABRAwAMAAEABBDwAAAAUQMADAABAAQQ8AAAAFEDAAwAAQAEEPAAAABRAwAMAAEABBDwA\n",
              "AAAUQMADAABAAQQ8AAAAFEDAAwAAQAEEPAAAABRAwAMAAEABBDwAAAAUQMADAABAAQQ8AAAAFKBb\n",
              "vQcAAACA9tanT596j9DualVVVfUeAgAAANg1h9ADAABAAQQ8AAAAFEDAAwAAQAEEPAAAABRAwAMA\n",
              "AEABBDwAAAAUQMADAABAAQR8oVpaWjJz5sy0tLTUexQ6iDXu/Kxx52Z9Oz9r3PlZ487PGndunXF9\n",
              "a1VVVfUegrbbsGFDevbsmfXr16epqane49ABrHHnZ407N+vb+Vnjzs8ad37WuHPrjOtrDzwAAAAU\n",
              "QMADAABAAQQ8AAAAFEDAF6qhoSFXXXVVGhoa6j0KHcQad37WuHOzvp2fNe78rHHnZ407t864vt7E\n",
              "DgAAAApgDzwAAAAUQMADAABAAQQ8AAAAFEDAF2DTpk0588wz079//wwbNiwnnXRSXnjhhSTJ7/3e\n",
              "7+XII49Mc3Nzmpubc/PNN9d5WnbHrta4qqrMnDkz/fv3z5AhQzJx4sQ6T0tb7Wp9x44d2/r7O3jw\n",
              "4NRqtTzzzDN1npi22tUaP/XUUxk3blyGDx+eY445Jl//+tfrPC27Y1drvGDBghx33HEZNmxYmpub\n",
              "M3/+/DpPy+761Kc+laFDh6a5uTnHH398Fi5cmCRZsmRJxo8fn/79+2f06NF57rnn6jwpu2Nn6zt1\n",
              "6tR84hOfSK1Wy6JFi+o7JB/KjtZ4V3+/i1Sx19u4cWP14IMPVtu2bauqqqpuu+22asKECVVVVdWE\n",
              "CROq+++/v37D0S52tca33HJL9fu///tVS0tLVVVV9atf/apeY7KbdrW+73bfffdVgwcP3sPT0R52\n",
              "tcbDhg2rHnjggaqqqmrNmjXVwQcfXD333HP1GpXdtLM13rZtW3X44YdXc+fOraqqqhYvXlz169ev\n",
              "euutt+o5Lrtp7dq1rV/PmTOnGjp0aFVVVTVx4sRq9uzZVVW987d61KhRdZiOD2tn6/voo49Wy5cv\n",
              "rz7+8Y9XCxcurM9wtIsdrfEHfR1WCnvgC9DY2JjPfOYzqdVqSZJx48Zl2bJl9R2KdrWrNb7hhhty\n",
              "/fXXp3v37kmSvn371mtMdtMH/R3+zne+kz/6oz/aw9PRHna1xrVaLevWrUuSvPnmm+nevXsOOuig\n",
              "Ok3K7trZGq9ZsyavvvpqTjzxxCRJ//79c8ABB+Thhx+u57jspgMOOKD16/Xr16dWq2XVqlV5+umn\n",
              "8/nPfz5JctZZZ2X58uVl78H7iNrR+ibJCSeckI997GN1mor2tKM17mwtJeAL9I1vfCNnnHFG6/dX\n",
              "XHFFhgwZknPOOSdLly6t42S0l1+v8YYNG7Jy5co88MADGTt2bMaOHZvvfe979R6PD+m9v8NJsnz5\n",
              "8jz66KOtLxAp27vXePbs2bnyyitzxBFHpH///rnuuuv8j7hO4Ndr3Lt37xx66KH5/ve/n+Sdw+kX\n",
              "L15c9IvDj7oLLrgg/fr1y5VXXpm77rory5cvz6GHHppu3boleed/yh1xxBH5xS9+UedJ2R3vXV86\n",
              "n9+0xjt6HVaSbvUegLa57rrr8sILL+Rf//VfkyR33XVX+vXrl6qq8s1vfjOnnXZann/++TpPyYfx\n",
              "7jXetGlTtmzZko0bN+bJJ5/MsmXLMn78+AwcODDDhg2r96jshvf+Dv/anXfemdNOOy29e/eu02S0\n",
              "l/eu8fXXX59Zs2blvPPOy9KlSzNhwoSMGjUqxx57bJ0nZXe9d40feOCBTJ8+PbNmzcqgQYPyyU9+\n",
              "sjX2KM/f/d3fJUm++93vZvr06bn22mvrPBHt6b3r+9BDD9V5ItrbrtZ4Z6/DilLvY/j54G644YZq\n",
              "5MiR253b8V4NDQ3V6tWr99xQtKsdrfH+++9fvfjii63fn3322dW3v/3tOkzHh7Wz3+Ft27ZVRx55\n",
              "ZPXII4/UZzDazXvX+NVXX626d+++3W3OPvvs6m/+5m/qMB3t4YP8t3jgwIHVvHnz9txQdJjGxsZq\n",
              "xYoVVY8ePaq33367qqp3/mb36dOnWrJkSZ2n48NqbGzc7nWzc+A7n3ev8Qf5+10Ch9AX4qabbsrf\n",
              "//3fZ+7cua3ndmzZsiUrV65svc0PfvCD9OnTJ7169arTlHwYO1rjJDn33HPzyCOPJElee+21PPXU\n",
              "Uxk6dGidpmR37Wx9k2T+/PnZsmVLTjrppPoMR7vY0RofeOCB2W+//VrflXz16tV58sknM3jw4DpO\n",
              "yu7a2e/xr371q9avv/3tb2e//fbLpEmT6jAhH8a6devyyiuvtH7/wx/+ML169cohhxySESNG5O67\n",
              "707yzuutj33sYzn66KPrNSq7YWfr6z1JOo9drfGuXoeVplZVVVXvIdi1l19+Of369ctRRx2VHj16\n",
              "JEkaGhoyf/78TJgwIS0tLenSpUt69+6dm266yaHVBdrZGj/55JNZs2ZNvvCFL7S+v8Ell1ySSy65\n",
              "pJ7j0ka7Wt8kOe+88/I7v/M7ufrqq+s5Jh/CrtZ43rx5mT59erZs2ZK33347F110UaZNm1bniWmr\n",
              "Xa3x1VdfnXvuuSdVVeWYY47JN7/5zfTr16/OE9NWP//5z/MHf/AH2bhxY7p06ZKDDz44N954Y5qb\n",
              "m7N48eJceOGFWbNmTZqamjJ79uwMGTKk3iPTBrta3z/5kz/Jgw8+mBUrVqRXr17p0aOHNyks0M7W\n",
              "uHfv3rt8HVYaAQ8AAAAFcAg9AAAAFEDAAwAAQAEEPAAAABRAwAMAAEABBDwAAAAUQMADAB/I5z73\n",
              "uYwaNSpDhw7NqaeemhUrViRJvvWtb6V///4ZMWJErr322tRqtdb7LFiwIJMmTcqoUaMyfPjw3Hff\n",
              "ffUaHwCK52PkAIAP5NVXX83BBx+cJLn++uuzbNmyXHrppTnppJOycOHC9O3bN1dddVWuueaaVFWV\n",
              "devWZeLEiXnooYdy6KGHZvXq1RkxYkSeeOKJHH744XV+NgBQnm71HgAAKMO9996bu+66K5s2bcqm\n",
              "TZvSu3fvzJ8/P5/+9KfTt2/fJMnFF1+ca665Jkny+OOPZ+nSpTnllFO2287ixYsFPADsBgEPAPxG\n",
              "jz32WG699dY88cQTOeSQQ/KP//iP+epXv/q+27378PmqqjJo0KA8/vjje3JUAOi0nAMPAPxGa9eu\n",
              "TY8ePdKrV69s3rw53/rWt5IkEydOzD//8z9n1apVSZLvfOc7rfcZP358XnrppcybN6/1ukWLFmXz\n",
              "5s17dngA6CQEPADwG33605/OgAEDMmDAgBx//PFpbm5OkgwZMiRf+cpXctxxx2XEiBHZtGlTevbs\n",
              "mSQ58MAD8+CDD+a6667LsGHDcuyxx+aKK67Itm3b6vhMAKBc3sQOAPhQXn/99fTo0SNJ8o1vfCOP\n",
              "PPJIHn744TpPBQCdj3PgAYAP5YorrsjPfvazvP322znssMNaD68HANqXPfAAAABQAOfAAwAAQAEE\n",
              "PAAAABRAwAMAAEABBDwAAAAUQMADAABAAQQ8AAAAFEDAAwAAQAEEPAAAABTg/wM6nW7/dP4k2gAA\n",
              "AABJRU5ErkJggg==\n",
              "\">\n",
              "      </div>\n",
              "      <script type=\"text/javascript\">\n",
              "        (() => {\n",
              "          const chartElement = document.getElementById(\"chart-7876fccd-8500-48bb-91fc-dce28464a42b\");\n",
              "          async function getCodeForChartHandler(event) {\n",
              "            const chartCodeResponse =  await google.colab.kernel.invokeFunction(\n",
              "                'getCodeForChart', [\"chart-7876fccd-8500-48bb-91fc-dce28464a42b\"], {});\n",
              "            const responseJson = chartCodeResponse.data['application/json'];\n",
              "            await google.colab.notebook.addCell(responseJson.code, 'code');\n",
              "          }\n",
              "          chartElement.onclick = getCodeForChartHandler;\n",
              "        })();\n",
              "      </script>\n",
              "      <style>\n",
              "        .colab-quickchart-chart-with-code  {\n",
              "            display: block;\n",
              "            float: left;\n",
              "            border: 1px solid transparent;\n",
              "        }\n",
              "\n",
              "        .colab-quickchart-chart-with-code:hover {\n",
              "            cursor: pointer;\n",
              "            border: 1px solid #aaa;\n",
              "        }\n",
              "      </style>"
            ]
          },
          "metadata": {}
        }
      ]
    },
    {
      "cell_type": "code",
      "source": [
        "# numerical python\n",
        "import numpy as np\n",
        "\n",
        "gpa = [3.4, 3.2, 2.7, 3.7, 2.5]\n",
        "\n",
        "gpa = np.array(gpa)"
      ],
      "metadata": {
        "id": "FJKnLJV0QJJ7"
      },
      "execution_count": null,
      "outputs": []
    },
    {
      "cell_type": "code",
      "source": [
        "print(gpa.sum())\n",
        "print(np.sum(gpa))"
      ],
      "metadata": {
        "colab": {
          "base_uri": "https://localhost:8080/"
        },
        "id": "T_vj8xP3Qzzq",
        "outputId": "0f0f96a0-b943-45bc-e224-fb742fa220cd"
      },
      "execution_count": null,
      "outputs": [
        {
          "output_type": "stream",
          "name": "stdout",
          "text": [
            "15.5\n",
            "15.5\n"
          ]
        }
      ]
    },
    {
      "cell_type": "code",
      "source": [],
      "metadata": {
        "id": "4jIYARJjQ2Hr"
      },
      "execution_count": null,
      "outputs": []
    }
  ]
}